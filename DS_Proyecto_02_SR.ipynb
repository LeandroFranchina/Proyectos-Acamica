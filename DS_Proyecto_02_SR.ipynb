{
 "cells": [
  {
   "cell_type": "markdown",
   "metadata": {
    "id": "gzJLet17WTzh"
   },
   "source": [
    "# Proyecto 03 - Sistemas de Recomendación\n",
    "\n",
    "## Dataset: STEAM\n",
    "\n",
    "**Recuerda descargar el dataset de [aquí](https://github.com/kang205/SASRec). Son dos archivos, uno de calificaciones y otro de información sobre los juegos.**\n",
    "\n",
    "En este notebook te dejamos unas celdas para que puedas comenzar a trabajar con este dataset. Sin embargo, **deberás** modificarlas para hacer un mejor manejo de datos. Algunas cosas a las que deberás prestar atención (tal vez no a todas):\n",
    "1. Tipos de datos: elige tipos de datos apropiados para cada columna.\n",
    "2. Descartar columnas poco informativas.\n",
    "3. Guardar en memoria datasets preprocesados para no tener que repetir código que tarde en correr.\n",
    "\n",
    "### Exploración de datos\n",
    "\n",
    "Dedícale un buen tiempo a hacer un Análisis Exploratorio de Datos. Elige preguntas que creas que puedas responder con este dataset. Por ejemplo, ¿cuáles son los juegos más populares?¿Y los menos populares?\n",
    "\n",
    "### Filtro Colaborativo\n",
    "\n",
    "Deberás implementar un sistema de recomendación colaborativo para este dataset. Ten en cuenta:\n",
    "\n",
    "1. Haz todas las transformaciones de datos que consideres necesarias. Justifica.\n",
    "1. Evalúa de forma apropiada sus resultados. Justifica la métrica elegida.\n",
    "1. Elige un modelo benchmark y compara tus resultados con este modelo.\n",
    "1. Optimiza los hiperparámetros de tu modelo.\n",
    "\n",
    "Puedes implementar un filtro colaborativo a partir de la similitud coseno o índice de Jaccard. ¿Puedes utilizar los métodos de la librería Surprise? Si no es así, busca implementaciones (por ejemplo, nuevas librerías) que sean apropiadas.\n",
    "\n",
    "Para comenzar a trabajar, puedes asumir que cada entrada es un enlace entre una persona usuaria y un item, **independientemente** de si la crítica es buena o mala. \n",
    "\n",
    "### Para pensar, investigar y, opcionalmente, implementar\n",
    "1. ¿Cómo harías para ponerle un valor a la calificación?\n",
    "1. ¿Cómo harías para agregar contenido? Por ejemplo, cuentas con el género, precio, fecha de lanzamiento y más información de los juegos.\n",
    "1. ¿Hay algo que te gustaría investigar o probar?\n",
    "\n",
    "### **¡Tómate tiempo para investigar y leer mucho!**"
   ]
  },
  {
   "cell_type": "code",
   "execution_count": 1,
   "metadata": {
    "id": "lWZhtUxEWTzj"
   },
   "outputs": [],
   "source": [
    "import gzip\n",
    "import pandas as pd\n",
    "import numpy as np\n",
    "import re\n",
    "import itertools\n",
    "\n",
    "\n",
    "def parse(path):\n",
    "    g = gzip.open(path, 'r')\n",
    "    for l in g:\n",
    "        yield eval(l)"
   ]
  },
  {
   "cell_type": "markdown",
   "metadata": {
    "id": "BmEM25k4WTzw"
   },
   "source": [
    "**Reviews**"
   ]
  },
  {
   "cell_type": "code",
   "execution_count": 2,
   "metadata": {
    "id": "abAXItn1WTz0"
   },
   "outputs": [],
   "source": [
    "contador = 0\n",
    "data_reviews = []\n",
    "# Vamos a guardar una de cada 10 reviews para no llenar la memoria RAM. Si pones n = 3, \n",
    "# abrira uno de cada tres, y asi.\n",
    "n = 10\n",
    "for l in parse('steam_reviews.json.gz'):\n",
    "    if contador%n == 0:\n",
    "        data_reviews.append(l)\n",
    "    else:\n",
    "        pass\n",
    "    contador += 1\n"
   ]
  },
  {
   "cell_type": "code",
   "execution_count": 3,
   "metadata": {
    "id": "7GovAZQBWTz8"
   },
   "outputs": [],
   "source": [
    "data_reviews = pd.DataFrame(data_reviews)"
   ]
  },
  {
   "cell_type": "code",
   "execution_count": 4,
   "metadata": {
    "id": "j24F0ZaYWT0E"
   },
   "outputs": [
    {
     "data": {
      "text/html": [
       "<div>\n",
       "<style scoped>\n",
       "    .dataframe tbody tr th:only-of-type {\n",
       "        vertical-align: middle;\n",
       "    }\n",
       "\n",
       "    .dataframe tbody tr th {\n",
       "        vertical-align: top;\n",
       "    }\n",
       "\n",
       "    .dataframe thead th {\n",
       "        text-align: right;\n",
       "    }\n",
       "</style>\n",
       "<table border=\"1\" class=\"dataframe\">\n",
       "  <thead>\n",
       "    <tr style=\"text-align: right;\">\n",
       "      <th></th>\n",
       "      <th>username</th>\n",
       "      <th>hours</th>\n",
       "      <th>products</th>\n",
       "      <th>product_id</th>\n",
       "      <th>page_order</th>\n",
       "      <th>date</th>\n",
       "      <th>text</th>\n",
       "      <th>early_access</th>\n",
       "      <th>page</th>\n",
       "      <th>user_id</th>\n",
       "      <th>compensation</th>\n",
       "      <th>found_funny</th>\n",
       "    </tr>\n",
       "  </thead>\n",
       "  <tbody>\n",
       "    <tr>\n",
       "      <th>0</th>\n",
       "      <td>Chaos Syren</td>\n",
       "      <td>0.1</td>\n",
       "      <td>41.0</td>\n",
       "      <td>725280</td>\n",
       "      <td>0</td>\n",
       "      <td>2017-12-17</td>\n",
       "      <td>This would not be acceptable as an entertainme...</td>\n",
       "      <td>False</td>\n",
       "      <td>1</td>\n",
       "      <td>NaN</td>\n",
       "      <td>NaN</td>\n",
       "      <td>NaN</td>\n",
       "    </tr>\n",
       "    <tr>\n",
       "      <th>1</th>\n",
       "      <td>Ariman1</td>\n",
       "      <td>13.2</td>\n",
       "      <td>1386.0</td>\n",
       "      <td>328100</td>\n",
       "      <td>2</td>\n",
       "      <td>2017-08-02</td>\n",
       "      <td>Addictive RPG ! Works fine on linux though it ...</td>\n",
       "      <td>False</td>\n",
       "      <td>1</td>\n",
       "      <td>NaN</td>\n",
       "      <td>NaN</td>\n",
       "      <td>NaN</td>\n",
       "    </tr>\n",
       "    <tr>\n",
       "      <th>2</th>\n",
       "      <td>freakfantom</td>\n",
       "      <td>0.1</td>\n",
       "      <td>1706.0</td>\n",
       "      <td>725280</td>\n",
       "      <td>5</td>\n",
       "      <td>2017-11-12</td>\n",
       "      <td>Прикольная стрелялка. Взял дешево на распродаже.</td>\n",
       "      <td>False</td>\n",
       "      <td>1</td>\n",
       "      <td>NaN</td>\n",
       "      <td>NaN</td>\n",
       "      <td>NaN</td>\n",
       "    </tr>\n",
       "    <tr>\n",
       "      <th>3</th>\n",
       "      <td>The_Cpt_FROGGY</td>\n",
       "      <td>7.8</td>\n",
       "      <td>2217.0</td>\n",
       "      <td>631920</td>\n",
       "      <td>0</td>\n",
       "      <td>2017-12-11</td>\n",
       "      <td>Somewhere on Zibylon:\\n~~~~~~~~~~~~~~~~~~\\nZib...</td>\n",
       "      <td>False</td>\n",
       "      <td>1</td>\n",
       "      <td>76561198003030375</td>\n",
       "      <td>Product received for free</td>\n",
       "      <td>NaN</td>\n",
       "    </tr>\n",
       "    <tr>\n",
       "      <th>4</th>\n",
       "      <td>the_maker988</td>\n",
       "      <td>8.2</td>\n",
       "      <td>18.0</td>\n",
       "      <td>35140</td>\n",
       "      <td>7</td>\n",
       "      <td>2018-01-02</td>\n",
       "      <td>This game was way to linear for me, and compar...</td>\n",
       "      <td>False</td>\n",
       "      <td>1</td>\n",
       "      <td>76561198353396844</td>\n",
       "      <td>NaN</td>\n",
       "      <td>NaN</td>\n",
       "    </tr>\n",
       "  </tbody>\n",
       "</table>\n",
       "</div>"
      ],
      "text/plain": [
       "         username  hours  products product_id  page_order        date  \\\n",
       "0     Chaos Syren    0.1      41.0     725280           0  2017-12-17   \n",
       "1         Ariman1   13.2    1386.0     328100           2  2017-08-02   \n",
       "2     freakfantom    0.1    1706.0     725280           5  2017-11-12   \n",
       "3  The_Cpt_FROGGY    7.8    2217.0     631920           0  2017-12-11   \n",
       "4    the_maker988    8.2      18.0      35140           7  2018-01-02   \n",
       "\n",
       "                                                text  early_access  page  \\\n",
       "0  This would not be acceptable as an entertainme...         False     1   \n",
       "1  Addictive RPG ! Works fine on linux though it ...         False     1   \n",
       "2   Прикольная стрелялка. Взял дешево на распродаже.         False     1   \n",
       "3  Somewhere on Zibylon:\\n~~~~~~~~~~~~~~~~~~\\nZib...         False     1   \n",
       "4  This game was way to linear for me, and compar...         False     1   \n",
       "\n",
       "             user_id               compensation  found_funny  \n",
       "0                NaN                        NaN          NaN  \n",
       "1                NaN                        NaN          NaN  \n",
       "2                NaN                        NaN          NaN  \n",
       "3  76561198003030375  Product received for free          NaN  \n",
       "4  76561198353396844                        NaN          NaN  "
      ]
     },
     "execution_count": 4,
     "metadata": {},
     "output_type": "execute_result"
    }
   ],
   "source": [
    "data_reviews.head()"
   ]
  },
  {
   "cell_type": "code",
   "execution_count": 5,
   "metadata": {
    "id": "8F-EVRZ4WT0L"
   },
   "outputs": [
    {
     "data": {
      "text/plain": [
       "username             0\n",
       "hours             2637\n",
       "products          1566\n",
       "product_id           0\n",
       "page_order           0\n",
       "date                 0\n",
       "text                 0\n",
       "early_access         0\n",
       "page                 0\n",
       "user_id         461967\n",
       "compensation    764719\n",
       "found_funny     659143\n",
       "dtype: int64"
      ]
     },
     "execution_count": 5,
     "metadata": {},
     "output_type": "execute_result"
    }
   ],
   "source": [
    "data_reviews.isna().sum()"
   ]
  },
  {
   "cell_type": "code",
   "execution_count": 6,
   "metadata": {},
   "outputs": [
    {
     "data": {
      "text/html": [
       "<div>\n",
       "<style scoped>\n",
       "    .dataframe tbody tr th:only-of-type {\n",
       "        vertical-align: middle;\n",
       "    }\n",
       "\n",
       "    .dataframe tbody tr th {\n",
       "        vertical-align: top;\n",
       "    }\n",
       "\n",
       "    .dataframe thead th {\n",
       "        text-align: right;\n",
       "    }\n",
       "</style>\n",
       "<table border=\"1\" class=\"dataframe\">\n",
       "  <thead>\n",
       "    <tr style=\"text-align: right;\">\n",
       "      <th></th>\n",
       "      <th>Porcentaje de valores faltantes</th>\n",
       "    </tr>\n",
       "  </thead>\n",
       "  <tbody>\n",
       "    <tr>\n",
       "      <th>username</th>\n",
       "      <td>0.000</td>\n",
       "    </tr>\n",
       "    <tr>\n",
       "      <th>hours</th>\n",
       "      <td>0.338</td>\n",
       "    </tr>\n",
       "    <tr>\n",
       "      <th>products</th>\n",
       "      <td>0.201</td>\n",
       "    </tr>\n",
       "    <tr>\n",
       "      <th>product_id</th>\n",
       "      <td>0.000</td>\n",
       "    </tr>\n",
       "    <tr>\n",
       "      <th>page_order</th>\n",
       "      <td>0.000</td>\n",
       "    </tr>\n",
       "    <tr>\n",
       "      <th>date</th>\n",
       "      <td>0.000</td>\n",
       "    </tr>\n",
       "    <tr>\n",
       "      <th>text</th>\n",
       "      <td>0.000</td>\n",
       "    </tr>\n",
       "    <tr>\n",
       "      <th>early_access</th>\n",
       "      <td>0.000</td>\n",
       "    </tr>\n",
       "    <tr>\n",
       "      <th>page</th>\n",
       "      <td>0.000</td>\n",
       "    </tr>\n",
       "    <tr>\n",
       "      <th>user_id</th>\n",
       "      <td>59.279</td>\n",
       "    </tr>\n",
       "    <tr>\n",
       "      <th>compensation</th>\n",
       "      <td>98.128</td>\n",
       "    </tr>\n",
       "    <tr>\n",
       "      <th>found_funny</th>\n",
       "      <td>84.581</td>\n",
       "    </tr>\n",
       "  </tbody>\n",
       "</table>\n",
       "</div>"
      ],
      "text/plain": [
       "              Porcentaje de valores faltantes\n",
       "username                                0.000\n",
       "hours                                   0.338\n",
       "products                                0.201\n",
       "product_id                              0.000\n",
       "page_order                              0.000\n",
       "date                                    0.000\n",
       "text                                    0.000\n",
       "early_access                            0.000\n",
       "page                                    0.000\n",
       "user_id                                59.279\n",
       "compensation                           98.128\n",
       "found_funny                            84.581"
      ]
     },
     "execution_count": 6,
     "metadata": {},
     "output_type": "execute_result"
    }
   ],
   "source": [
    "round(data_reviews.isna().sum().to_frame('Porcentaje de valores faltantes')*100/len(data_reviews),3)"
   ]
  },
  {
   "cell_type": "code",
   "execution_count": 7,
   "metadata": {},
   "outputs": [],
   "source": [
    "# Por lo pronto, procedemos a eliminar las últimas dos columnas que tienen valores faltantes en prácticamente todas las instancias.\n",
    "\n",
    "data_reviews.drop(columns = ['found_funny', 'compensation'], inplace = True)"
   ]
  },
  {
   "cell_type": "code",
   "execution_count": 8,
   "metadata": {},
   "outputs": [
    {
     "data": {
      "text/plain": [
       "username             0\n",
       "hours             2637\n",
       "products          1566\n",
       "product_id           0\n",
       "page_order           0\n",
       "date                 0\n",
       "text                 0\n",
       "early_access         0\n",
       "page                 0\n",
       "user_id         461967\n",
       "dtype: int64"
      ]
     },
     "execution_count": 8,
     "metadata": {},
     "output_type": "execute_result"
    }
   ],
   "source": [
    "data_reviews.isna().sum()"
   ]
  },
  {
   "cell_type": "markdown",
   "metadata": {
    "id": "04ed3teRWT0T"
   },
   "source": [
    "**Games**"
   ]
  },
  {
   "cell_type": "code",
   "execution_count": 9,
   "metadata": {
    "id": "8wRb24Y5WT0U"
   },
   "outputs": [],
   "source": [
    "data_games = []\n",
    "for l in parse('steam_games.json.gz'):\n",
    "    data_games.append(l)\n",
    "data_games = pd.DataFrame(data_games)"
   ]
  },
  {
   "cell_type": "code",
   "execution_count": 10,
   "metadata": {
    "id": "sVR0Cs6SWT0b"
   },
   "outputs": [
    {
     "data": {
      "text/html": [
       "<div>\n",
       "<style scoped>\n",
       "    .dataframe tbody tr th:only-of-type {\n",
       "        vertical-align: middle;\n",
       "    }\n",
       "\n",
       "    .dataframe tbody tr th {\n",
       "        vertical-align: top;\n",
       "    }\n",
       "\n",
       "    .dataframe thead th {\n",
       "        text-align: right;\n",
       "    }\n",
       "</style>\n",
       "<table border=\"1\" class=\"dataframe\">\n",
       "  <thead>\n",
       "    <tr style=\"text-align: right;\">\n",
       "      <th></th>\n",
       "      <th>publisher</th>\n",
       "      <th>genres</th>\n",
       "      <th>app_name</th>\n",
       "      <th>title</th>\n",
       "      <th>url</th>\n",
       "      <th>release_date</th>\n",
       "      <th>tags</th>\n",
       "      <th>discount_price</th>\n",
       "      <th>reviews_url</th>\n",
       "      <th>specs</th>\n",
       "      <th>price</th>\n",
       "      <th>early_access</th>\n",
       "      <th>id</th>\n",
       "      <th>developer</th>\n",
       "      <th>sentiment</th>\n",
       "      <th>metascore</th>\n",
       "    </tr>\n",
       "  </thead>\n",
       "  <tbody>\n",
       "    <tr>\n",
       "      <th>0</th>\n",
       "      <td>Kotoshiro</td>\n",
       "      <td>[Action, Casual, Indie, Simulation, Strategy]</td>\n",
       "      <td>Lost Summoner Kitty</td>\n",
       "      <td>Lost Summoner Kitty</td>\n",
       "      <td>http://store.steampowered.com/app/761140/Lost_...</td>\n",
       "      <td>2018-01-04</td>\n",
       "      <td>[Strategy, Action, Indie, Casual, Simulation]</td>\n",
       "      <td>4.49</td>\n",
       "      <td>http://steamcommunity.com/app/761140/reviews/?...</td>\n",
       "      <td>[Single-player]</td>\n",
       "      <td>4.99</td>\n",
       "      <td>False</td>\n",
       "      <td>761140</td>\n",
       "      <td>Kotoshiro</td>\n",
       "      <td>NaN</td>\n",
       "      <td>NaN</td>\n",
       "    </tr>\n",
       "    <tr>\n",
       "      <th>1</th>\n",
       "      <td>Making Fun, Inc.</td>\n",
       "      <td>[Free to Play, Indie, RPG, Strategy]</td>\n",
       "      <td>Ironbound</td>\n",
       "      <td>Ironbound</td>\n",
       "      <td>http://store.steampowered.com/app/643980/Ironb...</td>\n",
       "      <td>2018-01-04</td>\n",
       "      <td>[Free to Play, Strategy, Indie, RPG, Card Game...</td>\n",
       "      <td>NaN</td>\n",
       "      <td>http://steamcommunity.com/app/643980/reviews/?...</td>\n",
       "      <td>[Single-player, Multi-player, Online Multi-Pla...</td>\n",
       "      <td>Free To Play</td>\n",
       "      <td>False</td>\n",
       "      <td>643980</td>\n",
       "      <td>Secret Level SRL</td>\n",
       "      <td>Mostly Positive</td>\n",
       "      <td>NaN</td>\n",
       "    </tr>\n",
       "  </tbody>\n",
       "</table>\n",
       "</div>"
      ],
      "text/plain": [
       "          publisher                                         genres  \\\n",
       "0         Kotoshiro  [Action, Casual, Indie, Simulation, Strategy]   \n",
       "1  Making Fun, Inc.           [Free to Play, Indie, RPG, Strategy]   \n",
       "\n",
       "              app_name                title  \\\n",
       "0  Lost Summoner Kitty  Lost Summoner Kitty   \n",
       "1            Ironbound            Ironbound   \n",
       "\n",
       "                                                 url release_date  \\\n",
       "0  http://store.steampowered.com/app/761140/Lost_...   2018-01-04   \n",
       "1  http://store.steampowered.com/app/643980/Ironb...   2018-01-04   \n",
       "\n",
       "                                                tags  discount_price  \\\n",
       "0      [Strategy, Action, Indie, Casual, Simulation]            4.49   \n",
       "1  [Free to Play, Strategy, Indie, RPG, Card Game...             NaN   \n",
       "\n",
       "                                         reviews_url  \\\n",
       "0  http://steamcommunity.com/app/761140/reviews/?...   \n",
       "1  http://steamcommunity.com/app/643980/reviews/?...   \n",
       "\n",
       "                                               specs         price  \\\n",
       "0                                    [Single-player]          4.99   \n",
       "1  [Single-player, Multi-player, Online Multi-Pla...  Free To Play   \n",
       "\n",
       "   early_access      id         developer        sentiment metascore  \n",
       "0         False  761140         Kotoshiro              NaN       NaN  \n",
       "1         False  643980  Secret Level SRL  Mostly Positive       NaN  "
      ]
     },
     "execution_count": 10,
     "metadata": {},
     "output_type": "execute_result"
    }
   ],
   "source": [
    "data_games.head(2)"
   ]
  },
  {
   "cell_type": "code",
   "execution_count": 11,
   "metadata": {
    "id": "Bt5BLCw5WT0g"
   },
   "outputs": [
    {
     "data": {
      "text/html": [
       "<div>\n",
       "<style scoped>\n",
       "    .dataframe tbody tr th:only-of-type {\n",
       "        vertical-align: middle;\n",
       "    }\n",
       "\n",
       "    .dataframe tbody tr th {\n",
       "        vertical-align: top;\n",
       "    }\n",
       "\n",
       "    .dataframe thead th {\n",
       "        text-align: right;\n",
       "    }\n",
       "</style>\n",
       "<table border=\"1\" class=\"dataframe\">\n",
       "  <thead>\n",
       "    <tr style=\"text-align: right;\">\n",
       "      <th></th>\n",
       "      <th>publisher</th>\n",
       "      <th>genres</th>\n",
       "      <th>app_name</th>\n",
       "      <th>title</th>\n",
       "      <th>url</th>\n",
       "      <th>release_date</th>\n",
       "      <th>tags</th>\n",
       "      <th>discount_price</th>\n",
       "      <th>reviews_url</th>\n",
       "      <th>specs</th>\n",
       "      <th>price</th>\n",
       "      <th>early_access</th>\n",
       "      <th>id</th>\n",
       "      <th>developer</th>\n",
       "      <th>sentiment</th>\n",
       "      <th>metascore</th>\n",
       "    </tr>\n",
       "  </thead>\n",
       "  <tbody>\n",
       "    <tr>\n",
       "      <th>31617</th>\n",
       "      <td>Warner Bros. Interactive Entertainment, Feral ...</td>\n",
       "      <td>[Action, Adventure]</td>\n",
       "      <td>Batman: Arkham Asylum Game of the Year Edition</td>\n",
       "      <td>Batman: Arkham Asylum Game of the Year Edition</td>\n",
       "      <td>http://store.steampowered.com/app/35140/Batman...</td>\n",
       "      <td>2010-03-26</td>\n",
       "      <td>[Action, Batman, Stealth, Adventure, Third Per...</td>\n",
       "      <td>NaN</td>\n",
       "      <td>http://steamcommunity.com/app/35140/reviews/?b...</td>\n",
       "      <td>[Single-player, Steam Achievements, Steam Trad...</td>\n",
       "      <td>19.99</td>\n",
       "      <td>False</td>\n",
       "      <td>35140</td>\n",
       "      <td>Rocksteady Studios,Feral Interactive (Mac)</td>\n",
       "      <td>Overwhelmingly Positive</td>\n",
       "      <td>91</td>\n",
       "    </tr>\n",
       "  </tbody>\n",
       "</table>\n",
       "</div>"
      ],
      "text/plain": [
       "                                               publisher               genres  \\\n",
       "31617  Warner Bros. Interactive Entertainment, Feral ...  [Action, Adventure]   \n",
       "\n",
       "                                             app_name  \\\n",
       "31617  Batman: Arkham Asylum Game of the Year Edition   \n",
       "\n",
       "                                                title  \\\n",
       "31617  Batman: Arkham Asylum Game of the Year Edition   \n",
       "\n",
       "                                                     url release_date  \\\n",
       "31617  http://store.steampowered.com/app/35140/Batman...   2010-03-26   \n",
       "\n",
       "                                                    tags  discount_price  \\\n",
       "31617  [Action, Batman, Stealth, Adventure, Third Per...             NaN   \n",
       "\n",
       "                                             reviews_url  \\\n",
       "31617  http://steamcommunity.com/app/35140/reviews/?b...   \n",
       "\n",
       "                                                   specs  price  early_access  \\\n",
       "31617  [Single-player, Steam Achievements, Steam Trad...  19.99         False   \n",
       "\n",
       "          id                                   developer  \\\n",
       "31617  35140  Rocksteady Studios,Feral Interactive (Mac)   \n",
       "\n",
       "                     sentiment metascore  \n",
       "31617  Overwhelmingly Positive        91  "
      ]
     },
     "execution_count": 11,
     "metadata": {},
     "output_type": "execute_result"
    }
   ],
   "source": [
    "data_games[data_games.id == '35140']"
   ]
  },
  {
   "cell_type": "code",
   "execution_count": 12,
   "metadata": {},
   "outputs": [
    {
     "data": {
      "text/plain": [
       "publisher          8052\n",
       "genres             3283\n",
       "app_name              2\n",
       "title              2050\n",
       "url                   0\n",
       "release_date       2067\n",
       "tags                163\n",
       "discount_price    31910\n",
       "reviews_url           2\n",
       "specs               670\n",
       "price              1377\n",
       "early_access          0\n",
       "id                    2\n",
       "developer          3299\n",
       "sentiment          7182\n",
       "metascore         29458\n",
       "dtype: int64"
      ]
     },
     "execution_count": 12,
     "metadata": {},
     "output_type": "execute_result"
    }
   ],
   "source": [
    "data_games.isna().sum()"
   ]
  },
  {
   "cell_type": "code",
   "execution_count": 13,
   "metadata": {},
   "outputs": [
    {
     "data": {
      "text/html": [
       "<div>\n",
       "<style scoped>\n",
       "    .dataframe tbody tr th:only-of-type {\n",
       "        vertical-align: middle;\n",
       "    }\n",
       "\n",
       "    .dataframe tbody tr th {\n",
       "        vertical-align: top;\n",
       "    }\n",
       "\n",
       "    .dataframe thead th {\n",
       "        text-align: right;\n",
       "    }\n",
       "</style>\n",
       "<table border=\"1\" class=\"dataframe\">\n",
       "  <thead>\n",
       "    <tr style=\"text-align: right;\">\n",
       "      <th></th>\n",
       "      <th>Porcentaje de valores faltantes</th>\n",
       "    </tr>\n",
       "  </thead>\n",
       "  <tbody>\n",
       "    <tr>\n",
       "      <th>publisher</th>\n",
       "      <td>25.057</td>\n",
       "    </tr>\n",
       "    <tr>\n",
       "      <th>genres</th>\n",
       "      <td>10.216</td>\n",
       "    </tr>\n",
       "    <tr>\n",
       "      <th>app_name</th>\n",
       "      <td>0.006</td>\n",
       "    </tr>\n",
       "    <tr>\n",
       "      <th>title</th>\n",
       "      <td>6.379</td>\n",
       "    </tr>\n",
       "    <tr>\n",
       "      <th>url</th>\n",
       "      <td>0.000</td>\n",
       "    </tr>\n",
       "    <tr>\n",
       "      <th>release_date</th>\n",
       "      <td>6.432</td>\n",
       "    </tr>\n",
       "    <tr>\n",
       "      <th>tags</th>\n",
       "      <td>0.507</td>\n",
       "    </tr>\n",
       "    <tr>\n",
       "      <th>discount_price</th>\n",
       "      <td>99.300</td>\n",
       "    </tr>\n",
       "    <tr>\n",
       "      <th>reviews_url</th>\n",
       "      <td>0.006</td>\n",
       "    </tr>\n",
       "    <tr>\n",
       "      <th>specs</th>\n",
       "      <td>2.085</td>\n",
       "    </tr>\n",
       "    <tr>\n",
       "      <th>price</th>\n",
       "      <td>4.285</td>\n",
       "    </tr>\n",
       "    <tr>\n",
       "      <th>early_access</th>\n",
       "      <td>0.000</td>\n",
       "    </tr>\n",
       "    <tr>\n",
       "      <th>id</th>\n",
       "      <td>0.006</td>\n",
       "    </tr>\n",
       "    <tr>\n",
       "      <th>developer</th>\n",
       "      <td>10.266</td>\n",
       "    </tr>\n",
       "    <tr>\n",
       "      <th>sentiment</th>\n",
       "      <td>22.349</td>\n",
       "    </tr>\n",
       "    <tr>\n",
       "      <th>metascore</th>\n",
       "      <td>91.670</td>\n",
       "    </tr>\n",
       "  </tbody>\n",
       "</table>\n",
       "</div>"
      ],
      "text/plain": [
       "                Porcentaje de valores faltantes\n",
       "publisher                                25.057\n",
       "genres                                   10.216\n",
       "app_name                                  0.006\n",
       "title                                     6.379\n",
       "url                                       0.000\n",
       "release_date                              6.432\n",
       "tags                                      0.507\n",
       "discount_price                           99.300\n",
       "reviews_url                               0.006\n",
       "specs                                     2.085\n",
       "price                                     4.285\n",
       "early_access                              0.000\n",
       "id                                        0.006\n",
       "developer                                10.266\n",
       "sentiment                                22.349\n",
       "metascore                                91.670"
      ]
     },
     "execution_count": 13,
     "metadata": {},
     "output_type": "execute_result"
    }
   ],
   "source": [
    "round(data_games.isna().sum().to_frame('Porcentaje de valores faltantes')*100/len(data_games),3)"
   ]
  },
  {
   "cell_type": "markdown",
   "metadata": {},
   "source": [
    "### <font color='red'> Limpieza de datos <font>"
   ]
  },
  {
   "cell_type": "code",
   "execution_count": 14,
   "metadata": {},
   "outputs": [
    {
     "data": {
      "text/html": [
       "<div>\n",
       "<style scoped>\n",
       "    .dataframe tbody tr th:only-of-type {\n",
       "        vertical-align: middle;\n",
       "    }\n",
       "\n",
       "    .dataframe tbody tr th {\n",
       "        vertical-align: top;\n",
       "    }\n",
       "\n",
       "    .dataframe thead th {\n",
       "        text-align: right;\n",
       "    }\n",
       "</style>\n",
       "<table border=\"1\" class=\"dataframe\">\n",
       "  <thead>\n",
       "    <tr style=\"text-align: right;\">\n",
       "      <th></th>\n",
       "      <th>publisher</th>\n",
       "      <th>genres</th>\n",
       "      <th>app_name</th>\n",
       "      <th>title</th>\n",
       "      <th>url</th>\n",
       "      <th>release_date</th>\n",
       "      <th>tags</th>\n",
       "      <th>discount_price</th>\n",
       "      <th>reviews_url</th>\n",
       "      <th>specs</th>\n",
       "      <th>price</th>\n",
       "      <th>early_access</th>\n",
       "      <th>id</th>\n",
       "      <th>developer</th>\n",
       "      <th>sentiment</th>\n",
       "      <th>metascore</th>\n",
       "    </tr>\n",
       "  </thead>\n",
       "  <tbody>\n",
       "    <tr>\n",
       "      <th>74</th>\n",
       "      <td>NaN</td>\n",
       "      <td>NaN</td>\n",
       "      <td>NaN</td>\n",
       "      <td>NaN</td>\n",
       "      <td>http://store.steampowered.com/</td>\n",
       "      <td>NaN</td>\n",
       "      <td>NaN</td>\n",
       "      <td>14.99</td>\n",
       "      <td>NaN</td>\n",
       "      <td>NaN</td>\n",
       "      <td>19.99</td>\n",
       "      <td>False</td>\n",
       "      <td>NaN</td>\n",
       "      <td>NaN</td>\n",
       "      <td>NaN</td>\n",
       "      <td>NaN</td>\n",
       "    </tr>\n",
       "    <tr>\n",
       "      <th>2580</th>\n",
       "      <td>NaN</td>\n",
       "      <td>[Action, Indie]</td>\n",
       "      <td>NaN</td>\n",
       "      <td>NaN</td>\n",
       "      <td>http://store.steampowered.com/app/317160/_/</td>\n",
       "      <td>2014-08-26</td>\n",
       "      <td>[Action, Indie]</td>\n",
       "      <td>NaN</td>\n",
       "      <td>http://steamcommunity.com/app/317160/reviews/?...</td>\n",
       "      <td>[Single-player, Game demo]</td>\n",
       "      <td>NaN</td>\n",
       "      <td>False</td>\n",
       "      <td>317160</td>\n",
       "      <td>NaN</td>\n",
       "      <td>Positive</td>\n",
       "      <td>NaN</td>\n",
       "    </tr>\n",
       "  </tbody>\n",
       "</table>\n",
       "</div>"
      ],
      "text/plain": [
       "     publisher           genres app_name title  \\\n",
       "74         NaN              NaN      NaN   NaN   \n",
       "2580       NaN  [Action, Indie]      NaN   NaN   \n",
       "\n",
       "                                              url release_date  \\\n",
       "74                 http://store.steampowered.com/          NaN   \n",
       "2580  http://store.steampowered.com/app/317160/_/   2014-08-26   \n",
       "\n",
       "                 tags  discount_price  \\\n",
       "74                NaN           14.99   \n",
       "2580  [Action, Indie]             NaN   \n",
       "\n",
       "                                            reviews_url  \\\n",
       "74                                                  NaN   \n",
       "2580  http://steamcommunity.com/app/317160/reviews/?...   \n",
       "\n",
       "                           specs  price  early_access      id developer  \\\n",
       "74                           NaN  19.99         False     NaN       NaN   \n",
       "2580  [Single-player, Game demo]    NaN         False  317160       NaN   \n",
       "\n",
       "     sentiment metascore  \n",
       "74         NaN       NaN  \n",
       "2580  Positive       NaN  "
      ]
     },
     "execution_count": 14,
     "metadata": {},
     "output_type": "execute_result"
    }
   ],
   "source": [
    "data_games[data_games.app_name.isnull()]"
   ]
  },
  {
   "cell_type": "code",
   "execution_count": 15,
   "metadata": {},
   "outputs": [
    {
     "data": {
      "text/html": [
       "<div>\n",
       "<style scoped>\n",
       "    .dataframe tbody tr th:only-of-type {\n",
       "        vertical-align: middle;\n",
       "    }\n",
       "\n",
       "    .dataframe tbody tr th {\n",
       "        vertical-align: top;\n",
       "    }\n",
       "\n",
       "    .dataframe thead th {\n",
       "        text-align: right;\n",
       "    }\n",
       "</style>\n",
       "<table border=\"1\" class=\"dataframe\">\n",
       "  <thead>\n",
       "    <tr style=\"text-align: right;\">\n",
       "      <th></th>\n",
       "      <th>publisher</th>\n",
       "      <th>genres</th>\n",
       "      <th>app_name</th>\n",
       "      <th>title</th>\n",
       "      <th>url</th>\n",
       "      <th>release_date</th>\n",
       "      <th>tags</th>\n",
       "      <th>discount_price</th>\n",
       "      <th>reviews_url</th>\n",
       "      <th>specs</th>\n",
       "      <th>price</th>\n",
       "      <th>early_access</th>\n",
       "      <th>id</th>\n",
       "      <th>developer</th>\n",
       "      <th>sentiment</th>\n",
       "      <th>metascore</th>\n",
       "    </tr>\n",
       "  </thead>\n",
       "  <tbody>\n",
       "    <tr>\n",
       "      <th>4103</th>\n",
       "      <td>Kumobius</td>\n",
       "      <td>[Action, Indie]</td>\n",
       "      <td>Duet</td>\n",
       "      <td>Duet</td>\n",
       "      <td>http://store.steampowered.com/app/292600/Duet/</td>\n",
       "      <td>2015-08-03</td>\n",
       "      <td>[Indie, Action, Minimalist, Great Soundtrack, ...</td>\n",
       "      <td>NaN</td>\n",
       "      <td>http://steamcommunity.com/app/292600/reviews/?...</td>\n",
       "      <td>[Single-player, Steam Achievements, Full contr...</td>\n",
       "      <td>4.99</td>\n",
       "      <td>False</td>\n",
       "      <td>292600</td>\n",
       "      <td>Kumobius</td>\n",
       "      <td>Very Positive</td>\n",
       "      <td>NaN</td>\n",
       "    </tr>\n",
       "  </tbody>\n",
       "</table>\n",
       "</div>"
      ],
      "text/plain": [
       "     publisher           genres app_name title  \\\n",
       "4103  Kumobius  [Action, Indie]     Duet  Duet   \n",
       "\n",
       "                                                 url release_date  \\\n",
       "4103  http://store.steampowered.com/app/292600/Duet/   2015-08-03   \n",
       "\n",
       "                                                   tags  discount_price  \\\n",
       "4103  [Indie, Action, Minimalist, Great Soundtrack, ...             NaN   \n",
       "\n",
       "                                            reviews_url  \\\n",
       "4103  http://steamcommunity.com/app/292600/reviews/?...   \n",
       "\n",
       "                                                  specs price  early_access  \\\n",
       "4103  [Single-player, Steam Achievements, Full contr...  4.99         False   \n",
       "\n",
       "          id developer      sentiment metascore  \n",
       "4103  292600  Kumobius  Very Positive       NaN  "
      ]
     },
     "execution_count": 15,
     "metadata": {},
     "output_type": "execute_result"
    }
   ],
   "source": [
    "data_games.query('app_name==\"Duet\"')"
   ]
  },
  {
   "cell_type": "markdown",
   "metadata": {},
   "source": [
    "Cuando ingresamos al link del primer registro nulo en 'app_name' observamos que el juego no existe. Respecto al otro registro vacío, el juego ya se encuentra cargado en el dataset y con más información, por ello se decide eliminarlo."
   ]
  },
  {
   "cell_type": "code",
   "execution_count": 16,
   "metadata": {},
   "outputs": [],
   "source": [
    "data_games.dropna(subset=['app_name'], inplace=True)"
   ]
  },
  {
   "cell_type": "code",
   "execution_count": 17,
   "metadata": {},
   "outputs": [
    {
     "data": {
      "text/html": [
       "<div>\n",
       "<style scoped>\n",
       "    .dataframe tbody tr th:only-of-type {\n",
       "        vertical-align: middle;\n",
       "    }\n",
       "\n",
       "    .dataframe tbody tr th {\n",
       "        vertical-align: top;\n",
       "    }\n",
       "\n",
       "    .dataframe thead th {\n",
       "        text-align: right;\n",
       "    }\n",
       "</style>\n",
       "<table border=\"1\" class=\"dataframe\">\n",
       "  <thead>\n",
       "    <tr style=\"text-align: right;\">\n",
       "      <th></th>\n",
       "      <th>publisher</th>\n",
       "      <th>genres</th>\n",
       "      <th>app_name</th>\n",
       "      <th>title</th>\n",
       "      <th>url</th>\n",
       "      <th>release_date</th>\n",
       "      <th>tags</th>\n",
       "      <th>discount_price</th>\n",
       "      <th>reviews_url</th>\n",
       "      <th>specs</th>\n",
       "      <th>price</th>\n",
       "      <th>early_access</th>\n",
       "      <th>id</th>\n",
       "      <th>developer</th>\n",
       "      <th>sentiment</th>\n",
       "      <th>metascore</th>\n",
       "    </tr>\n",
       "  </thead>\n",
       "  <tbody>\n",
       "    <tr>\n",
       "      <th>30961</th>\n",
       "      <td>Warner Bros. Interactive Entertainment, Feral ...</td>\n",
       "      <td>[Action, Adventure]</td>\n",
       "      <td>Batman: Arkham City - Game of the Year Edition</td>\n",
       "      <td>Batman: Arkham City - Game of the Year Edition</td>\n",
       "      <td>http://store.steampowered.com/app/200260</td>\n",
       "      <td>2012-09-07</td>\n",
       "      <td>[Action, Open World, Batman, Adventure, Stealt...</td>\n",
       "      <td>NaN</td>\n",
       "      <td>NaN</td>\n",
       "      <td>[Single-player, Steam Achievements, Steam Trad...</td>\n",
       "      <td>19.99</td>\n",
       "      <td>False</td>\n",
       "      <td>NaN</td>\n",
       "      <td>Rocksteady Studios,Feral Interactive (Mac)</td>\n",
       "      <td>Overwhelmingly Positive</td>\n",
       "      <td>91</td>\n",
       "    </tr>\n",
       "  </tbody>\n",
       "</table>\n",
       "</div>"
      ],
      "text/plain": [
       "                                               publisher               genres  \\\n",
       "30961  Warner Bros. Interactive Entertainment, Feral ...  [Action, Adventure]   \n",
       "\n",
       "                                             app_name  \\\n",
       "30961  Batman: Arkham City - Game of the Year Edition   \n",
       "\n",
       "                                                title  \\\n",
       "30961  Batman: Arkham City - Game of the Year Edition   \n",
       "\n",
       "                                            url release_date  \\\n",
       "30961  http://store.steampowered.com/app/200260   2012-09-07   \n",
       "\n",
       "                                                    tags  discount_price  \\\n",
       "30961  [Action, Open World, Batman, Adventure, Stealt...             NaN   \n",
       "\n",
       "      reviews_url                                              specs  price  \\\n",
       "30961         NaN  [Single-player, Steam Achievements, Steam Trad...  19.99   \n",
       "\n",
       "       early_access   id                                   developer  \\\n",
       "30961         False  NaN  Rocksteady Studios,Feral Interactive (Mac)   \n",
       "\n",
       "                     sentiment metascore  \n",
       "30961  Overwhelmingly Positive        91  "
      ]
     },
     "execution_count": 17,
     "metadata": {},
     "output_type": "execute_result"
    }
   ],
   "source": [
    "data_games[data_games.id.isna()]"
   ]
  },
  {
   "cell_type": "markdown",
   "metadata": {},
   "source": [
    "*La url contiene el identificador del juego*"
   ]
  },
  {
   "cell_type": "code",
   "execution_count": 18,
   "metadata": {},
   "outputs": [],
   "source": [
    "data_games.loc[30961, 'id'] = 200260"
   ]
  },
  {
   "cell_type": "code",
   "execution_count": 19,
   "metadata": {},
   "outputs": [],
   "source": [
    "# Eliminamos las columnas que nos aportan poca información\n",
    "# Título y app_name nos proveen la misma información, con la diferencia de que la primera contiene más de 2 mil valores faltantes\n",
    "\n",
    "data_games.drop (columns = ['discount_price', 'title', 'early_access', 'developer', 'metascore', 'reviews_url', 'sentiment'], inplace = True)"
   ]
  },
  {
   "cell_type": "code",
   "execution_count": 20,
   "metadata": {},
   "outputs": [
    {
     "data": {
      "text/html": [
       "<div>\n",
       "<style scoped>\n",
       "    .dataframe tbody tr th:only-of-type {\n",
       "        vertical-align: middle;\n",
       "    }\n",
       "\n",
       "    .dataframe tbody tr th {\n",
       "        vertical-align: top;\n",
       "    }\n",
       "\n",
       "    .dataframe thead th {\n",
       "        text-align: right;\n",
       "    }\n",
       "</style>\n",
       "<table border=\"1\" class=\"dataframe\">\n",
       "  <thead>\n",
       "    <tr style=\"text-align: right;\">\n",
       "      <th></th>\n",
       "      <th>publisher</th>\n",
       "      <th>genres</th>\n",
       "      <th>app_name</th>\n",
       "      <th>url</th>\n",
       "      <th>release_date</th>\n",
       "      <th>tags</th>\n",
       "      <th>specs</th>\n",
       "      <th>price</th>\n",
       "      <th>id</th>\n",
       "    </tr>\n",
       "  </thead>\n",
       "  <tbody>\n",
       "    <tr>\n",
       "      <th>0</th>\n",
       "      <td>Kotoshiro</td>\n",
       "      <td>[Action, Casual, Indie, Simulation, Strategy]</td>\n",
       "      <td>Lost Summoner Kitty</td>\n",
       "      <td>http://store.steampowered.com/app/761140/Lost_...</td>\n",
       "      <td>2018-01-04</td>\n",
       "      <td>[Strategy, Action, Indie, Casual, Simulation]</td>\n",
       "      <td>[Single-player]</td>\n",
       "      <td>4.99</td>\n",
       "      <td>761140</td>\n",
       "    </tr>\n",
       "    <tr>\n",
       "      <th>1</th>\n",
       "      <td>Making Fun, Inc.</td>\n",
       "      <td>[Free to Play, Indie, RPG, Strategy]</td>\n",
       "      <td>Ironbound</td>\n",
       "      <td>http://store.steampowered.com/app/643980/Ironb...</td>\n",
       "      <td>2018-01-04</td>\n",
       "      <td>[Free to Play, Strategy, Indie, RPG, Card Game...</td>\n",
       "      <td>[Single-player, Multi-player, Online Multi-Pla...</td>\n",
       "      <td>Free To Play</td>\n",
       "      <td>643980</td>\n",
       "    </tr>\n",
       "  </tbody>\n",
       "</table>\n",
       "</div>"
      ],
      "text/plain": [
       "          publisher                                         genres  \\\n",
       "0         Kotoshiro  [Action, Casual, Indie, Simulation, Strategy]   \n",
       "1  Making Fun, Inc.           [Free to Play, Indie, RPG, Strategy]   \n",
       "\n",
       "              app_name                                                url  \\\n",
       "0  Lost Summoner Kitty  http://store.steampowered.com/app/761140/Lost_...   \n",
       "1            Ironbound  http://store.steampowered.com/app/643980/Ironb...   \n",
       "\n",
       "  release_date                                               tags  \\\n",
       "0   2018-01-04      [Strategy, Action, Indie, Casual, Simulation]   \n",
       "1   2018-01-04  [Free to Play, Strategy, Indie, RPG, Card Game...   \n",
       "\n",
       "                                               specs         price      id  \n",
       "0                                    [Single-player]          4.99  761140  \n",
       "1  [Single-player, Multi-player, Online Multi-Pla...  Free To Play  643980  "
      ]
     },
     "execution_count": 20,
     "metadata": {},
     "output_type": "execute_result"
    }
   ],
   "source": [
    "data_games.head(2)"
   ]
  },
  {
   "cell_type": "markdown",
   "metadata": {},
   "source": [
    "##### A continuación, se comprueba si contamos con juegos repetidos:"
   ]
  },
  {
   "cell_type": "code",
   "execution_count": 21,
   "metadata": {},
   "outputs": [
    {
     "data": {
      "text/html": [
       "<div>\n",
       "<style scoped>\n",
       "    .dataframe tbody tr th:only-of-type {\n",
       "        vertical-align: middle;\n",
       "    }\n",
       "\n",
       "    .dataframe tbody tr th {\n",
       "        vertical-align: top;\n",
       "    }\n",
       "\n",
       "    .dataframe thead th {\n",
       "        text-align: right;\n",
       "    }\n",
       "</style>\n",
       "<table border=\"1\" class=\"dataframe\">\n",
       "  <thead>\n",
       "    <tr style=\"text-align: right;\">\n",
       "      <th></th>\n",
       "      <th>publisher</th>\n",
       "      <th>genres</th>\n",
       "      <th>app_name</th>\n",
       "      <th>url</th>\n",
       "      <th>release_date</th>\n",
       "      <th>tags</th>\n",
       "      <th>specs</th>\n",
       "      <th>price</th>\n",
       "      <th>id</th>\n",
       "    </tr>\n",
       "  </thead>\n",
       "  <tbody>\n",
       "    <tr>\n",
       "      <th>13894</th>\n",
       "      <td>Bethesda Softworks</td>\n",
       "      <td>[Action]</td>\n",
       "      <td>Wolfenstein II: The New Colossus</td>\n",
       "      <td>http://store.steampowered.com/app/612880/</td>\n",
       "      <td>2017-10-26</td>\n",
       "      <td>[Action, FPS, Gore, Violent, Alternate History...</td>\n",
       "      <td>[Single-player, Steam Achievements, Full contr...</td>\n",
       "      <td>59.99</td>\n",
       "      <td>612880</td>\n",
       "    </tr>\n",
       "    <tr>\n",
       "      <th>14573</th>\n",
       "      <td>Bethesda Softworks</td>\n",
       "      <td>[Action]</td>\n",
       "      <td>Wolfenstein II: The New Colossus</td>\n",
       "      <td>http://store.steampowered.com/app/612880/Wolfe...</td>\n",
       "      <td>2017-10-26</td>\n",
       "      <td>[Action, FPS, Gore, Violent, Alternate History...</td>\n",
       "      <td>[Single-player, Steam Achievements, Full contr...</td>\n",
       "      <td>59.99</td>\n",
       "      <td>612880</td>\n",
       "    </tr>\n",
       "  </tbody>\n",
       "</table>\n",
       "</div>"
      ],
      "text/plain": [
       "                publisher    genres                          app_name  \\\n",
       "13894  Bethesda Softworks  [Action]  Wolfenstein II: The New Colossus   \n",
       "14573  Bethesda Softworks  [Action]  Wolfenstein II: The New Colossus   \n",
       "\n",
       "                                                     url release_date  \\\n",
       "13894          http://store.steampowered.com/app/612880/   2017-10-26   \n",
       "14573  http://store.steampowered.com/app/612880/Wolfe...   2017-10-26   \n",
       "\n",
       "                                                    tags  \\\n",
       "13894  [Action, FPS, Gore, Violent, Alternate History...   \n",
       "14573  [Action, FPS, Gore, Violent, Alternate History...   \n",
       "\n",
       "                                                   specs  price      id  \n",
       "13894  [Single-player, Steam Achievements, Full contr...  59.99  612880  \n",
       "14573  [Single-player, Steam Achievements, Full contr...  59.99  612880  "
      ]
     },
     "execution_count": 21,
     "metadata": {},
     "output_type": "execute_result"
    }
   ],
   "source": [
    "data_games[data_games.duplicated(subset=['id'], keep=False)].sort_values(by='id')"
   ]
  },
  {
   "cell_type": "code",
   "execution_count": 22,
   "metadata": {},
   "outputs": [],
   "source": [
    "# Un solo juego se encuentra repetido, es el caso de Wolfestein II. Se elimina\n",
    "\n",
    "data_games.drop_duplicates(subset=['id'], ignore_index=True, inplace=True)"
   ]
  },
  {
   "cell_type": "code",
   "execution_count": 23,
   "metadata": {},
   "outputs": [
    {
     "data": {
      "text/plain": [
       "publisher       8050\n",
       "genres          3282\n",
       "app_name           0\n",
       "url                0\n",
       "release_date    2066\n",
       "tags             162\n",
       "specs            669\n",
       "price           1376\n",
       "id                 0\n",
       "dtype: int64"
      ]
     },
     "execution_count": 23,
     "metadata": {},
     "output_type": "execute_result"
    }
   ],
   "source": [
    "data_games.isna().sum()"
   ]
  },
  {
   "cell_type": "code",
   "execution_count": 24,
   "metadata": {},
   "outputs": [
    {
     "data": {
      "text/html": [
       "<div>\n",
       "<style scoped>\n",
       "    .dataframe tbody tr th:only-of-type {\n",
       "        vertical-align: middle;\n",
       "    }\n",
       "\n",
       "    .dataframe tbody tr th {\n",
       "        vertical-align: top;\n",
       "    }\n",
       "\n",
       "    .dataframe thead th {\n",
       "        text-align: right;\n",
       "    }\n",
       "</style>\n",
       "<table border=\"1\" class=\"dataframe\">\n",
       "  <thead>\n",
       "    <tr style=\"text-align: right;\">\n",
       "      <th></th>\n",
       "      <th>Porcentaje de valores faltantes</th>\n",
       "    </tr>\n",
       "  </thead>\n",
       "  <tbody>\n",
       "    <tr>\n",
       "      <th>publisher</th>\n",
       "      <td>25.053</td>\n",
       "    </tr>\n",
       "    <tr>\n",
       "      <th>genres</th>\n",
       "      <td>10.214</td>\n",
       "    </tr>\n",
       "    <tr>\n",
       "      <th>app_name</th>\n",
       "      <td>0.000</td>\n",
       "    </tr>\n",
       "    <tr>\n",
       "      <th>url</th>\n",
       "      <td>0.000</td>\n",
       "    </tr>\n",
       "    <tr>\n",
       "      <th>release_date</th>\n",
       "      <td>6.430</td>\n",
       "    </tr>\n",
       "    <tr>\n",
       "      <th>tags</th>\n",
       "      <td>0.504</td>\n",
       "    </tr>\n",
       "    <tr>\n",
       "      <th>specs</th>\n",
       "      <td>2.082</td>\n",
       "    </tr>\n",
       "    <tr>\n",
       "      <th>price</th>\n",
       "      <td>4.282</td>\n",
       "    </tr>\n",
       "    <tr>\n",
       "      <th>id</th>\n",
       "      <td>0.000</td>\n",
       "    </tr>\n",
       "  </tbody>\n",
       "</table>\n",
       "</div>"
      ],
      "text/plain": [
       "              Porcentaje de valores faltantes\n",
       "publisher                              25.053\n",
       "genres                                 10.214\n",
       "app_name                                0.000\n",
       "url                                     0.000\n",
       "release_date                            6.430\n",
       "tags                                    0.504\n",
       "specs                                   2.082\n",
       "price                                   4.282\n",
       "id                                      0.000"
      ]
     },
     "execution_count": 24,
     "metadata": {},
     "output_type": "execute_result"
    }
   ],
   "source": [
    "round(data_games.isna().sum().to_frame('Porcentaje de valores faltantes')*100/len(data_games),3)"
   ]
  },
  {
   "cell_type": "markdown",
   "metadata": {},
   "source": [
    "*Eliminamos todas las instancias que no tengan un género y especificaciones asignados, ya que o no pertenecen a un juego o  no se puede determinar esta información*"
   ]
  },
  {
   "cell_type": "code",
   "execution_count": 25,
   "metadata": {},
   "outputs": [
    {
     "name": "stdout",
     "output_type": "stream",
     "text": [
      "(31749, 9)\n"
     ]
    }
   ],
   "source": [
    "valores_faltantes_genres_specs = data_games.genres.isnull() & data_games.specs.isnull()\n",
    "data_games = data_games[~valores_faltantes_genres_specs]\n",
    "print(data_games.shape)"
   ]
  },
  {
   "cell_type": "markdown",
   "metadata": {},
   "source": [
    "*Teniendo en cuenta que las columnas 'genres' y 'tags' nos proporcionan la misma información, se considera contruir una nueva a partir de la información obtenida en las primeras dos. Luego, se procede a eliminarlas y quedarnos con la creada*"
   ]
  },
  {
   "cell_type": "code",
   "execution_count": 26,
   "metadata": {},
   "outputs": [],
   "source": [
    "# Aquí, reemplazaremos los valores faltantes por listas vacías. Esto facilitará la aplicación de funciones en estas tres columnas\n",
    "\n",
    "for columna in ['genres', 'tags', 'specs']:\n",
    "    data_games[columna].fillna({i: [] for i in data_games.index}, inplace=True)"
   ]
  },
  {
   "cell_type": "code",
   "execution_count": 27,
   "metadata": {},
   "outputs": [],
   "source": [
    "# Creamos la columna categoría \n",
    "\n",
    "data_games['categories'] = data_games['genres'] + data_games['tags'] + data_games['specs']\n",
    "\n",
    "# Evitamos que se repitan los mismos valores, ya que 'genres' y 'tags' suelen repetir la mayoría de su información\n",
    "data_games['categories'] = [np.unique(cat) for cat in data_games.categories]\n",
    "\n",
    "data_games['categories'] = [[re.sub(r'[^\\w\\s]', '', subcat).lower() for subcat in cat] \n",
    "                            for cat in data_games.categories]"
   ]
  },
  {
   "cell_type": "markdown",
   "metadata": {},
   "source": [
    "*El siguiente paso requiere de una labor estricta manualmente, ya que debemos obtener todos los valores únicos presentes en el feature 'categories' y determinar, a partir de una exhaustiva búsqueda, si pertenecen o no a un juego*"
   ]
  },
  {
   "cell_type": "code",
   "execution_count": 28,
   "metadata": {},
   "outputs": [
    {
     "data": {
      "text/plain": [
       "array(['1980s', '1990s', '25d', '2d', '2d fighter', '360 video',\n",
       "       '3d platformer', '3d vision', '4 player local', '4x', '6dof',\n",
       "       'abstract', 'accounting', 'action', 'action rpg',\n",
       "       'actionadventure', 'adventure', 'agriculture', 'aliens',\n",
       "       'alternate history', 'america', 'animation  modeling',\n",
       "       'animation amp modeling', 'anime', 'arcade', 'arena shooter',\n",
       "       'artificial intelligence', 'assassin', 'asynchronous multiplayer',\n",
       "       'atmospheric', 'audio production', 'base building',\n",
       "       'based on a novel', 'basketball', 'batman', 'beat em up',\n",
       "       'benchmark', 'bikes', 'blood', 'board game', 'bowling', 'building',\n",
       "       'bullet hell', 'bullet time', 'capitalism', 'captions available',\n",
       "       'card game', 'cartoon', 'cartoony', 'casual',\n",
       "       'character action game', 'character customization', 'chess',\n",
       "       'choices matter', 'choose your own adventure', 'cinematic',\n",
       "       'city builder', 'classbased', 'classic', 'clicker', 'cold war',\n",
       "       'colorful', 'comedy', 'comic book', 'commentary available',\n",
       "       'competitive', 'conspiracy', 'controller', 'conversation', 'coop',\n",
       "       'coop campaign', 'crafting', 'crime', 'crossplatform multiplayer',\n",
       "       'crowdfunded', 'crpg', 'cult classic', 'cute', 'cyberpunk',\n",
       "       'cycling', 'dark', 'dark comedy', 'dark fantasy', 'dark humor',\n",
       "       'dating sim', 'demons', 'design  illustration',\n",
       "       'design amp illustration', 'destruction', 'detective', 'difficult',\n",
       "       'dinosaurs', 'diplomacy', 'documentary', 'downloadable content',\n",
       "       'dragons', 'drama', 'driving', 'dungeon crawler',\n",
       "       'dynamic narration', 'dystopian', 'early access', 'economy',\n",
       "       'education', 'episodic', 'esports', 'experience', 'experimental',\n",
       "       'exploration', 'faith', 'family friendly', 'fantasy', 'fastpaced',\n",
       "       'feature film', 'female protagonist', 'fighting', 'firstperson',\n",
       "       'fishing', 'flight', 'fmv', 'football', 'foreign', 'fps',\n",
       "       'free to play', 'full controller support', 'funny', 'futuristic',\n",
       "       'gambling', 'game demo', 'game development', 'gamemaker',\n",
       "       'gamepad', 'games workshop', 'gaming', 'god game', 'golf', 'gore',\n",
       "       'gothic', 'grand strategy', 'great soundtrack',\n",
       "       'gridbased movement', 'gun customization', 'hack and slash',\n",
       "       'hacking', 'handdrawn', 'hardware', 'heist', 'hex grid',\n",
       "       'hidden object', 'historical', 'horror', 'horses', 'htc vive',\n",
       "       'hunting', 'illuminati', 'inapp purchases',\n",
       "       'includes level editor', 'includes source sdk', 'indie',\n",
       "       'intentionally awkward controls', 'interactive fiction',\n",
       "       'inventory management', 'investigation', 'isometric', 'jrpg',\n",
       "       'keyboard  mouse', 'kickstarter', 'lara croft', 'lego', 'lemmings',\n",
       "       'level editor', 'linear', 'local coop', 'local multiplayer',\n",
       "       'loot', 'lorerich', 'lovecraftian', 'magic', 'management', 'mars',\n",
       "       'martial arts', 'massively multiplayer', 'match 3', 'mature',\n",
       "       'mechs', 'medieval', 'memes', 'metroidvania', 'military',\n",
       "       'mini golf', 'minimalist', 'mining', 'mmo', 'mmorpg', 'moba',\n",
       "       'mod', 'moddable', 'modern', 'mods', 'mods require hl1',\n",
       "       'mods require hl2', 'mouse only', 'movie', 'multiplayer',\n",
       "       'multiple endings', 'music', 'musicbased procedural generation',\n",
       "       'mystery', 'mystery dungeon', 'mythology', 'narration', 'naval',\n",
       "       'ninja', 'noir', 'nonlinear', 'nsfw', 'nudity', 'oculus rift',\n",
       "       'offroad', 'online coop', 'online multiplayer', 'onrails shooter',\n",
       "       'open world', 'otome', 'parkour', 'parody',\n",
       "       'partial controller support', 'partybased rpg', 'perma death',\n",
       "       'philisophical', 'photo editing', 'physics', 'pinball', 'pirates',\n",
       "       'pixel graphics', 'platformer', 'point  click', 'political',\n",
       "       'politics', 'pool', 'postapocalyptic', 'procedural generation',\n",
       "       'programming', 'psychedelic', 'psychological',\n",
       "       'psychological horror', 'puzzle', 'puzzleplatformer', 'pve', 'pvp',\n",
       "       'quicktime events', 'racing', 'real time tactics', 'realistic',\n",
       "       'realtime', 'realtime with pause', 'relaxing', 'remake',\n",
       "       'replay value', 'resource management', 'retro', 'rhythm', 'robots',\n",
       "       'roguelike', 'roguelite', 'romance', 'rome', 'roomscale', 'rpg',\n",
       "       'rpgmaker', 'rts', 'runner', 'sailing', 'sandbox', 'satire',\n",
       "       'science', 'scifi', 'score attack', 'seated', 'sexual content',\n",
       "       'sharedsplit screen', 'shoot em up', 'shooter', 'short',\n",
       "       'side scroller', 'silent protagonist', 'simulation',\n",
       "       'singleplayer', 'sniper', 'soccer', 'software',\n",
       "       'software training', 'sokoban', 'soundtrack', 'space', 'space sim',\n",
       "       'spectacle fighter', 'spelling', 'split screen', 'sports',\n",
       "       'standing', 'star wars', 'stats', 'stealth', 'steam achievements',\n",
       "       'steam cloud', 'steam leaderboards', 'steam machine',\n",
       "       'steam trading cards', 'steam turn notifications',\n",
       "       'steam workshop', 'steampunk', 'steamvr collectibles',\n",
       "       'story rich', 'strategy', 'strategy rpg', 'stylized', 'superhero',\n",
       "       'supernatural', 'surreal', 'survival', 'survival horror',\n",
       "       'swordplay', 'tactical', 'tactical rpg', 'tanks', 'teambased',\n",
       "       'textbased', 'third person', 'thirdperson shooter', 'thriller',\n",
       "       'time attack', 'time manipulation', 'time travel', 'topdown',\n",
       "       'topdown shooter', 'touchfriendly', 'tower defense',\n",
       "       'tracked motion controllers', 'trackir', 'trading',\n",
       "       'trading card game', 'trains', 'transhumanism', 'turnbased',\n",
       "       'turnbased combat', 'turnbased strategy', 'turnbased tactics',\n",
       "       'tutorial', 'twin stick shooter', 'typing', 'underground',\n",
       "       'underwater', 'utilities', 'valve anticheat enabled', 'vampire',\n",
       "       'video production', 'villain protagonist', 'violent',\n",
       "       'visual novel', 'voice control', 'voxel', 'vr',\n",
       "       'walking simulator', 'war', 'wargame', 'warhammer 40k',\n",
       "       'web publishing', 'werewolves', 'western', 'windows mixed reality',\n",
       "       'word game', 'world war i', 'world war ii', 'wrestling', 'zombies'],\n",
       "      dtype='<U32')"
      ]
     },
     "execution_count": 28,
     "metadata": {},
     "output_type": "execute_result"
    }
   ],
   "source": [
    "np.unique(list(itertools.chain(*data_games.categories)))"
   ]
  },
  {
   "cell_type": "code",
   "execution_count": 29,
   "metadata": {},
   "outputs": [],
   "source": [
    "# Alistamos aquellos valores que consideramos que no pertecen a un juego,\n",
    "# que es lo que en definitiva nuestro sistema va a querer recomendarle al usuario\n",
    "\n",
    "\n",
    "categorias_invalidas = ['photo editing', 'game development', 'documentary', 'video production', 'tutorial', 'software',\n",
    "                      'movie', 'software training', 'soundtrack', 'utilities', 'accounting', 'downloadable content']"
   ]
  },
  {
   "cell_type": "code",
   "execution_count": 30,
   "metadata": {},
   "outputs": [],
   "source": [
    "def tuplas(lista):\n",
    "    return pd.DataFrame([game for game in data_games.itertuples() if np.isin(lista, game.categories).sum() > 0])"
   ]
  },
  {
   "cell_type": "code",
   "execution_count": 31,
   "metadata": {},
   "outputs": [],
   "source": [
    "data_games = data_games[~data_games.id.isin(tuplas(categorias_invalidas).id)]"
   ]
  },
  {
   "cell_type": "code",
   "execution_count": 32,
   "metadata": {},
   "outputs": [],
   "source": [
    "data_games.drop(['specs', 'tags'], inplace=True, axis=1)"
   ]
  },
  {
   "cell_type": "code",
   "execution_count": 33,
   "metadata": {},
   "outputs": [
    {
     "data": {
      "text/plain": [
       "(17986, 8)"
      ]
     },
     "execution_count": 33,
     "metadata": {},
     "output_type": "execute_result"
    }
   ],
   "source": [
    "data_games.shape"
   ]
  },
  {
   "cell_type": "code",
   "execution_count": 34,
   "metadata": {},
   "outputs": [],
   "source": [
    "# Volvemos a colocar valores NaN en la columna de género en donde antes habíamos creado listas vacías\n",
    "\n",
    "data_games['genres'] = data_games['genres'].apply(lambda x: np.nan if len(x) == 0 else x)"
   ]
  },
  {
   "cell_type": "markdown",
   "metadata": {},
   "source": [
    "### Ahora analizamos el atributo precio y qúe tratamiento se le dará"
   ]
  },
  {
   "cell_type": "code",
   "execution_count": 35,
   "metadata": {},
   "outputs": [
    {
     "data": {
      "text/plain": [
       "array(['0.49', '0.5', '0.89', '0.95', '0.98', '0.99', '1.0', '1.29',\n",
       "       '1.5', '1.59', '1.87', '1.95', '1.99', '10.0', '10.96', '10.99',\n",
       "       '11.15', '11.99', '119.99', '12.0', '12.89', '12.99', '124.99',\n",
       "       '129.99', '13.37', '13.98', '13.99', '139.92', '14.95', '14.99',\n",
       "       '149.99', '15.0', '15.99', '16.06', '16.99', '160.91', '17.99',\n",
       "       '18.99', '189.96', '19.95', '19.98', '19.99', '199.99', '2.0',\n",
       "       '2.3', '2.49', '2.89', '2.97', '2.99', '20.0', '20.99', '202.76',\n",
       "       '21.99', '23.96', '23.99', '234.99', '24.99', '26.99', '29.99',\n",
       "       '299.99', '3.0', '3.33', '3.49', '3.99', '31.99', '32.99', '320.0',\n",
       "       '34.99', '39.99', '4.0', '4.49', '4.68', '4.99', '40.0', '44.98',\n",
       "       '44.99', '49.99', '5.65', '5.99', '54.99', '59.95', '59.99',\n",
       "       '6.66', '6.99', '61.99', '7.49', '7.99', '74.76', '771.71',\n",
       "       '79.99', '8.98', '8.99', '87.94', '9.0', '9.69', '9.95', '9.98',\n",
       "       '9.99', '99.99', 'Free', 'Free Demo', 'Free HITMAN™ Holiday Pack',\n",
       "       'Free Mod', 'Free To Play', 'Free to Play',\n",
       "       'Play WARMACHINE: Tactics Demo', 'Play for Free!', 'Play the Demo',\n",
       "       'Third-party', 'nan'], dtype='<U32')"
      ]
     },
     "execution_count": 35,
     "metadata": {},
     "output_type": "execute_result"
    }
   ],
   "source": [
    "a = [np.unique(price) for price in data_games.price]\n",
    "\n",
    "np.unique(list(itertools.chain(*a)))"
   ]
  },
  {
   "cell_type": "markdown",
   "metadata": {},
   "source": [
    "Como podemos observar, el atributo precio contiene valores flotantes y del tipo string. De este modo, se decide realizar una transformación de sus datos a variable categórica binaria (gratis/pagó). El valor 'Starting at $499.00' se pasará a 'pagó'"
   ]
  },
  {
   "cell_type": "code",
   "execution_count": 36,
   "metadata": {},
   "outputs": [],
   "source": [
    "def transformar_precios(data):\n",
    "    data['category_price'] = data.price.apply(lambda p: 'paid' if (type(p) == float or p.startswith('Starting')) else 'free')\n",
    "    data.drop('price', axis=1, inplace=True)"
   ]
  },
  {
   "cell_type": "code",
   "execution_count": 37,
   "metadata": {},
   "outputs": [
    {
     "data": {
      "text/html": [
       "<div>\n",
       "<style scoped>\n",
       "    .dataframe tbody tr th:only-of-type {\n",
       "        vertical-align: middle;\n",
       "    }\n",
       "\n",
       "    .dataframe tbody tr th {\n",
       "        vertical-align: top;\n",
       "    }\n",
       "\n",
       "    .dataframe thead th {\n",
       "        text-align: right;\n",
       "    }\n",
       "</style>\n",
       "<table border=\"1\" class=\"dataframe\">\n",
       "  <thead>\n",
       "    <tr style=\"text-align: right;\">\n",
       "      <th></th>\n",
       "      <th>publisher</th>\n",
       "      <th>genres</th>\n",
       "      <th>app_name</th>\n",
       "      <th>url</th>\n",
       "      <th>release_date</th>\n",
       "      <th>id</th>\n",
       "      <th>categories</th>\n",
       "      <th>category_price</th>\n",
       "    </tr>\n",
       "  </thead>\n",
       "  <tbody>\n",
       "    <tr>\n",
       "      <th>0</th>\n",
       "      <td>Kotoshiro</td>\n",
       "      <td>[Action, Casual, Indie, Simulation, Strategy]</td>\n",
       "      <td>Lost Summoner Kitty</td>\n",
       "      <td>http://store.steampowered.com/app/761140/Lost_...</td>\n",
       "      <td>2018-01-04</td>\n",
       "      <td>761140</td>\n",
       "      <td>[action, casual, indie, simulation, singleplay...</td>\n",
       "      <td>paid</td>\n",
       "    </tr>\n",
       "    <tr>\n",
       "      <th>1</th>\n",
       "      <td>Making Fun, Inc.</td>\n",
       "      <td>[Free to Play, Indie, RPG, Strategy]</td>\n",
       "      <td>Ironbound</td>\n",
       "      <td>http://store.steampowered.com/app/643980/Ironb...</td>\n",
       "      <td>2018-01-04</td>\n",
       "      <td>643980</td>\n",
       "      <td>[2d, board game, card game, character customiz...</td>\n",
       "      <td>free</td>\n",
       "    </tr>\n",
       "  </tbody>\n",
       "</table>\n",
       "</div>"
      ],
      "text/plain": [
       "          publisher                                         genres  \\\n",
       "0         Kotoshiro  [Action, Casual, Indie, Simulation, Strategy]   \n",
       "1  Making Fun, Inc.           [Free to Play, Indie, RPG, Strategy]   \n",
       "\n",
       "              app_name                                                url  \\\n",
       "0  Lost Summoner Kitty  http://store.steampowered.com/app/761140/Lost_...   \n",
       "1            Ironbound  http://store.steampowered.com/app/643980/Ironb...   \n",
       "\n",
       "  release_date      id                                         categories  \\\n",
       "0   2018-01-04  761140  [action, casual, indie, simulation, singleplay...   \n",
       "1   2018-01-04  643980  [2d, board game, card game, character customiz...   \n",
       "\n",
       "  category_price  \n",
       "0           paid  \n",
       "1           free  "
      ]
     },
     "execution_count": 37,
     "metadata": {},
     "output_type": "execute_result"
    }
   ],
   "source": [
    "transformar_precios(data_games)\n",
    "data_games.head(2)"
   ]
  },
  {
   "cell_type": "markdown",
   "metadata": {},
   "source": [
    "### <font color='red'> Ahora continuamos con el preprocesamiento del dataframe que incluye los reviews <font>"
   ]
  },
  {
   "cell_type": "code",
   "execution_count": 38,
   "metadata": {},
   "outputs": [
    {
     "data": {
      "text/html": [
       "<div>\n",
       "<style scoped>\n",
       "    .dataframe tbody tr th:only-of-type {\n",
       "        vertical-align: middle;\n",
       "    }\n",
       "\n",
       "    .dataframe tbody tr th {\n",
       "        vertical-align: top;\n",
       "    }\n",
       "\n",
       "    .dataframe thead th {\n",
       "        text-align: right;\n",
       "    }\n",
       "</style>\n",
       "<table border=\"1\" class=\"dataframe\">\n",
       "  <thead>\n",
       "    <tr style=\"text-align: right;\">\n",
       "      <th></th>\n",
       "      <th>username</th>\n",
       "      <th>hours</th>\n",
       "      <th>products</th>\n",
       "      <th>product_id</th>\n",
       "      <th>page_order</th>\n",
       "      <th>date</th>\n",
       "      <th>text</th>\n",
       "      <th>early_access</th>\n",
       "      <th>page</th>\n",
       "      <th>user_id</th>\n",
       "    </tr>\n",
       "  </thead>\n",
       "  <tbody>\n",
       "    <tr>\n",
       "      <th>0</th>\n",
       "      <td>Chaos Syren</td>\n",
       "      <td>0.1</td>\n",
       "      <td>41.0</td>\n",
       "      <td>725280</td>\n",
       "      <td>0</td>\n",
       "      <td>2017-12-17</td>\n",
       "      <td>This would not be acceptable as an entertainme...</td>\n",
       "      <td>False</td>\n",
       "      <td>1</td>\n",
       "      <td>NaN</td>\n",
       "    </tr>\n",
       "    <tr>\n",
       "      <th>1</th>\n",
       "      <td>Ariman1</td>\n",
       "      <td>13.2</td>\n",
       "      <td>1386.0</td>\n",
       "      <td>328100</td>\n",
       "      <td>2</td>\n",
       "      <td>2017-08-02</td>\n",
       "      <td>Addictive RPG ! Works fine on linux though it ...</td>\n",
       "      <td>False</td>\n",
       "      <td>1</td>\n",
       "      <td>NaN</td>\n",
       "    </tr>\n",
       "  </tbody>\n",
       "</table>\n",
       "</div>"
      ],
      "text/plain": [
       "      username  hours  products product_id  page_order        date  \\\n",
       "0  Chaos Syren    0.1      41.0     725280           0  2017-12-17   \n",
       "1      Ariman1   13.2    1386.0     328100           2  2017-08-02   \n",
       "\n",
       "                                                text  early_access  page  \\\n",
       "0  This would not be acceptable as an entertainme...         False     1   \n",
       "1  Addictive RPG ! Works fine on linux though it ...         False     1   \n",
       "\n",
       "  user_id  \n",
       "0     NaN  \n",
       "1     NaN  "
      ]
     },
     "execution_count": 38,
     "metadata": {},
     "output_type": "execute_result"
    }
   ],
   "source": [
    "data_reviews.head(2)"
   ]
  },
  {
   "cell_type": "code",
   "execution_count": 39,
   "metadata": {},
   "outputs": [
    {
     "data": {
      "text/plain": [
       "username             0\n",
       "hours             2637\n",
       "products          1566\n",
       "product_id           0\n",
       "page_order           0\n",
       "date                 0\n",
       "text                 0\n",
       "early_access         0\n",
       "page                 0\n",
       "user_id         461967\n",
       "dtype: int64"
      ]
     },
     "execution_count": 39,
     "metadata": {},
     "output_type": "execute_result"
    }
   ],
   "source": [
    "data_reviews.isnull().sum()"
   ]
  },
  {
   "cell_type": "code",
   "execution_count": 40,
   "metadata": {},
   "outputs": [],
   "source": [
    "# A continuación verificamos si un usuario ha realizado más de un review para el mismo videojuego\n",
    "\n",
    "repeated_reviews = data_reviews[data_reviews.duplicated(subset=['username', 'product_id'], keep=False)].sort_values(by='username')"
   ]
  },
  {
   "cell_type": "code",
   "execution_count": 41,
   "metadata": {},
   "outputs": [
    {
     "name": "stdout",
     "output_type": "stream",
     "text": [
      "Reviews del mismo usuario al mismo videojuego: (20343, 10)\n"
     ]
    }
   ],
   "source": [
    "print('Reviews del mismo usuario al mismo videojuego:', repeated_reviews.shape)"
   ]
  },
  {
   "cell_type": "code",
   "execution_count": 42,
   "metadata": {},
   "outputs": [
    {
     "data": {
      "text/html": [
       "<div>\n",
       "<style scoped>\n",
       "    .dataframe tbody tr th:only-of-type {\n",
       "        vertical-align: middle;\n",
       "    }\n",
       "\n",
       "    .dataframe tbody tr th {\n",
       "        vertical-align: top;\n",
       "    }\n",
       "\n",
       "    .dataframe thead th {\n",
       "        text-align: right;\n",
       "    }\n",
       "</style>\n",
       "<table border=\"1\" class=\"dataframe\">\n",
       "  <thead>\n",
       "    <tr style=\"text-align: right;\">\n",
       "      <th></th>\n",
       "      <th>username</th>\n",
       "      <th>hours</th>\n",
       "      <th>products</th>\n",
       "      <th>product_id</th>\n",
       "      <th>page_order</th>\n",
       "      <th>date</th>\n",
       "      <th>text</th>\n",
       "      <th>early_access</th>\n",
       "      <th>page</th>\n",
       "      <th>user_id</th>\n",
       "    </tr>\n",
       "  </thead>\n",
       "  <tbody>\n",
       "    <tr>\n",
       "      <th>302434</th>\n",
       "      <td>!K3V0N!</td>\n",
       "      <td>76.7</td>\n",
       "      <td>143.0</td>\n",
       "      <td>201810</td>\n",
       "      <td>9</td>\n",
       "      <td>2014-11-14</td>\n",
       "      <td>As far as first person shooters go, excellent....</td>\n",
       "      <td>False</td>\n",
       "      <td>1201</td>\n",
       "      <td>76561198048333835</td>\n",
       "    </tr>\n",
       "    <tr>\n",
       "      <th>302438</th>\n",
       "      <td>!K3V0N!</td>\n",
       "      <td>76.7</td>\n",
       "      <td>143.0</td>\n",
       "      <td>201810</td>\n",
       "      <td>2</td>\n",
       "      <td>2014-11-14</td>\n",
       "      <td>As far as first person shooters go, excellent....</td>\n",
       "      <td>False</td>\n",
       "      <td>1202</td>\n",
       "      <td>76561198048333835</td>\n",
       "    </tr>\n",
       "    <tr>\n",
       "      <th>378384</th>\n",
       "      <td>\"JNK48\"</td>\n",
       "      <td>24.9</td>\n",
       "      <td>29.0</td>\n",
       "      <td>433850</td>\n",
       "      <td>8</td>\n",
       "      <td>2017-01-29</td>\n",
       "      <td>so fun</td>\n",
       "      <td>True</td>\n",
       "      <td>2611</td>\n",
       "      <td>NaN</td>\n",
       "    </tr>\n",
       "    <tr>\n",
       "      <th>378394</th>\n",
       "      <td>\"JNK48\"</td>\n",
       "      <td>24.9</td>\n",
       "      <td>29.0</td>\n",
       "      <td>433850</td>\n",
       "      <td>2</td>\n",
       "      <td>2017-01-29</td>\n",
       "      <td>so fun</td>\n",
       "      <td>True</td>\n",
       "      <td>2615</td>\n",
       "      <td>NaN</td>\n",
       "    </tr>\n",
       "  </tbody>\n",
       "</table>\n",
       "</div>"
      ],
      "text/plain": [
       "       username  hours  products product_id  page_order        date  \\\n",
       "302434  !K3V0N!   76.7     143.0     201810           9  2014-11-14   \n",
       "302438  !K3V0N!   76.7     143.0     201810           2  2014-11-14   \n",
       "378384  \"JNK48\"   24.9      29.0     433850           8  2017-01-29   \n",
       "378394  \"JNK48\"   24.9      29.0     433850           2  2017-01-29   \n",
       "\n",
       "                                                     text  early_access  page  \\\n",
       "302434  As far as first person shooters go, excellent....         False  1201   \n",
       "302438  As far as first person shooters go, excellent....         False  1202   \n",
       "378384                                             so fun          True  2611   \n",
       "378394                                             so fun          True  2615   \n",
       "\n",
       "                  user_id  \n",
       "302434  76561198048333835  \n",
       "302438  76561198048333835  \n",
       "378384                NaN  \n",
       "378394                NaN  "
      ]
     },
     "execution_count": 42,
     "metadata": {},
     "output_type": "execute_result"
    }
   ],
   "source": [
    "repeated_reviews.head(4)"
   ]
  },
  {
   "cell_type": "code",
   "execution_count": 43,
   "metadata": {},
   "outputs": [],
   "source": [
    "# Nos quedaremos con el último review realizado al mismo videojuego por el mismo usuario\n",
    "unrepeated_reviews = data_reviews.sort_values(by='date', ascending=False).drop_duplicates(subset=['username', 'product_id'])"
   ]
  },
  {
   "cell_type": "code",
   "execution_count": 44,
   "metadata": {},
   "outputs": [
    {
     "data": {
      "text/html": [
       "<div>\n",
       "<style scoped>\n",
       "    .dataframe tbody tr th:only-of-type {\n",
       "        vertical-align: middle;\n",
       "    }\n",
       "\n",
       "    .dataframe tbody tr th {\n",
       "        vertical-align: top;\n",
       "    }\n",
       "\n",
       "    .dataframe thead th {\n",
       "        text-align: right;\n",
       "    }\n",
       "</style>\n",
       "<table border=\"1\" class=\"dataframe\">\n",
       "  <thead>\n",
       "    <tr style=\"text-align: right;\">\n",
       "      <th></th>\n",
       "      <th>username</th>\n",
       "      <th>hours</th>\n",
       "      <th>products</th>\n",
       "      <th>product_id</th>\n",
       "      <th>page_order</th>\n",
       "      <th>date</th>\n",
       "      <th>text</th>\n",
       "      <th>early_access</th>\n",
       "      <th>page</th>\n",
       "      <th>user_id</th>\n",
       "    </tr>\n",
       "  </thead>\n",
       "  <tbody>\n",
       "    <tr>\n",
       "      <th>302438</th>\n",
       "      <td>!K3V0N!</td>\n",
       "      <td>76.7</td>\n",
       "      <td>143.0</td>\n",
       "      <td>201810</td>\n",
       "      <td>2</td>\n",
       "      <td>2014-11-14</td>\n",
       "      <td>As far as first person shooters go, excellent....</td>\n",
       "      <td>False</td>\n",
       "      <td>1202</td>\n",
       "      <td>76561198048333835</td>\n",
       "    </tr>\n",
       "  </tbody>\n",
       "</table>\n",
       "</div>"
      ],
      "text/plain": [
       "       username  hours  products product_id  page_order        date  \\\n",
       "302438  !K3V0N!   76.7     143.0     201810           2  2014-11-14   \n",
       "\n",
       "                                                     text  early_access  page  \\\n",
       "302438  As far as first person shooters go, excellent....         False  1202   \n",
       "\n",
       "                  user_id  \n",
       "302438  76561198048333835  "
      ]
     },
     "execution_count": 44,
     "metadata": {},
     "output_type": "execute_result"
    }
   ],
   "source": [
    "unrepeated_reviews.query('username==\"!K3V0N!\" & product_id==\"201810\"')"
   ]
  },
  {
   "cell_type": "code",
   "execution_count": 45,
   "metadata": {},
   "outputs": [],
   "source": [
    "data_reviews = unrepeated_reviews.copy()\n",
    "\n",
    "del repeated_reviews\n",
    "del unrepeated_reviews"
   ]
  },
  {
   "cell_type": "code",
   "execution_count": 46,
   "metadata": {},
   "outputs": [],
   "source": [
    "# Eliminamos aquellas columnas que no nos aportan información trascendente\n",
    "data_reviews.drop(columns = ['products', 'page_order', 'early_access', 'page', 'user_id'], inplace = True)"
   ]
  },
  {
   "cell_type": "code",
   "execution_count": 47,
   "metadata": {},
   "outputs": [
    {
     "data": {
      "text/html": [
       "<div>\n",
       "<style scoped>\n",
       "    .dataframe tbody tr th:only-of-type {\n",
       "        vertical-align: middle;\n",
       "    }\n",
       "\n",
       "    .dataframe tbody tr th {\n",
       "        vertical-align: top;\n",
       "    }\n",
       "\n",
       "    .dataframe thead th {\n",
       "        text-align: right;\n",
       "    }\n",
       "</style>\n",
       "<table border=\"1\" class=\"dataframe\">\n",
       "  <thead>\n",
       "    <tr style=\"text-align: right;\">\n",
       "      <th></th>\n",
       "      <th>username</th>\n",
       "      <th>hours</th>\n",
       "      <th>product_id</th>\n",
       "      <th>date</th>\n",
       "      <th>text</th>\n",
       "    </tr>\n",
       "  </thead>\n",
       "  <tbody>\n",
       "    <tr>\n",
       "      <th>662506</th>\n",
       "      <td>PromiseVehicle</td>\n",
       "      <td>1.7</td>\n",
       "      <td>225840</td>\n",
       "      <td>2018-01-05</td>\n",
       "      <td>WOW BEST CO OP EVER NO GLITHCES I PLAY WITH MY...</td>\n",
       "    </tr>\n",
       "    <tr>\n",
       "      <th>356147</th>\n",
       "      <td>eye contact</td>\n",
       "      <td>27.1</td>\n",
       "      <td>550</td>\n",
       "      <td>2018-01-05</td>\n",
       "      <td>i was shooting black zombies and im ok with that</td>\n",
       "    </tr>\n",
       "    <tr>\n",
       "      <th>560549</th>\n",
       "      <td>TheUnseenPooper</td>\n",
       "      <td>479.4</td>\n",
       "      <td>552110</td>\n",
       "      <td>2018-01-05</td>\n",
       "      <td>Game says last year but this is just a port to...</td>\n",
       "    </tr>\n",
       "  </tbody>\n",
       "</table>\n",
       "</div>"
      ],
      "text/plain": [
       "               username  hours product_id        date  \\\n",
       "662506   PromiseVehicle    1.7     225840  2018-01-05   \n",
       "356147      eye contact   27.1        550  2018-01-05   \n",
       "560549  TheUnseenPooper  479.4     552110  2018-01-05   \n",
       "\n",
       "                                                     text  \n",
       "662506  WOW BEST CO OP EVER NO GLITHCES I PLAY WITH MY...  \n",
       "356147   i was shooting black zombies and im ok with that  \n",
       "560549  Game says last year but this is just a port to...  "
      ]
     },
     "execution_count": 47,
     "metadata": {},
     "output_type": "execute_result"
    }
   ],
   "source": [
    "data_reviews.head(3)"
   ]
  },
  {
   "cell_type": "code",
   "execution_count": 48,
   "metadata": {},
   "outputs": [
    {
     "data": {
      "text/plain": [
       "username         0\n",
       "hours         2632\n",
       "product_id       0\n",
       "date             0\n",
       "text             0\n",
       "dtype: int64"
      ]
     },
     "execution_count": 48,
     "metadata": {},
     "output_type": "execute_result"
    }
   ],
   "source": [
    "data_reviews.isnull().sum()"
   ]
  },
  {
   "cell_type": "markdown",
   "metadata": {},
   "source": [
    "***Para los valores faltantes correspodientes a las horas de juego, se decide eliminar esas instancias ya que los valores faltantes representan una proporción insignificante respecto del total de datos***"
   ]
  },
  {
   "cell_type": "code",
   "execution_count": 49,
   "metadata": {},
   "outputs": [
    {
     "data": {
      "text/plain": [
       "0.34"
      ]
     },
     "execution_count": 49,
     "metadata": {},
     "output_type": "execute_result"
    }
   ],
   "source": [
    "round(data_reviews.hours.isnull().sum()/len(data_reviews)*100,2)"
   ]
  },
  {
   "cell_type": "code",
   "execution_count": 50,
   "metadata": {},
   "outputs": [
    {
     "data": {
      "text/plain": [
       "(768903, 5)"
      ]
     },
     "execution_count": 50,
     "metadata": {},
     "output_type": "execute_result"
    }
   ],
   "source": [
    "data_reviews.shape"
   ]
  },
  {
   "cell_type": "code",
   "execution_count": 51,
   "metadata": {},
   "outputs": [],
   "source": [
    "data_reviews.dropna(subset= ['hours'], inplace =True)"
   ]
  },
  {
   "cell_type": "code",
   "execution_count": 52,
   "metadata": {},
   "outputs": [
    {
     "data": {
      "text/plain": [
       "(766271, 5)"
      ]
     },
     "execution_count": 52,
     "metadata": {},
     "output_type": "execute_result"
    }
   ],
   "source": [
    "data_reviews.shape"
   ]
  },
  {
   "cell_type": "markdown",
   "metadata": {},
   "source": [
    "### Tratamiento de valores atípicos"
   ]
  },
  {
   "cell_type": "code",
   "execution_count": 53,
   "metadata": {},
   "outputs": [],
   "source": [
    "import matplotlib.pyplot as plt\n",
    "import seaborn as sns\n",
    "sns.set()"
   ]
  },
  {
   "cell_type": "code",
   "execution_count": 54,
   "metadata": {},
   "outputs": [
    {
     "data": {
      "text/plain": [
       "<AxesSubplot:xlabel='hours'>"
      ]
     },
     "execution_count": 54,
     "metadata": {},
     "output_type": "execute_result"
    },
    {
     "data": {
      "image/png": "[encoded data removed]",
      "text/plain": [
       "<Figure size 432x288 with 1 Axes>"
      ]
     },
     "metadata": {},
     "output_type": "display_data"
    }
   ],
   "source": [
    "sns.boxplot(data= data_reviews, x= 'hours')"
   ]
  },
  {
   "cell_type": "markdown",
   "metadata": {},
   "source": [
    "####        En esta instancia, eliminamos los outliers aplicando la técnica del rango intercuartílico, ya que es una de las más empleadas y efectivas en la materia.\n",
    "*Como se desprende del gráfico, la presencia de estos valores atípicos no solo que distorsionan el análisis que se puede hacer de un determinado conjunto de valores, sino que tambíen su presencia afectaría de manera considerable el rendimiento de un modelo de machine learning.*"
   ]
  },
  {
   "cell_type": "code",
   "execution_count": 55,
   "metadata": {},
   "outputs": [
    {
     "name": "stdout",
     "output_type": "stream",
     "text": [
      "Cantidad de valores eliminados:  108971\n"
     ]
    },
    {
     "data": {
      "text/plain": [
       "(657300, 5)"
      ]
     },
     "execution_count": 55,
     "metadata": {},
     "output_type": "execute_result"
    }
   ],
   "source": [
    "Q1 = data_reviews['hours'].quantile(0.25)\n",
    "Q3 = data_reviews['hours'].quantile(0.75)\n",
    "IQR = Q3 - Q1\n",
    "BI = Q1 - 1.5*IQR\n",
    "BS = Q3 + 1.5*IQR\n",
    "\n",
    "out = (data_reviews['hours']<BI) | (data_reviews['hours']>BS)\n",
    "print('Cantidad de valores eliminados: ', out.sum())\n",
    "data_reviews = data_reviews[~out]\n",
    "\n",
    "data_reviews.shape"
   ]
  },
  {
   "cell_type": "code",
   "execution_count": 56,
   "metadata": {},
   "outputs": [
    {
     "data": {
      "text/plain": [
       "<AxesSubplot:xlabel='hours'>"
      ]
     },
     "execution_count": 56,
     "metadata": {},
     "output_type": "execute_result"
    },
    {
     "data": {
      "image/png": "[encoded data removed]",
      "text/plain": [
       "<Figure size 432x288 with 1 Axes>"
      ]
     },
     "metadata": {},
     "output_type": "display_data"
    }
   ],
   "source": [
    "sns.boxplot(data= data_reviews, x= 'hours')"
   ]
  },
  {
   "cell_type": "code",
   "execution_count": 57,
   "metadata": {},
   "outputs": [
    {
     "data": {
      "text/html": [
       "<div>\n",
       "<style scoped>\n",
       "    .dataframe tbody tr th:only-of-type {\n",
       "        vertical-align: middle;\n",
       "    }\n",
       "\n",
       "    .dataframe tbody tr th {\n",
       "        vertical-align: top;\n",
       "    }\n",
       "\n",
       "    .dataframe thead th {\n",
       "        text-align: right;\n",
       "    }\n",
       "</style>\n",
       "<table border=\"1\" class=\"dataframe\">\n",
       "  <thead>\n",
       "    <tr style=\"text-align: right;\">\n",
       "      <th></th>\n",
       "      <th>username</th>\n",
       "      <th>hours</th>\n",
       "      <th>product_id</th>\n",
       "      <th>date</th>\n",
       "      <th>text</th>\n",
       "    </tr>\n",
       "  </thead>\n",
       "  <tbody>\n",
       "    <tr>\n",
       "      <th>616932</th>\n",
       "      <td>General Jeff</td>\n",
       "      <td>0.0</td>\n",
       "      <td>355950</td>\n",
       "      <td>2017-11-26</td>\n",
       "      <td>I have a black friend named jared, one time I ...</td>\n",
       "    </tr>\n",
       "    <tr>\n",
       "      <th>541503</th>\n",
       "      <td>Stefan0</td>\n",
       "      <td>0.0</td>\n",
       "      <td>65720</td>\n",
       "      <td>2017-07-01</td>\n",
       "      <td>10/10</td>\n",
       "    </tr>\n",
       "    <tr>\n",
       "      <th>416596</th>\n",
       "      <td>Tore</td>\n",
       "      <td>0.0</td>\n",
       "      <td>8660</td>\n",
       "      <td>2017-06-10</td>\n",
       "      <td>Great, fun and authentic racing sim if you don...</td>\n",
       "    </tr>\n",
       "    <tr>\n",
       "      <th>541514</th>\n",
       "      <td>ThE GhOsT</td>\n",
       "      <td>0.0</td>\n",
       "      <td>65720</td>\n",
       "      <td>2017-02-03</td>\n",
       "      <td>10/10</td>\n",
       "    </tr>\n",
       "    <tr>\n",
       "      <th>682678</th>\n",
       "      <td>blokops</td>\n",
       "      <td>0.0</td>\n",
       "      <td>391270</td>\n",
       "      <td>2016-12-03</td>\n",
       "      <td>Short ans simple ,</td>\n",
       "    </tr>\n",
       "    <tr>\n",
       "      <th>...</th>\n",
       "      <td>...</td>\n",
       "      <td>...</td>\n",
       "      <td>...</td>\n",
       "      <td>...</td>\n",
       "      <td>...</td>\n",
       "    </tr>\n",
       "    <tr>\n",
       "      <th>329088</th>\n",
       "      <td>[NTA]-Sandata</td>\n",
       "      <td>0.0</td>\n",
       "      <td>2360</td>\n",
       "      <td>2010-11-21</td>\n",
       "      <td>Doom + Puzzle Items + RPG = Hexen. Three class...</td>\n",
       "    </tr>\n",
       "    <tr>\n",
       "      <th>225755</th>\n",
       "      <td>Aus</td>\n",
       "      <td>0.0</td>\n",
       "      <td>70</td>\n",
       "      <td>2010-11-20</td>\n",
       "      <td>A timeless classic. i can still play this and ...</td>\n",
       "    </tr>\n",
       "    <tr>\n",
       "      <th>487792</th>\n",
       "      <td>I'm that dude.</td>\n",
       "      <td>0.0</td>\n",
       "      <td>15710</td>\n",
       "      <td>2010-11-20</td>\n",
       "      <td>If you played the first one, you know the deal...</td>\n",
       "    </tr>\n",
       "    <tr>\n",
       "      <th>700024</th>\n",
       "      <td>Ivan Skodje</td>\n",
       "      <td>0.0</td>\n",
       "      <td>10180</td>\n",
       "      <td>2010-11-19</td>\n",
       "      <td>+1</td>\n",
       "    </tr>\n",
       "    <tr>\n",
       "      <th>225774</th>\n",
       "      <td>UVULA</td>\n",
       "      <td>0.0</td>\n",
       "      <td>70</td>\n",
       "      <td>2010-11-19</td>\n",
       "      <td>This revolutionized and changed the way FPS ar...</td>\n",
       "    </tr>\n",
       "  </tbody>\n",
       "</table>\n",
       "<p>457 rows × 5 columns</p>\n",
       "</div>"
      ],
      "text/plain": [
       "              username  hours product_id        date  \\\n",
       "616932    General Jeff    0.0     355950  2017-11-26   \n",
       "541503         Stefan0    0.0      65720  2017-07-01   \n",
       "416596            Tore    0.0       8660  2017-06-10   \n",
       "541514       ThE GhOsT    0.0      65720  2017-02-03   \n",
       "682678         blokops    0.0     391270  2016-12-03   \n",
       "...                ...    ...        ...         ...   \n",
       "329088   [NTA]-Sandata    0.0       2360  2010-11-21   \n",
       "225755             Aus    0.0         70  2010-11-20   \n",
       "487792  I'm that dude.    0.0      15710  2010-11-20   \n",
       "700024     Ivan Skodje    0.0      10180  2010-11-19   \n",
       "225774           UVULA    0.0         70  2010-11-19   \n",
       "\n",
       "                                                     text  \n",
       "616932  I have a black friend named jared, one time I ...  \n",
       "541503                                              10/10  \n",
       "416596  Great, fun and authentic racing sim if you don...  \n",
       "541514                                              10/10  \n",
       "682678                                 Short ans simple ,  \n",
       "...                                                   ...  \n",
       "329088  Doom + Puzzle Items + RPG = Hexen. Three class...  \n",
       "225755  A timeless classic. i can still play this and ...  \n",
       "487792  If you played the first one, you know the deal...  \n",
       "700024                                                 +1  \n",
       "225774  This revolutionized and changed the way FPS ar...  \n",
       "\n",
       "[457 rows x 5 columns]"
      ]
     },
     "execution_count": 57,
     "metadata": {},
     "output_type": "execute_result"
    }
   ],
   "source": [
    "#Comprobamos si tenemos reviews con 0 horas de juego. En ese caso, debemos eliminarlos\n",
    "\n",
    "data_reviews[data_reviews.hours == 0]"
   ]
  },
  {
   "cell_type": "code",
   "execution_count": 58,
   "metadata": {},
   "outputs": [
    {
     "data": {
      "text/plain": [
       "(656843, 5)"
      ]
     },
     "execution_count": 58,
     "metadata": {},
     "output_type": "execute_result"
    }
   ],
   "source": [
    "data_reviews = data_reviews[(data_reviews.hours > 0)]\n",
    "data_reviews.shape"
   ]
  },
  {
   "cell_type": "code",
   "execution_count": 59,
   "metadata": {},
   "outputs": [
    {
     "name": "stdout",
     "output_type": "stream",
     "text": [
      "(656843, 5)\n",
      "(654149, 5)\n"
     ]
    }
   ],
   "source": [
    "# Eliminamos los juegos con menos de 2 reviews\n",
    "\n",
    "print(data_reviews.shape)\n",
    "data_reviews = data_reviews.groupby('product_id').filter(lambda x: len(x) >= 2)\n",
    "data_reviews.product_id.value_counts()\n",
    "print(data_reviews.shape)"
   ]
  },
  {
   "cell_type": "markdown",
   "metadata": {},
   "source": [
    "## PARTE A - Análisis Exploratorio de Datos"
   ]
  },
  {
   "cell_type": "code",
   "execution_count": 60,
   "metadata": {},
   "outputs": [
    {
     "name": "stdout",
     "output_type": "stream",
     "text": [
      "La cantidad de usuarios únicos es: 460811\n"
     ]
    }
   ],
   "source": [
    "print(f'La cantidad de usuarios únicos es: {len(data_reviews.username.value_counts())}')"
   ]
  },
  {
   "cell_type": "code",
   "execution_count": 61,
   "metadata": {},
   "outputs": [
    {
     "name": "stdout",
     "output_type": "stream",
     "text": [
      "Cantidad mínima de videojuegos jugados por usuario: 1\n",
      "Cantidad máxima de videojuegos jugados por usuario: 144\n",
      "Promedio de videojuegos jugados por usuario: 1.4195602969547167\n",
      "Promedio de horas jugadas: 23.491846047307266\n"
     ]
    }
   ],
   "source": [
    "print(\"Cantidad mínima de videojuegos jugados por usuario:\", data_reviews[\"username\"].value_counts().min())\n",
    "print(\"Cantidad máxima de videojuegos jugados por usuario:\", data_reviews[\"username\"].value_counts().max())\n",
    "print(\"Promedio de videojuegos jugados por usuario:\", data_reviews[\"username\"].value_counts().mean())\n",
    "print(\"Promedio de horas jugadas:\", data_reviews[\"hours\"].mean())"
   ]
  },
  {
   "cell_type": "code",
   "execution_count": 62,
   "metadata": {},
   "outputs": [
    {
     "name": "stdout",
     "output_type": "stream",
     "text": [
      "['Team Fortress 2']\n",
      "['Undertale']\n",
      "['Portal 2']\n",
      "['Life is Strange - Episode 1']\n",
      "['Borderlands 2']\n",
      "['Rust']\n",
      "['Robocraft']\n",
      "['Fallout 4']\n",
      "['DayZ']\n",
      "['Grand Theft Auto V']\n"
     ]
    }
   ],
   "source": [
    "# ¿Cuáles son los 10 juegos más populares?\n",
    "\n",
    "for i in range(0,10):\n",
    "    print(data_games[data_games.id==str(data_reviews.product_id.value_counts().index[i])].app_name.values)"
   ]
  },
  {
   "cell_type": "code",
   "execution_count": 63,
   "metadata": {},
   "outputs": [],
   "source": [
    "amount_by_productId = data_reviews.groupby('product_id').product_id.count().reset_index(name='amount')\n",
    "\n",
    "reviews_games_amount = pd.merge(amount_by_productId, data_games, left_on='product_id',\n",
    "                               right_on='id').sort_values(by='amount', ascending=False)\n",
    "top10 = reviews_games_amount.head(10)"
   ]
  },
  {
   "cell_type": "code",
   "execution_count": 64,
   "metadata": {},
   "outputs": [
    {
     "data": {
      "image/svg+xml": [
       "<svg xmlns=\"http://www.w3.org/2000/svg\" xmlns:xlink=\"http://www.w3.org/1999/xlink\" class=\"main-svg\" width=\"900\" height=\"450\" style=\"\" viewBox=\"0 0 900 450\"><rect x=\"0\" y=\"0\" width=\"900\" height=\"450\" style=\"fill: rgb(250, 250, 250); fill-opacity: 1;\"/><defs id=\"defs-91411d\"><g class=\"clips\"><clipPath id=\"clip91411dxyplot\" class=\"plotclip\"><rect width=\"512\" height=\"357\"/></clipPath><clipPath class=\"axesclip\" id=\"clip91411dx\"><rect x=\"197\" y=\"0\" width=\"512\" height=\"450\"/></clipPath><clipPath class=\"axesclip\" id=\"clip91411dy\"><rect x=\"0\" y=\"40\" width=\"900\" height=\"357\"/></clipPath><clipPath class=\"axesclip\" id=\"clip91411dxy\"><rect x=\"197\" y=\"40\" width=\"512\" height=\"357\"/></clipPath></g><g class=\"gradients\"><linearGradient x1=\"0\" x2=\"0\" y1=\"1\" y2=\"0\" id=\"g91411d-cbcoloraxis\"><stop offset=\"0%\" stop-color=\"rgb(68, 1, 84)\" stop-opacity=\"1\"/><stop offset=\"11.111111%\" stop-color=\"rgb(72, 40, 120)\" stop-opacity=\"1\"/><stop offset=\"22.222222%\" stop-color=\"rgb(62, 73, 137)\" stop-opacity=\"1\"/><stop offset=\"33.333333%\" stop-color=\"rgb(49, 104, 142)\" stop-opacity=\"1\"/><stop offset=\"44.444444%\" stop-color=\"rgb(38, 130, 142)\" stop-opacity=\"1\"/><stop offset=\"55.555556%\" stop-color=\"rgb(31, 158, 137)\" stop-opacity=\"1\"/><stop offset=\"66.666667%\" stop-color=\"rgb(53, 183, 121)\" stop-opacity=\"1\"/><stop offset=\"77.777778%\" stop-color=\"rgb(110, 206, 88)\" stop-opacity=\"1\"/><stop offset=\"88.888889%\" stop-color=\"rgb(181, 222, 43)\" stop-opacity=\"1\"/><stop offset=\"100%\" stop-color=\"rgb(253, 231, 37)\" stop-opacity=\"1\"/></linearGradient></g><g class=\"patterns\"/></defs><g class=\"bglayer\"><rect class=\"bg\" x=\"197\" y=\"40\" width=\"512\" height=\"357\" style=\"fill: rgb(229, 236, 246); fill-opacity: 1; stroke-width: 0;\"/></g><g class=\"layer-below\"><g class=\"imagelayer\"/><g class=\"shapelayer\"/></g><g class=\"cartesianlayer\"><g class=\"subplot xy\"><g class=\"layer-subplot\"><g class=\"shapelayer\"/><g class=\"imagelayer\"/></g><g class=\"gridlayer\"><g class=\"x\"><path class=\"xgrid crisp\" transform=\"translate(279.93,0)\" d=\"M0,40v357\" style=\"stroke: rgb(255, 255, 255); stroke-opacity: 1; stroke-width: 1px;\"/><path class=\"xgrid crisp\" transform=\"translate(362.87,0)\" d=\"M0,40v357\" style=\"stroke: rgb(255, 255, 255); stroke-opacity: 1; stroke-width: 1px;\"/><path class=\"xgrid crisp\" transform=\"translate(445.8,0)\" d=\"M0,40v357\" style=\"stroke: rgb(255, 255, 255); stroke-opacity: 1; stroke-width: 1px;\"/><path class=\"xgrid crisp\" transform=\"translate(528.73,0)\" d=\"M0,40v357\" style=\"stroke: rgb(255, 255, 255); stroke-opacity: 1; stroke-width: 1px;\"/><path class=\"xgrid crisp\" transform=\"translate(611.6600000000001,0)\" d=\"M0,40v357\" style=\"stroke: rgb(255, 255, 255); stroke-opacity: 1; stroke-width: 1px;\"/><path class=\"xgrid crisp\" transform=\"translate(694.6,0)\" d=\"M0,40v357\" style=\"stroke: rgb(255, 255, 255); stroke-opacity: 1; stroke-width: 1px;\"/></g><g class=\"y\"/></g><g class=\"zerolinelayer\"><path class=\"xzl zl crisp\" transform=\"translate(197,0)\" d=\"M0,40v357\" style=\"stroke: rgb(255, 255, 255); stroke-opacity: 1; stroke-width: 2px;\"/></g><path class=\"xlines-below\"/><path class=\"ylines-below\"/><g class=\"overlines-below\"/><g class=\"xaxislayer-below\"/><g class=\"yaxislayer-below\"/><g class=\"overaxes-below\"/><g class=\"plot\" transform=\"translate(197,40)\" clip-path=\"url(#clip91411dxyplot)\"><g class=\"barlayer mlayer\"><g class=\"trace bars\" style=\"opacity: 1;\"><g class=\"points\"><g class=\"point\"><path d=\"M0,353.43V324.87H256.68V353.43Z\" style=\"vector-effect: non-scaling-stroke; opacity: 1; stroke-width: 0.5px; fill: rgb(68, 1, 84); fill-opacity: 1; stroke: rgb(229, 236, 246); stroke-opacity: 1;\"/></g><g class=\"point\"><path d=\"M0,317.73V289.17H262.4V317.73Z\" style=\"vector-effect: non-scaling-stroke; opacity: 1; stroke-width: 0.5px; fill: rgb(69, 10, 92); fill-opacity: 1; stroke: rgb(229, 236, 246); stroke-opacity: 1;\"/></g><g class=\"point\"><path d=\"M0,282.03V253.47H292.75V282.03Z\" style=\"vector-effect: non-scaling-stroke; opacity: 1; stroke-width: 0.5px; fill: rgb(68, 54, 127); fill-opacity: 1; stroke: rgb(229, 236, 246); stroke-opacity: 1;\"/></g><g class=\"point\"><path d=\"M0,246.33V217.77H318.71V246.33Z\" style=\"vector-effect: non-scaling-stroke; opacity: 1; stroke-width: 0.5px; fill: rgb(56, 86, 139); fill-opacity: 1; stroke: rgb(229, 236, 246); stroke-opacity: 1;\"/></g><g class=\"point\"><path d=\"M0,210.63V182.07H371.46V210.63Z\" style=\"vector-effect: non-scaling-stroke; opacity: 1; stroke-width: 0.5px; fill: rgb(35, 144, 140); fill-opacity: 1; stroke: rgb(229, 236, 246); stroke-opacity: 1;\"/></g><g class=\"point\"><path d=\"M0,174.93V146.37H376.68V174.93Z\" style=\"vector-effect: non-scaling-stroke; opacity: 1; stroke-width: 0.5px; fill: rgb(33, 150, 138); fill-opacity: 1; stroke: rgb(229, 236, 246); stroke-opacity: 1;\"/></g><g class=\"point\"><path d=\"M0,139.23V110.67H411.26V139.23Z\" style=\"vector-effect: non-scaling-stroke; opacity: 1; stroke-width: 0.5px; fill: rgb(56, 184, 119); fill-opacity: 1; stroke: rgb(229, 236, 246); stroke-opacity: 1;\"/></g><g class=\"point\"><path d=\"M0,103.53V74.97H425.2V103.53Z\" style=\"vector-effect: non-scaling-stroke; opacity: 1; stroke-width: 0.5px; fill: rgb(87, 197, 101); fill-opacity: 1; stroke: rgb(229, 236, 246); stroke-opacity: 1;\"/></g><g class=\"point\"><path d=\"M0,67.83V39.27H445.1V67.83Z\" style=\"vector-effect: non-scaling-stroke; opacity: 1; stroke-width: 0.5px; fill: rgb(137, 212, 71); fill-opacity: 1; stroke: rgb(229, 236, 246); stroke-opacity: 1;\"/></g><g class=\"point\"><path d=\"M0,32.13V3.57H486.4V32.13Z\" style=\"vector-effect: non-scaling-stroke; opacity: 1; stroke-width: 0.5px; fill: rgb(253, 231, 37); fill-opacity: 1; stroke: rgb(229, 236, 246); stroke-opacity: 1;\"/></g></g></g></g></g><g class=\"overplot\"/><path class=\"xlines-above crisp\" d=\"M0,0\" style=\"fill: none;\"/><path class=\"ylines-above crisp\" d=\"M0,0\" style=\"fill: none;\"/><g class=\"overlines-above\"/><g class=\"xaxislayer-above\"><g class=\"xtick\"><text text-anchor=\"middle\" x=\"0\" y=\"410\" transform=\"translate(197,0)\" style=\"font-family: 'Open Sans', verdana, arial, sans-serif; font-size: 12px; fill: rgb(42, 63, 95); fill-opacity: 1; white-space: pre; opacity: 1;\">0</text></g><g class=\"xtick\"><text text-anchor=\"middle\" x=\"0\" y=\"410\" style=\"font-family: 'Open Sans', verdana, arial, sans-serif; font-size: 12px; fill: rgb(42, 63, 95); fill-opacity: 1; white-space: pre; opacity: 1;\" transform=\"translate(279.93,0)\">1000</text></g><g class=\"xtick\"><text text-anchor=\"middle\" x=\"0\" y=\"410\" style=\"font-family: 'Open Sans', verdana, arial, sans-serif; font-size: 12px; fill: rgb(42, 63, 95); fill-opacity: 1; white-space: pre; opacity: 1;\" transform=\"translate(362.87,0)\">2000</text></g><g class=\"xtick\"><text text-anchor=\"middle\" x=\"0\" y=\"410\" style=\"font-family: 'Open Sans', verdana, arial, sans-serif; font-size: 12px; fill: rgb(42, 63, 95); fill-opacity: 1; white-space: pre; opacity: 1;\" transform=\"translate(445.8,0)\">3000</text></g><g class=\"xtick\"><text text-anchor=\"middle\" x=\"0\" y=\"410\" style=\"font-family: 'Open Sans', verdana, arial, sans-serif; font-size: 12px; fill: rgb(42, 63, 95); fill-opacity: 1; white-space: pre; opacity: 1;\" transform=\"translate(528.73,0)\">4000</text></g><g class=\"xtick\"><text text-anchor=\"middle\" x=\"0\" y=\"410\" style=\"font-family: 'Open Sans', verdana, arial, sans-serif; font-size: 12px; fill: rgb(42, 63, 95); fill-opacity: 1; white-space: pre; opacity: 1;\" transform=\"translate(611.6600000000001,0)\">5000</text></g><g class=\"xtick\"><text text-anchor=\"middle\" x=\"0\" y=\"410\" style=\"font-family: 'Open Sans', verdana, arial, sans-serif; font-size: 12px; fill: rgb(42, 63, 95); fill-opacity: 1; white-space: pre; opacity: 1;\" transform=\"translate(694.6,0)\">6000</text></g></g><g class=\"yaxislayer-above\"><g class=\"ytick\"><text text-anchor=\"end\" x=\"196\" y=\"4.199999999999999\" transform=\"translate(0,379.15)\" style=\"font-family: 'Open Sans', verdana, arial, sans-serif; font-size: 12px; fill: rgb(42, 63, 95); fill-opacity: 1; white-space: pre; opacity: 1;\">Grand Theft Auto V</text></g><g class=\"ytick\"><text text-anchor=\"end\" x=\"196\" y=\"4.199999999999999\" transform=\"translate(0,343.45)\" style=\"font-family: 'Open Sans', verdana, arial, sans-serif; font-size: 12px; fill: rgb(42, 63, 95); fill-opacity: 1; white-space: pre; opacity: 1;\">DayZ</text></g><g class=\"ytick\"><text text-anchor=\"end\" x=\"196\" y=\"4.199999999999999\" transform=\"translate(0,307.75)\" style=\"font-family: 'Open Sans', verdana, arial, sans-serif; font-size: 12px; fill: rgb(42, 63, 95); fill-opacity: 1; white-space: pre; opacity: 1;\">Fallout 4</text></g><g class=\"ytick\"><text text-anchor=\"end\" x=\"196\" y=\"4.199999999999999\" transform=\"translate(0,272.05)\" style=\"font-family: 'Open Sans', verdana, arial, sans-serif; font-size: 12px; fill: rgb(42, 63, 95); fill-opacity: 1; white-space: pre; opacity: 1;\">Robocraft</text></g><g class=\"ytick\"><text text-anchor=\"end\" x=\"196\" y=\"4.199999999999999\" transform=\"translate(0,236.35)\" style=\"font-family: 'Open Sans', verdana, arial, sans-serif; font-size: 12px; fill: rgb(42, 63, 95); fill-opacity: 1; white-space: pre; opacity: 1;\">Rust</text></g><g class=\"ytick\"><text text-anchor=\"end\" x=\"196\" y=\"4.199999999999999\" transform=\"translate(0,200.65)\" style=\"font-family: 'Open Sans', verdana, arial, sans-serif; font-size: 12px; fill: rgb(42, 63, 95); fill-opacity: 1; white-space: pre; opacity: 1;\">Borderlands 2</text></g><g class=\"ytick\"><text text-anchor=\"end\" x=\"196\" y=\"4.199999999999999\" transform=\"translate(0,164.95)\" style=\"font-family: 'Open Sans', verdana, arial, sans-serif; font-size: 12px; fill: rgb(42, 63, 95); fill-opacity: 1; white-space: pre; opacity: 1;\">Life is Strange - Episode 1</text></g><g class=\"ytick\"><text text-anchor=\"end\" x=\"196\" y=\"4.199999999999999\" transform=\"translate(0,129.25)\" style=\"font-family: 'Open Sans', verdana, arial, sans-serif; font-size: 12px; fill: rgb(42, 63, 95); fill-opacity: 1; white-space: pre; opacity: 1;\">Portal 2</text></g><g class=\"ytick\"><text text-anchor=\"end\" x=\"196\" y=\"4.199999999999999\" transform=\"translate(0,93.55)\" style=\"font-family: 'Open Sans', verdana, arial, sans-serif; font-size: 12px; fill: rgb(42, 63, 95); fill-opacity: 1; white-space: pre; opacity: 1;\">Undertale</text></g><g class=\"ytick\"><text text-anchor=\"end\" x=\"196\" y=\"4.199999999999999\" transform=\"translate(0,57.85)\" style=\"font-family: 'Open Sans', verdana, arial, sans-serif; font-size: 12px; fill: rgb(42, 63, 95); fill-opacity: 1; white-space: pre; opacity: 1;\">Team Fortress 2</text></g></g><g class=\"overaxes-above\"/></g></g><g class=\"polarlayer\"/><g class=\"ternarylayer\"/><g class=\"geolayer\"/><g class=\"funnelarealayer\"/><g class=\"pielayer\"/><g class=\"iciclelayer\"/><g class=\"treemaplayer\"/><g class=\"sunburstlayer\"/><g class=\"glimages\"/><defs id=\"topdefs-91411d\"><g class=\"clips\"/></defs><g class=\"layer-above\"><g class=\"imagelayer\"/><g class=\"shapelayer\"/></g><g class=\"infolayer\"><g class=\"cbcoloraxis colorbar\" transform=\"translate(197,40)\"><rect class=\"cbbg\" x=\"522\" y=\"0\" width=\"169.140625\" height=\"357\" style=\"fill: rgb(0, 0, 0); fill-opacity: 0; stroke: rgb(68, 68, 68); stroke-opacity: 1; stroke-width: 0;\"/><g class=\"cbfills\" transform=\"translate(0,32)\"><rect class=\"cbfill\" x=\"532\" width=\"30\" y=\"0\" height=\"315\" style=\"fill: url('#g91411d-cbcoloraxis');\"/></g><g class=\"cblines\" transform=\"translate(0,32)\"/><g class=\"cbaxis crisp\" transform=\"translate(0,-40)\"><g class=\"ycbcoloraxistick\"><text text-anchor=\"start\" x=\"564.9\" y=\"4.199999999999999\" transform=\"translate(0,340.94)\" style=\"font-family: 'Open Sans', verdana, arial, sans-serif; font-size: 12px; fill: rgb(42, 63, 95); fill-opacity: 1; white-space: pre; opacity: 1;\">3500</text></g><g class=\"ycbcoloraxistick\"><text text-anchor=\"start\" x=\"564.9\" y=\"4.199999999999999\" style=\"font-family: 'Open Sans', verdana, arial, sans-serif; font-size: 12px; fill: rgb(42, 63, 95); fill-opacity: 1; white-space: pre; opacity: 1;\" transform=\"translate(0,284.08000000000004)\">4000</text></g><g class=\"ycbcoloraxistick\"><text text-anchor=\"start\" x=\"564.9\" y=\"4.199999999999999\" style=\"font-family: 'Open Sans', verdana, arial, sans-serif; font-size: 12px; fill: rgb(42, 63, 95); fill-opacity: 1; white-space: pre; opacity: 1;\" transform=\"translate(0,227.23)\">4500</text></g><g class=\"ycbcoloraxistick\"><text text-anchor=\"start\" x=\"564.9\" y=\"4.199999999999999\" style=\"font-family: 'Open Sans', verdana, arial, sans-serif; font-size: 12px; fill: rgb(42, 63, 95); fill-opacity: 1; white-space: pre; opacity: 1;\" transform=\"translate(0,170.37)\">5000</text></g><g class=\"ycbcoloraxistick\"><text text-anchor=\"start\" x=\"564.9\" y=\"4.199999999999999\" style=\"font-family: 'Open Sans', verdana, arial, sans-serif; font-size: 12px; fill: rgb(42, 63, 95); fill-opacity: 1; white-space: pre; opacity: 1;\" transform=\"translate(0,113.50999999999999)\">5500</text></g></g><g class=\"cbtitleunshift\" transform=\"translate(-197,-40)\"><g class=\"cbtitle\" transform=\"\"><text class=\"ycbcoloraxistitle\" x=\"729.24\" y=\"63.5\" text-anchor=\"start\" style=\"font-family: 'Open Sans', verdana, arial, sans-serif; font-size: 14px; fill: rgb(42, 63, 95); opacity: 1; font-weight: normal; white-space: pre;\">Cantidad de usuarios</text></g></g><rect class=\"cboutline\" x=\"532\" y=\"32\" width=\"30\" height=\"315\" style=\"stroke: rgb(68, 68, 68); stroke-opacity: 1; fill: none; stroke-width: 0;\"/></g><g class=\"g-gtitle\"><text class=\"gtitle\" x=\"45\" y=\"20\" text-anchor=\"start\" dy=\"0em\" style=\"font-family: 'Open Sans', verdana, arial, sans-serif; font-size: 17px; fill: rgb(42, 63, 95); opacity: 1; font-weight: normal; white-space: pre;\">Juegos más populares</text></g><g class=\"g-xtitle\"><text class=\"xtitle\" x=\"453\" y=\"437.8\" text-anchor=\"middle\" style=\"font-family: 'Open Sans', verdana, arial, sans-serif; font-size: 14px; fill: rgb(42, 63, 95); opacity: 1; font-weight: normal; white-space: pre;\">Cantidad de usuarios</text></g><g class=\"g-ytitle\" transform=\"translate(1.6435546875,0)\"><text class=\"ytitle\" transform=\"rotate(-90,12.356249999999989,218.5)\" x=\"12.356249999999989\" y=\"218.5\" text-anchor=\"middle\" style=\"font-family: 'Open Sans', verdana, arial, sans-serif; font-size: 14px; fill: rgb(42, 63, 95); opacity: 1; font-weight: normal; white-space: pre;\">Videojuegos</text></g></g></svg>"
      ],
      "text/plain": [
       "<IPython.core.display.SVG object>"
      ]
     },
     "metadata": {},
     "output_type": "display_data"
    }
   ],
   "source": [
    "import plotly.express as px\n",
    "from IPython.display import display, SVG\n",
    "\n",
    "HOVER_DATA_COLUMNS = ['publisher', 'release_date', 'genres', 'category_price']\n",
    "\n",
    "fig = px.bar(top10.sort_values(by='amount'), y='app_name', x='amount', color='amount', title='Juegos más populares',\n",
    "             color_continuous_scale='viridis',\n",
    "             labels={'app_name': 'Videojuegos',\n",
    "                     \"amount\": 'Cantidad de usuarios'},\n",
    "             hover_data=HOVER_DATA_COLUMNS,\n",
    "             width=900,\n",
    "             height=450\n",
    "             )\n",
    "fig.update_layout(paper_bgcolor='#FAFAFA',\n",
    "                  margin=dict(l=20, r=20, t=40, b=50)\n",
    "                  )\n",
    "\n",
    "display(SVG(fig.to_image(format='svg')))"
   ]
  },
  {
   "cell_type": "code",
   "execution_count": 65,
   "metadata": {},
   "outputs": [
    {
     "name": "stdout",
     "output_type": "stream",
     "text": [
      "['Shades of Black']\n",
      "['Defense of Egypt: Cleopatra Mission']\n",
      "['Elder Chaos']\n",
      "['Nary']\n",
      "['Sun Dogs']\n",
      "['Wacky Wheels HD']\n",
      "['Cake Mania Collection']\n",
      "[\"DROD RPG: Tendry's Tale\"]\n",
      "['Monsters Ate My Birthday Cake']\n",
      "['BATTLE PIXELS']\n"
     ]
    }
   ],
   "source": [
    "# ¿Cuáles son los 10 juegos menos populares?\n",
    "\n",
    "for i in range(0,10):\n",
    "    print(data_games[data_games.id==str(data_reviews.product_id.value_counts(ascending=True).index[i])].app_name.values)"
   ]
  },
  {
   "cell_type": "code",
   "execution_count": 66,
   "metadata": {},
   "outputs": [
    {
     "data": {
      "text/plain": [
       "Alex                   144\n",
       "Chris                  121\n",
       "Nick                   119\n",
       "Matt                   108\n",
       "Saint Aaron            107\n",
       "                      ... \n",
       "Turtle.                  1\n",
       "Jergon von Strangle      1\n",
       "Thermidor                1\n",
       "fatblue                  1\n",
       "Mini Dew                 1\n",
       "Name: username, Length: 460811, dtype: int64"
      ]
     },
     "execution_count": 66,
     "metadata": {},
     "output_type": "execute_result"
    }
   ],
   "source": [
    "# Usuarios que han realizado más reviews de juegos\n",
    "data_reviews.username.value_counts()"
   ]
  },
  {
   "cell_type": "code",
   "execution_count": 67,
   "metadata": {},
   "outputs": [
    {
     "data": {
      "text/plain": [
       "Text(0.5, 1.0, 'Horas jugadas al hacer la review')"
      ]
     },
     "execution_count": 67,
     "metadata": {},
     "output_type": "execute_result"
    },
    {
     "data": {
      "image/png": "[encoded data removed]",
      "text/plain": [
       "<Figure size 432x288 with 1 Axes>"
      ]
     },
     "metadata": {},
     "output_type": "display_data"
    }
   ],
   "source": [
    "sns.histplot(data= data_reviews , x = 'hours')\n",
    "plt.xlim([0,60])\n",
    "plt.ylim([0,50000])\n",
    "plt.title('Horas jugadas al hacer la review')"
   ]
  },
  {
   "cell_type": "code",
   "execution_count": 68,
   "metadata": {},
   "outputs": [
    {
     "data": {
      "text/html": [
       "<div>\n",
       "<style scoped>\n",
       "    .dataframe tbody tr th:only-of-type {\n",
       "        vertical-align: middle;\n",
       "    }\n",
       "\n",
       "    .dataframe tbody tr th {\n",
       "        vertical-align: top;\n",
       "    }\n",
       "\n",
       "    .dataframe thead th {\n",
       "        text-align: right;\n",
       "    }\n",
       "</style>\n",
       "<table border=\"1\" class=\"dataframe\">\n",
       "  <thead>\n",
       "    <tr style=\"text-align: right;\">\n",
       "      <th></th>\n",
       "      <th>Cantidad de juegos por editor</th>\n",
       "    </tr>\n",
       "  </thead>\n",
       "  <tbody>\n",
       "    <tr>\n",
       "      <th>Big Fish Games</th>\n",
       "      <td>195</td>\n",
       "    </tr>\n",
       "    <tr>\n",
       "      <th>Strategy First</th>\n",
       "      <td>133</td>\n",
       "    </tr>\n",
       "    <tr>\n",
       "      <th>SEGA</th>\n",
       "      <td>126</td>\n",
       "    </tr>\n",
       "    <tr>\n",
       "      <th>Ubisoft</th>\n",
       "      <td>113</td>\n",
       "    </tr>\n",
       "    <tr>\n",
       "      <th>KISS ltd</th>\n",
       "      <td>101</td>\n",
       "    </tr>\n",
       "    <tr>\n",
       "      <th>THQ Nordic</th>\n",
       "      <td>96</td>\n",
       "    </tr>\n",
       "    <tr>\n",
       "      <th>Square Enix</th>\n",
       "      <td>90</td>\n",
       "    </tr>\n",
       "    <tr>\n",
       "      <th>Choice of Games</th>\n",
       "      <td>85</td>\n",
       "    </tr>\n",
       "    <tr>\n",
       "      <th>1C Company</th>\n",
       "      <td>77</td>\n",
       "    </tr>\n",
       "    <tr>\n",
       "      <th>Degica</th>\n",
       "      <td>67</td>\n",
       "    </tr>\n",
       "  </tbody>\n",
       "</table>\n",
       "</div>"
      ],
      "text/plain": [
       "                 Cantidad de juegos por editor\n",
       "Big Fish Games                             195\n",
       "Strategy First                             133\n",
       "SEGA                                       126\n",
       "Ubisoft                                    113\n",
       "KISS ltd                                   101\n",
       "THQ Nordic                                  96\n",
       "Square Enix                                 90\n",
       "Choice of Games                             85\n",
       "1C Company                                  77\n",
       "Degica                                      67"
      ]
     },
     "execution_count": 68,
     "metadata": {},
     "output_type": "execute_result"
    }
   ],
   "source": [
    "# Principales editores de los videojuegos\n",
    "\n",
    "data_games.publisher.value_counts().to_frame('Cantidad de juegos por editor').head(10)"
   ]
  },
  {
   "cell_type": "code",
   "execution_count": 69,
   "metadata": {},
   "outputs": [],
   "source": [
    "hours_by_productId = data_reviews.groupby('product_id', as_index=False).hours.sum()\n",
    "\n",
    "reviews_games_hours = pd.merge(hours_by_productId, data_games, left_on='product_id',\n",
    "                               right_on='id').sort_values(by='hours', ascending=False)\n",
    "\n",
    "hours10 = reviews_games_hours.head(10).sort_values(by='hours')"
   ]
  },
  {
   "cell_type": "code",
   "execution_count": 70,
   "metadata": {},
   "outputs": [
    {
     "data": {
      "image/svg+xml": [
       "<svg xmlns=\"http://www.w3.org/2000/svg\" xmlns:xlink=\"http://www.w3.org/1999/xlink\" class=\"main-svg\" width=\"900\" height=\"450\" style=\"\" viewBox=\"0 0 900 450\"><rect x=\"0\" y=\"0\" width=\"900\" height=\"450\" style=\"fill: rgb(250, 250, 250); fill-opacity: 1;\"/><defs id=\"defs-3690a8\"><g class=\"clips\"><clipPath id=\"clip3690a8xyplot\" class=\"plotclip\"><rect width=\"599\" height=\"359\"/></clipPath><clipPath class=\"axesclip\" id=\"clip3690a8x\"><rect x=\"152\" y=\"0\" width=\"599\" height=\"450\"/></clipPath><clipPath class=\"axesclip\" id=\"clip3690a8y\"><rect x=\"0\" y=\"40\" width=\"900\" height=\"359\"/></clipPath><clipPath class=\"axesclip\" id=\"clip3690a8xy\"><rect x=\"152\" y=\"40\" width=\"599\" height=\"359\"/></clipPath></g><g class=\"gradients\"><linearGradient x1=\"0\" x2=\"0\" y1=\"1\" y2=\"0\" id=\"g3690a8-cbcoloraxis\"><stop offset=\"0%\" stop-color=\"rgb(68, 1, 84)\" stop-opacity=\"1\"/><stop offset=\"11.111111%\" stop-color=\"rgb(72, 40, 120)\" stop-opacity=\"1\"/><stop offset=\"22.222222%\" stop-color=\"rgb(62, 73, 137)\" stop-opacity=\"1\"/><stop offset=\"33.333333%\" stop-color=\"rgb(49, 104, 142)\" stop-opacity=\"1\"/><stop offset=\"44.444444%\" stop-color=\"rgb(38, 130, 142)\" stop-opacity=\"1\"/><stop offset=\"55.555556%\" stop-color=\"rgb(31, 158, 137)\" stop-opacity=\"1\"/><stop offset=\"66.666667%\" stop-color=\"rgb(53, 183, 121)\" stop-opacity=\"1\"/><stop offset=\"77.777778%\" stop-color=\"rgb(110, 206, 88)\" stop-opacity=\"1\"/><stop offset=\"88.888889%\" stop-color=\"rgb(181, 222, 43)\" stop-opacity=\"1\"/><stop offset=\"100%\" stop-color=\"rgb(253, 231, 37)\" stop-opacity=\"1\"/></linearGradient></g><g class=\"patterns\"/></defs><g class=\"bglayer\"><rect class=\"bg\" x=\"152\" y=\"40\" width=\"599\" height=\"359\" style=\"fill: rgb(229, 236, 246); fill-opacity: 1; stroke-width: 0;\"/></g><g class=\"layer-below\"><g class=\"imagelayer\"/><g class=\"shapelayer\"/></g><g class=\"cartesianlayer\"><g class=\"subplot xy\"><g class=\"layer-subplot\"><g class=\"shapelayer\"/><g class=\"imagelayer\"/></g><g class=\"gridlayer\"><g class=\"x\"><path class=\"xgrid crisp\" transform=\"translate(262.62,0)\" d=\"M0,40v359\" style=\"stroke: rgb(255, 255, 255); stroke-opacity: 1; stroke-width: 1px;\"/><path class=\"xgrid crisp\" transform=\"translate(373.24,0)\" d=\"M0,40v359\" style=\"stroke: rgb(255, 255, 255); stroke-opacity: 1; stroke-width: 1px;\"/><path class=\"xgrid crisp\" transform=\"translate(483.85,0)\" d=\"M0,40v359\" style=\"stroke: rgb(255, 255, 255); stroke-opacity: 1; stroke-width: 1px;\"/><path class=\"xgrid crisp\" transform=\"translate(594.47,0)\" d=\"M0,40v359\" style=\"stroke: rgb(255, 255, 255); stroke-opacity: 1; stroke-width: 1px;\"/><path class=\"xgrid crisp\" transform=\"translate(705.09,0)\" d=\"M0,40v359\" style=\"stroke: rgb(255, 255, 255); stroke-opacity: 1; stroke-width: 1px;\"/></g><g class=\"y\"/></g><g class=\"zerolinelayer\"><path class=\"xzl zl crisp\" transform=\"translate(152,0)\" d=\"M0,40v359\" style=\"stroke: rgb(255, 255, 255); stroke-opacity: 1; stroke-width: 2px;\"/></g><path class=\"xlines-below\"/><path class=\"ylines-below\"/><g class=\"overlines-below\"/><g class=\"xaxislayer-below\"/><g class=\"yaxislayer-below\"/><g class=\"overaxes-below\"/><g class=\"plot\" transform=\"translate(152,40)\" clip-path=\"url(#clip3690a8xyplot)\"><g class=\"barlayer mlayer\"><g class=\"trace bars\" style=\"opacity: 1;\"><g class=\"points\"><g class=\"point\"><path d=\"M0,355.41V326.69H302.75V355.41Z\" style=\"vector-effect: non-scaling-stroke; opacity: 1; stroke-width: 0.5px; fill: rgb(68, 1, 84); fill-opacity: 1; stroke: rgb(229, 236, 246); stroke-opacity: 1;\"/></g><g class=\"point\"><path d=\"M0,319.51V290.79H315.84V319.51Z\" style=\"vector-effect: non-scaling-stroke; opacity: 1; stroke-width: 0.5px; fill: rgb(70, 18, 100); fill-opacity: 1; stroke: rgb(229, 236, 246); stroke-opacity: 1;\"/></g><g class=\"point\"><path d=\"M0,283.61V254.89H324.82V283.61Z\" style=\"vector-effect: non-scaling-stroke; opacity: 1; stroke-width: 0.5px; fill: rgb(71, 30, 111); fill-opacity: 1; stroke: rgb(229, 236, 246); stroke-opacity: 1;\"/></g><g class=\"point\"><path d=\"M0,247.71V218.99H342.86V247.71Z\" style=\"vector-effect: non-scaling-stroke; opacity: 1; stroke-width: 0.5px; fill: rgb(68, 52, 126); fill-opacity: 1; stroke: rgb(229, 236, 246); stroke-opacity: 1;\"/></g><g class=\"point\"><path d=\"M0,211.81V183.09H371.07V211.81Z\" style=\"vector-effect: non-scaling-stroke; opacity: 1; stroke-width: 0.5px; fill: rgb(58, 83, 139); fill-opacity: 1; stroke: rgb(229, 236, 246); stroke-opacity: 1;\"/></g><g class=\"point\"><path d=\"M0,175.91V147.19H414.3V175.91Z\" style=\"vector-effect: non-scaling-stroke; opacity: 1; stroke-width: 0.5px; fill: rgb(41, 124, 142); fill-opacity: 1; stroke: rgb(229, 236, 246); stroke-opacity: 1;\"/></g><g class=\"point\"><path d=\"M0,140.01V111.29H485.09V140.01Z\" style=\"vector-effect: non-scaling-stroke; opacity: 1; stroke-width: 0.5px; fill: rgb(62, 187, 116); fill-opacity: 1; stroke: rgb(229, 236, 246); stroke-opacity: 1;\"/></g><g class=\"point\"><path d=\"M0,104.11V75.39H486.66V104.11Z\" style=\"vector-effect: non-scaling-stroke; opacity: 1; stroke-width: 0.5px; fill: rgb(65, 188, 114); fill-opacity: 1; stroke: rgb(229, 236, 246); stroke-opacity: 1;\"/></g><g class=\"point\"><path d=\"M0,68.21V39.49H533.5V68.21Z\" style=\"vector-effect: non-scaling-stroke; opacity: 1; stroke-width: 0.5px; fill: rgb(167, 219, 52); fill-opacity: 1; stroke: rgb(229, 236, 246); stroke-opacity: 1;\"/></g><g class=\"point\"><path d=\"M0,32.31V3.59H569.05V32.31Z\" style=\"vector-effect: non-scaling-stroke; opacity: 1; stroke-width: 0.5px; fill: rgb(253, 231, 37); fill-opacity: 1; stroke: rgb(229, 236, 246); stroke-opacity: 1;\"/></g></g></g></g></g><g class=\"overplot\"/><path class=\"xlines-above crisp\" d=\"M0,0\" style=\"fill: none;\"/><path class=\"ylines-above crisp\" d=\"M0,0\" style=\"fill: none;\"/><g class=\"overlines-above\"/><g class=\"xaxislayer-above\"><g class=\"xtick\"><text text-anchor=\"middle\" x=\"0\" y=\"412\" transform=\"translate(152,0)\" style=\"font-family: 'Open Sans', verdana, arial, sans-serif; font-size: 12px; fill: rgb(42, 63, 95); fill-opacity: 1; white-space: pre; opacity: 1;\">0</text></g><g class=\"xtick\"><text text-anchor=\"middle\" x=\"0\" y=\"412\" style=\"font-family: 'Open Sans', verdana, arial, sans-serif; font-size: 12px; fill: rgb(42, 63, 95); fill-opacity: 1; white-space: pre; opacity: 1;\" transform=\"translate(262.62,0)\">50k</text></g><g class=\"xtick\"><text text-anchor=\"middle\" x=\"0\" y=\"412\" style=\"font-family: 'Open Sans', verdana, arial, sans-serif; font-size: 12px; fill: rgb(42, 63, 95); fill-opacity: 1; white-space: pre; opacity: 1;\" transform=\"translate(373.24,0)\">100k</text></g><g class=\"xtick\"><text text-anchor=\"middle\" x=\"0\" y=\"412\" style=\"font-family: 'Open Sans', verdana, arial, sans-serif; font-size: 12px; fill: rgb(42, 63, 95); fill-opacity: 1; white-space: pre; opacity: 1;\" transform=\"translate(483.85,0)\">150k</text></g><g class=\"xtick\"><text text-anchor=\"middle\" x=\"0\" y=\"412\" style=\"font-family: 'Open Sans', verdana, arial, sans-serif; font-size: 12px; fill: rgb(42, 63, 95); fill-opacity: 1; white-space: pre; opacity: 1;\" transform=\"translate(594.47,0)\">200k</text></g><g class=\"xtick\"><text text-anchor=\"middle\" x=\"0\" y=\"412\" style=\"font-family: 'Open Sans', verdana, arial, sans-serif; font-size: 12px; fill: rgb(42, 63, 95); fill-opacity: 1; white-space: pre; opacity: 1;\" transform=\"translate(705.09,0)\">250k</text></g></g><g class=\"yaxislayer-above\"><g class=\"ytick\"><text text-anchor=\"end\" x=\"151\" y=\"4.199999999999999\" transform=\"translate(0,381.05)\" style=\"font-family: 'Open Sans', verdana, arial, sans-serif; font-size: 12px; fill: rgb(42, 63, 95); fill-opacity: 1; white-space: pre; opacity: 1;\">DayZ</text></g><g class=\"ytick\"><text text-anchor=\"end\" x=\"151\" y=\"4.199999999999999\" transform=\"translate(0,345.15)\" style=\"font-family: 'Open Sans', verdana, arial, sans-serif; font-size: 12px; fill: rgb(42, 63, 95); fill-opacity: 1; white-space: pre; opacity: 1;\">Portal 2</text></g><g class=\"ytick\"><text text-anchor=\"end\" x=\"151\" y=\"4.199999999999999\" transform=\"translate(0,309.25)\" style=\"font-family: 'Open Sans', verdana, arial, sans-serif; font-size: 12px; fill: rgb(42, 63, 95); fill-opacity: 1; white-space: pre; opacity: 1;\">Undertale</text></g><g class=\"ytick\"><text text-anchor=\"end\" x=\"151\" y=\"4.199999999999999\" transform=\"translate(0,273.35)\" style=\"font-family: 'Open Sans', verdana, arial, sans-serif; font-size: 12px; fill: rgb(42, 63, 95); fill-opacity: 1; white-space: pre; opacity: 1;\">Robocraft</text></g><g class=\"ytick\"><text text-anchor=\"end\" x=\"151\" y=\"4.199999999999999\" transform=\"translate(0,237.45)\" style=\"font-family: 'Open Sans', verdana, arial, sans-serif; font-size: 12px; fill: rgb(42, 63, 95); fill-opacity: 1; white-space: pre; opacity: 1;\">Starbound</text></g><g class=\"ytick\"><text text-anchor=\"end\" x=\"151\" y=\"4.199999999999999\" transform=\"translate(0,201.55)\" style=\"font-family: 'Open Sans', verdana, arial, sans-serif; font-size: 12px; fill: rgb(42, 63, 95); fill-opacity: 1; white-space: pre; opacity: 1;\">Grand Theft Auto V</text></g><g class=\"ytick\"><text text-anchor=\"end\" x=\"151\" y=\"4.199999999999999\" transform=\"translate(0,165.65)\" style=\"font-family: 'Open Sans', verdana, arial, sans-serif; font-size: 12px; fill: rgb(42, 63, 95); fill-opacity: 1; white-space: pre; opacity: 1;\">Fallout 4</text></g><g class=\"ytick\"><text text-anchor=\"end\" x=\"151\" y=\"4.199999999999999\" transform=\"translate(0,129.75)\" style=\"font-family: 'Open Sans', verdana, arial, sans-serif; font-size: 12px; fill: rgb(42, 63, 95); fill-opacity: 1; white-space: pre; opacity: 1;\">Rust</text></g><g class=\"ytick\"><text text-anchor=\"end\" x=\"151\" y=\"4.199999999999999\" transform=\"translate(0,93.85)\" style=\"font-family: 'Open Sans', verdana, arial, sans-serif; font-size: 12px; fill: rgb(42, 63, 95); fill-opacity: 1; white-space: pre; opacity: 1;\">Team Fortress 2</text></g><g class=\"ytick\"><text text-anchor=\"end\" x=\"151\" y=\"4.199999999999999\" transform=\"translate(0,57.95)\" style=\"font-family: 'Open Sans', verdana, arial, sans-serif; font-size: 12px; fill: rgb(42, 63, 95); fill-opacity: 1; white-space: pre; opacity: 1;\">Borderlands 2</text></g></g><g class=\"overaxes-above\"/></g></g><g class=\"polarlayer\"/><g class=\"ternarylayer\"/><g class=\"geolayer\"/><g class=\"funnelarealayer\"/><g class=\"pielayer\"/><g class=\"iciclelayer\"/><g class=\"treemaplayer\"/><g class=\"sunburstlayer\"/><g class=\"glimages\"/><defs id=\"topdefs-3690a8\"><g class=\"clips\"/></defs><g class=\"layer-above\"><g class=\"imagelayer\"/><g class=\"shapelayer\"/></g><g class=\"infolayer\"><g class=\"cbcoloraxis colorbar\" transform=\"translate(152,40)\"><rect class=\"cbbg\" x=\"611\" y=\"0\" width=\"127.078125\" height=\"359\" style=\"fill: rgb(0, 0, 0); fill-opacity: 0; stroke: rgb(68, 68, 68); stroke-opacity: 1; stroke-width: 0;\"/><g class=\"cbfills\" transform=\"translate(0,32)\"><rect class=\"cbfill\" x=\"621\" width=\"30\" y=\"0\" height=\"317\" style=\"fill: url('#g3690a8-cbcoloraxis');\"/></g><g class=\"cblines\" transform=\"translate(0,32)\"/><g class=\"cbaxis crisp\" transform=\"translate(0,-40)\"><g class=\"ycbcoloraxistick\"><text text-anchor=\"start\" x=\"653.9\" y=\"4.199999999999999\" transform=\"translate(0,380.69)\" style=\"font-family: 'Open Sans', verdana, arial, sans-serif; font-size: 12px; fill: rgb(42, 63, 95); fill-opacity: 1; white-space: pre; opacity: 1;\">140k</text></g><g class=\"ycbcoloraxistick\"><text text-anchor=\"start\" x=\"653.9\" y=\"4.199999999999999\" style=\"font-family: 'Open Sans', verdana, arial, sans-serif; font-size: 12px; fill: rgb(42, 63, 95); fill-opacity: 1; white-space: pre; opacity: 1;\" transform=\"translate(0,328.02)\">160k</text></g><g class=\"ycbcoloraxistick\"><text text-anchor=\"start\" x=\"653.9\" y=\"4.199999999999999\" style=\"font-family: 'Open Sans', verdana, arial, sans-serif; font-size: 12px; fill: rgb(42, 63, 95); fill-opacity: 1; white-space: pre; opacity: 1;\" transform=\"translate(0,275.35)\">180k</text></g><g class=\"ycbcoloraxistick\"><text text-anchor=\"start\" x=\"653.9\" y=\"4.199999999999999\" style=\"font-family: 'Open Sans', verdana, arial, sans-serif; font-size: 12px; fill: rgb(42, 63, 95); fill-opacity: 1; white-space: pre; opacity: 1;\" transform=\"translate(0,222.68)\">200k</text></g><g class=\"ycbcoloraxistick\"><text text-anchor=\"start\" x=\"653.9\" y=\"4.199999999999999\" style=\"font-family: 'Open Sans', verdana, arial, sans-serif; font-size: 12px; fill: rgb(42, 63, 95); fill-opacity: 1; white-space: pre; opacity: 1;\" transform=\"translate(0,170.01)\">220k</text></g><g class=\"ycbcoloraxistick\"><text text-anchor=\"start\" x=\"653.9\" y=\"4.199999999999999\" style=\"font-family: 'Open Sans', verdana, arial, sans-serif; font-size: 12px; fill: rgb(42, 63, 95); fill-opacity: 1; white-space: pre; opacity: 1;\" transform=\"translate(0,117.33)\">240k</text></g></g><g class=\"cbtitleunshift\" transform=\"translate(-152,-40)\"><g class=\"cbtitle\" transform=\"\"><text class=\"ycbcoloraxistitle\" x=\"772.98\" y=\"63.50000000000001\" text-anchor=\"start\" style=\"font-family: 'Open Sans', verdana, arial, sans-serif; font-size: 14px; fill: rgb(42, 63, 95); opacity: 1; font-weight: normal; white-space: pre;\">Horas de juego</text></g></g><rect class=\"cboutline\" x=\"621\" y=\"32\" width=\"30\" height=\"317\" style=\"stroke: rgb(68, 68, 68); stroke-opacity: 1; fill: none; stroke-width: 0;\"/></g><g class=\"g-gtitle\"><text class=\"gtitle\" x=\"45\" y=\"20\" text-anchor=\"start\" dy=\"0em\" style=\"font-family: 'Open Sans', verdana, arial, sans-serif; font-size: 17px; fill: rgb(42, 63, 95); opacity: 1; font-weight: normal; white-space: pre;\">Juegos con más horas de juego</text></g><g class=\"g-xtitle\"><text class=\"xtitle\" x=\"451.5\" y=\"439.8\" text-anchor=\"middle\" style=\"font-family: 'Open Sans', verdana, arial, sans-serif; font-size: 14px; fill: rgb(42, 63, 95); opacity: 1; font-weight: normal; white-space: pre;\">Horas de juego</text></g><g class=\"g-ytitle\" transform=\"translate(3.9873046875,0)\"><text class=\"ytitle\" transform=\"rotate(-90,10.012499999999989,219.5)\" x=\"10.012499999999989\" y=\"219.5\" text-anchor=\"middle\" style=\"font-family: 'Open Sans', verdana, arial, sans-serif; font-size: 14px; fill: rgb(42, 63, 95); opacity: 1; font-weight: normal; white-space: pre;\">Videojuegos</text></g></g></svg>"
      ],
      "text/plain": [
       "<IPython.core.display.SVG object>"
      ]
     },
     "metadata": {},
     "output_type": "display_data"
    }
   ],
   "source": [
    "import plotly.express as px\n",
    "from IPython.display import display, SVG\n",
    "\n",
    "fig = px.bar(data_frame=hours10, y='app_name', x='hours', color='hours', title='Juegos con más horas de juego',\n",
    "             color_continuous_scale='viridis',\n",
    "             labels={'app_name': 'Videojuegos', \"hours\": 'Horas de juego'},\n",
    "             hover_data=HOVER_DATA_COLUMNS,\n",
    "             width=900,\n",
    "             height=450\n",
    "             )\n",
    "\n",
    "fig.update_layout(paper_bgcolor='#FAFAFA',\n",
    "                  margin=dict(l=20, r=20, t=40, b=10)\n",
    "                  )\n",
    "#fig.show()\n",
    "display(SVG(fig.to_image(format='svg')))"
   ]
  },
  {
   "cell_type": "code",
   "execution_count": 71,
   "metadata": {},
   "outputs": [
    {
     "data": {
      "image/svg+xml": [
       "<svg xmlns=\"http://www.w3.org/2000/svg\" xmlns:xlink=\"http://www.w3.org/1999/xlink\" class=\"main-svg\" width=\"450\" height=\"350\" style=\"\" viewBox=\"0 0 450 350\"><rect x=\"0\" y=\"0\" width=\"450\" height=\"350\" style=\"fill: rgb(237, 242, 244); fill-opacity: 1;\"/><defs id=\"defs-4e767e\"><g class=\"clips\"/><g class=\"gradients\"/><g class=\"patterns\"/></defs><g class=\"bglayer\"/><g class=\"layer-below\"><g class=\"imagelayer\"/><g class=\"shapelayer\"/></g><g class=\"cartesianlayer\"/><g class=\"polarlayer\"/><g class=\"ternarylayer\"/><g class=\"geolayer\"/><g class=\"funnelarealayer\"/><g class=\"pielayer\"><g class=\"trace\" stroke-linejoin=\"round\" style=\"opacity: 1;\"><g class=\"slice\"><path class=\"surface\" d=\"M171.4956924244737,162.9762413519568a56.400000000000006,56.400000000000006 0 1 0 49.5043075755263,-29.3762413519568l0,-84.6a141,141 0 1 1 -123.76076893881574,73.440603379892Z\" style=\"pointer-events: all; stroke-width: 0; fill: rgb(38, 70, 83); fill-opacity: 1; stroke: rgb(68, 68, 68); stroke-opacity: 1;\"/><g class=\"slicetext\"><text data-notex=\"1\" class=\"slicetext\" transform=\"translate(271.32963456234586,271.5757245880762)\" text-anchor=\"middle\" x=\"0\" y=\"0\" style=\"font-family: 'Open Sans', verdana, arial, sans-serif; font-size: 12px; fill: rgb(255, 255, 255); fill-opacity: 1; white-space: pre;\"><tspan class=\"line\" dy=\"0em\" x=\"0\" y=\"0\">paid</tspan><tspan class=\"line\" dy=\"1.3em\" x=\"0\" y=\"0\">83%</tspan></text></g></g><g class=\"slice\"><path class=\"surface\" d=\"M221,133.6a56.400000000000006,56.400000000000006 0 0 0 -49.50430757552629,29.37624135195678l-74.25646136328943,-40.53563797206483a141,141 0 0 1 123.76076893881572,-73.44060337989194Z\" style=\"pointer-events: all; stroke-width: 0; fill: rgb(230, 57, 70); fill-opacity: 1; stroke: rgb(68, 68, 68); stroke-opacity: 1;\"/><g class=\"slicetext\"><text data-notex=\"1\" class=\"slicetext\" transform=\"translate(170.59224043765417,101.8149004119238)\" text-anchor=\"middle\" x=\"0\" y=\"0\" style=\"font-family: 'Open Sans', verdana, arial, sans-serif; font-size: 12px; fill: rgb(255, 255, 255); fill-opacity: 1; white-space: pre;\"><tspan class=\"line\" dy=\"0em\" x=\"0\" y=\"0\">free</tspan><tspan class=\"line\" dy=\"1.3em\" x=\"0\" y=\"0\">17%</tspan></text></g></g></g></g><g class=\"iciclelayer\"/><g class=\"treemaplayer\"/><g class=\"sunburstlayer\"/><g class=\"glimages\"/><defs id=\"topdefs-4e767e\"><g class=\"clips\"/><clipPath id=\"legend4e767e\"><rect width=\"82\" height=\"61\" x=\"0\" y=\"0\"/></clipPath></defs><g class=\"layer-above\"><g class=\"imagelayer\"/><g class=\"shapelayer\"/></g><g class=\"infolayer\"><g class=\"legend\" pointer-events=\"all\" transform=\"translate(367.64,30)\"><rect class=\"bg\" shape-rendering=\"crispEdges\" style=\"stroke: rgb(68, 68, 68); stroke-opacity: 1; fill: rgb(237, 242, 244); fill-opacity: 1; stroke-width: 0px;\" width=\"82\" height=\"61\" x=\"0\" y=\"0\"/><g class=\"scrollbox\" transform=\"\" clip-path=\"url(#legend4e767e)\"><g class=\"groups\"><g class=\"traces\" transform=\"translate(0,17.55)\" style=\"opacity: 1;\"><text class=\"legendtext\" text-anchor=\"start\" x=\"40\" y=\"6.63\" style=\"font-family: 'Open Sans', verdana, arial, sans-serif; font-size: 17px; fill: rgb(42, 63, 95); fill-opacity: 1; white-space: pre;\">paid</text><g class=\"layers\" style=\"opacity: 1;\"><g class=\"legendfill\"/><g class=\"legendlines\"/><g class=\"legendsymbols\"><g class=\"legendpoints\"><path class=\"legendpie\" d=\"M6,6H-6V-6H6Z\" transform=\"translate(20,0)\" style=\"stroke-width: 0; fill: rgb(38, 70, 83); fill-opacity: 1; stroke: rgb(68, 68, 68); stroke-opacity: 1;\"/></g></g></g><rect class=\"legendtoggle\" x=\"0\" y=\"-12.55\" width=\"76.0625\" height=\"25.1\" style=\"fill: rgb(0, 0, 0); fill-opacity: 0;\"/></g><g class=\"traces\" transform=\"translate(0,42.650000000000006)\" style=\"opacity: 1;\"><text class=\"legendtext\" text-anchor=\"start\" x=\"40\" y=\"6.63\" style=\"font-family: 'Open Sans', verdana, arial, sans-serif; font-size: 17px; fill: rgb(42, 63, 95); fill-opacity: 1; white-space: pre;\">free</text><g class=\"layers\" style=\"opacity: 1;\"><g class=\"legendfill\"/><g class=\"legendlines\"/><g class=\"legendsymbols\"><g class=\"legendpoints\"><path class=\"legendpie\" d=\"M6,6H-6V-6H6Z\" transform=\"translate(20,0)\" style=\"stroke-width: 0; fill: rgb(230, 57, 70); fill-opacity: 1; stroke: rgb(68, 68, 68); stroke-opacity: 1;\"/></g></g></g><rect class=\"legendtoggle\" x=\"0\" y=\"-12.55\" width=\"76.0625\" height=\"25.1\" style=\"fill: rgb(0, 0, 0); fill-opacity: 0;\"/></g></g></g><rect class=\"scrollbar\" rx=\"20\" ry=\"3\" width=\"0\" height=\"0\" style=\"fill: rgb(128, 139, 164); fill-opacity: 1;\" x=\"0\" y=\"0\"/></g><g class=\"g-gtitle\"><text class=\"gtitle\" x=\"22.5\" y=\"15\" text-anchor=\"start\" dy=\"0em\" style=\"font-family: 'Open Sans', verdana, arial, sans-serif; font-size: 17px; fill: rgb(42, 63, 95); opacity: 1; font-weight: normal; white-space: pre;\">Usuarios por categoría de precio</text></g></g></svg>"
      ],
      "text/plain": [
       "<IPython.core.display.SVG object>"
      ]
     },
     "metadata": {},
     "output_type": "display_data"
    }
   ],
   "source": [
    "fig = px.pie(reviews_games_amount,\n",
    "             names='category_price',\n",
    "             values='amount',\n",
    "             title='Usuarios por categoría de precio',\n",
    "             width=450,\n",
    "             height=350,\n",
    "             hole=0.4,\n",
    "             color_discrete_sequence=('#264653', '#E63946'),\n",
    "             labels={'category_price': 'Tipo Precio', 'amount': 'Cantidad'}\n",
    "             )\n",
    "\n",
    "fig.update_layout(\n",
    "    margin=dict(t=30, b=0),\n",
    "    legend=dict(font=dict(size=17)),\n",
    "    paper_bgcolor='#edf2f4'\n",
    ")\n",
    "fig.update_traces(textposition='inside', textinfo='percent+label')\n",
    "#fig.show()\n",
    "display(SVG(fig.to_image(format='svg')))"
   ]
  },
  {
   "cell_type": "code",
   "execution_count": 72,
   "metadata": {},
   "outputs": [],
   "source": [
    "del hours_by_productId, reviews_games_hours, hours10"
   ]
  },
  {
   "cell_type": "markdown",
   "metadata": {},
   "source": [
    "## Parte B - Modelo de Machine Learning"
   ]
  },
  {
   "cell_type": "markdown",
   "metadata": {},
   "source": [
    "Se utilizará un filtro colaborativo basado en usuarios. Para ello, a la hora de estimar las calificaciones faltantes de un usuario en particular, lo que se hace es buscar a aquellos usuarios que tengan una mayor similitud y estimar esas calificaciones faltantes. Con ese objetivo, se realiza un promedio ponderado a partir de la semejanza entre los usuarios. Esta semejanza se determina con las calificaciones que ambos han realizado al mismo ítem. Cuanto más similares sean esas calificaciones, estamos en presencia de dos usuarios más semejantes entre sí.\n",
    "\n",
    "La aplicación de este tipo de sistemas de recomendación encuentra su fundamento en que suelen tener un mejor desempeño que los filtros basados en contenido, por eso son ampliamente empleados. Pero tambíen cuentan con una delicada desventaja, que ya analizaremos más abajo.\n",
    "\n",
    "Pero antes de eso, y considerando que no contamos con un rating específico de cada usuario respecto a los juegos -como sería de esperar en una clásica matriz de utilidad-, debemos adoptar algún critrerio que nos permita deducir si a un usuario le gustó o no un juego.\n",
    "Esto lo haremos tomando como elemento disparador las horas de juego de cada usuario respecto a cada review realizada.\n",
    "Si las horas jugadas se encuentran por encima de la mediana de ese usuario, diremos que el juego le gustó y lo denotaremos con un '1'.\n",
    "Caso contrario -es decir, si no le gustó el juego- se computará con un '0'.\n",
    "\n",
    "Al habernos finalmente inclinado por este paradigma dentro de los presentes en los sistemas de recomendación, mucho de los pasos que hemos realizados en el preprocesamiento del dataset de los juegos (data_games) veremos que quedarán sin uso cuando corramos nuestros modelos de machine learning. Esto se debe a que ya no nos interesa tanto saber acerca de los videojuegos en sí ni la información que podamos extraer sobre ellos -como, por ejemplo, su precio o género- sino que el foco ahora está más orientado en conocer sobre los usuarios que han realizado reviews de esos videojuegos. Nos interesa conocer las valoraciones que ellos tienen sobre los juegos, independientemente de los datos que estos juegos nos puedan brindar."
   ]
  },
  {
   "cell_type": "markdown",
   "metadata": {},
   "source": [
    "Ahora bien, en una primera instancia al emplear un filtro basado en contenidos nos encontraríamos con un gran problema: los nuevos usuarios, es decir quienes podrían catalogarse como Cold Start. Esta es una de las falencias de los filtros colaborativos, aquella delicada desventaja que enunciábamos supra.\n",
    "Como en estos casos no sabemos cuáles son los ítems que le gustan al usuario, ya que todavía no ha consumido ninguno de nuestros productos, se procederá de la siguiente forma. A los nuevos usuarios se les recomendará automáticamente los videojuegos más populares. Luego, al ir consumiéndolos, serán tenidos en cuenta por el algoritmo recomendador para futuras recomendaciones."
   ]
  },
  {
   "cell_type": "code",
   "execution_count": 73,
   "metadata": {},
   "outputs": [],
   "source": [
    "import plotly.graph_objects as go"
   ]
  },
  {
   "cell_type": "code",
   "execution_count": 74,
   "metadata": {},
   "outputs": [],
   "source": [
    "def plot_table(df):\n",
    "    COLUMNS_FOR_USER = ['app_name', 'url', 'category_price']\n",
    "    fig = go.Figure(go.Table(\n",
    "        header=dict(values=['Juego', 'URL', 'Categoría de precio'],\n",
    "                    fill_color='#ffd166',\n",
    "                    font=dict(size=13)),\n",
    "        cells=dict(values=np.vstack(df[COLUMNS_FOR_USER].values).T,\n",
    "                   fill_color='#264653',\n",
    "                   line_color='black',\n",
    "                   line_width=.4,\n",
    "                   font=dict(color='#f1faee'),\n",
    "                   height=30),\n",
    "        columnwidth=[1.5, 4, 1]))\n",
    "\n",
    "    fig.update_layout(width=1000, height=370, margin=dict(t=10, b=0, l=0))\n",
    "    return display(SVG(fig.to_image('svg')))"
   ]
  },
  {
   "cell_type": "code",
   "execution_count": 75,
   "metadata": {},
   "outputs": [
    {
     "data": {
      "image/svg+xml": [
       "<svg xmlns=\"http://www.w3.org/2000/svg\" xmlns:xlink=\"http://www.w3.org/1999/xlink\" class=\"main-svg\" width=\"1000\" height=\"370\" style=\"\" viewBox=\"0 0 1000 370\"><rect x=\"0\" y=\"0\" width=\"1000\" height=\"370\" style=\"fill: rgb(255, 255, 255); fill-opacity: 1;\"/><defs id=\"defs-a74919\"><g class=\"clips\"/><g class=\"gradients\"/><g class=\"patterns\"/></defs><g class=\"bglayer\"/><g class=\"layer-below\"><g class=\"imagelayer\"/><g class=\"shapelayer\"/></g><g class=\"cartesianlayer\"/><g class=\"polarlayer\"/><g class=\"ternarylayer\"/><g class=\"geolayer\"/><g class=\"funnelarealayer\"/><g class=\"pielayer\"/><g class=\"iciclelayer\"/><g class=\"treemaplayer\"/><g class=\"sunburstlayer\"/><g class=\"glimages\"/><g class=\"table\" overflow=\"visible\" width=\"1000\" height=\"370\" transform=\"\" style=\"box-sizing: content-box; position: absolute; left: 0px; overflow: visible; shape-rendering: crispedges; pointer-events: all;\"><g class=\"table-control-view\" transform=\"translate(0,10)\" clip-path=\"url(#clipa74919_scrollAreaBottomClip_82794ctrue)\" style=\"box-sizing: content-box;\"><rect class=\"scroll-background\" fill=\"none\" width=\"920\" height=\"360\"/><g class=\"y-column\" transform=\"\" clip-path=\"url(#clipa74919_columnBoundaryClippath_82794ctrue_0)\"><g class=\"column-block\" id=\"cells1\" transform=\"\" style=\"cursor: default;\"><g class=\"column-cells\"><g class=\"column-cell\" transform=\"translate(0,48.90625)\"><rect class=\"cell-rect\" width=\"212.30769230769232\" stroke-width=\"0.4\" style=\"stroke: rgb(0, 0, 0); stroke-opacity: 1; fill: rgb(38, 70, 83); fill-opacity: 1;\" height=\"30\"/><g class=\"cell-text-holder\" transform=\"translate(106.15384615384616,8)\" text-anchor=\"middle\" style=\"shape-rendering: geometricprecision;\"><text class=\"cell-text\" dy=\"0.75em\" x=\"0\" y=\"0\" style=\"cursor: auto; font-family: 'Open Sans', verdana, arial, sans-serif; font-size: 12px; fill: rgb(241, 250, 238); fill-opacity: 1; white-space: pre;\">Team Fortress 2</text></g></g><g class=\"column-cell\" transform=\"translate(0,78.90625)\"><rect class=\"cell-rect\" width=\"212.30769230769232\" stroke-width=\"0.4\" style=\"stroke: rgb(0, 0, 0); stroke-opacity: 1; fill: rgb(38, 70, 83); fill-opacity: 1;\" height=\"30\"/><g class=\"cell-text-holder\" transform=\"translate(106.15384615384616,8)\" text-anchor=\"middle\" style=\"shape-rendering: geometricprecision;\"><text class=\"cell-text\" dy=\"0.75em\" style=\"cursor: auto; font-family: 'Open Sans', verdana, arial, sans-serif; font-size: 12px; fill: rgb(241, 250, 238); fill-opacity: 1;\">Undertale</text></g></g><g class=\"column-cell\" transform=\"translate(0,108.90625)\"><rect class=\"cell-rect\" width=\"212.30769230769232\" stroke-width=\"0.4\" style=\"stroke: rgb(0, 0, 0); stroke-opacity: 1; fill: rgb(38, 70, 83); fill-opacity: 1;\" height=\"30\"/><g class=\"cell-text-holder\" transform=\"translate(106.15384615384616,8)\" text-anchor=\"middle\" style=\"shape-rendering: geometricprecision;\"><text class=\"cell-text\" dy=\"0.75em\" x=\"0\" y=\"0\" style=\"cursor: auto; font-family: 'Open Sans', verdana, arial, sans-serif; font-size: 12px; fill: rgb(241, 250, 238); fill-opacity: 1; white-space: pre;\">Portal 2</text></g></g><g class=\"column-cell\" transform=\"translate(0,138.90625)\"><rect class=\"cell-rect\" width=\"212.30769230769232\" stroke-width=\"0.4\" style=\"stroke: rgb(0, 0, 0); stroke-opacity: 1; fill: rgb(38, 70, 83); fill-opacity: 1;\" height=\"30\"/><g class=\"cell-text-holder\" transform=\"translate(106.15384615384616,8)\" text-anchor=\"middle\" style=\"shape-rendering: geometricprecision;\"><text class=\"cell-text\" dy=\"0.75em\" x=\"0\" y=\"0\" style=\"cursor: auto; font-family: 'Open Sans', verdana, arial, sans-serif; font-size: 12px; fill: rgb(241, 250, 238); fill-opacity: 1; white-space: pre;\">Life is Strange - Episode 1</text></g></g><g class=\"column-cell\" transform=\"translate(0,168.90625)\"><rect class=\"cell-rect\" width=\"212.30769230769232\" stroke-width=\"0.4\" style=\"stroke: rgb(0, 0, 0); stroke-opacity: 1; fill: rgb(38, 70, 83); fill-opacity: 1;\" height=\"30\"/><g class=\"cell-text-holder\" transform=\"translate(106.15384615384616,8)\" text-anchor=\"middle\" style=\"shape-rendering: geometricprecision;\"><text class=\"cell-text\" dy=\"0.75em\" x=\"0\" y=\"0\" style=\"cursor: auto; font-family: 'Open Sans', verdana, arial, sans-serif; font-size: 12px; fill: rgb(241, 250, 238); fill-opacity: 1; white-space: pre;\">Borderlands 2</text></g></g><g class=\"column-cell\" transform=\"translate(0,198.90625)\"><rect class=\"cell-rect\" width=\"212.30769230769232\" stroke-width=\"0.4\" style=\"stroke: rgb(0, 0, 0); stroke-opacity: 1; fill: rgb(38, 70, 83); fill-opacity: 1;\" height=\"30\"/><g class=\"cell-text-holder\" transform=\"translate(106.15384615384616,8)\" text-anchor=\"middle\" style=\"shape-rendering: geometricprecision;\"><text class=\"cell-text\" dy=\"0.75em\" style=\"cursor: auto; font-family: 'Open Sans', verdana, arial, sans-serif; font-size: 12px; fill: rgb(241, 250, 238); fill-opacity: 1;\">Rust</text></g></g><g class=\"column-cell\" transform=\"translate(0,228.90625)\"><rect class=\"cell-rect\" width=\"212.30769230769232\" stroke-width=\"0.4\" style=\"stroke: rgb(0, 0, 0); stroke-opacity: 1; fill: rgb(38, 70, 83); fill-opacity: 1;\" height=\"30\"/><g class=\"cell-text-holder\" transform=\"translate(106.15384615384616,8)\" text-anchor=\"middle\" style=\"shape-rendering: geometricprecision;\"><text class=\"cell-text\" dy=\"0.75em\" style=\"cursor: auto; font-family: 'Open Sans', verdana, arial, sans-serif; font-size: 12px; fill: rgb(241, 250, 238); fill-opacity: 1;\">Robocraft</text></g></g><g class=\"column-cell\" transform=\"translate(0,258.90625)\"><rect class=\"cell-rect\" width=\"212.30769230769232\" stroke-width=\"0.4\" style=\"stroke: rgb(0, 0, 0); stroke-opacity: 1; fill: rgb(38, 70, 83); fill-opacity: 1;\" height=\"30\"/><g class=\"cell-text-holder\" transform=\"translate(106.15384615384616,8)\" text-anchor=\"middle\" style=\"shape-rendering: geometricprecision;\"><text class=\"cell-text\" dy=\"0.75em\" x=\"0\" y=\"0\" style=\"cursor: auto; font-family: 'Open Sans', verdana, arial, sans-serif; font-size: 12px; fill: rgb(241, 250, 238); fill-opacity: 1; white-space: pre;\">Fallout 4</text></g></g><g class=\"column-cell\" transform=\"translate(0,288.90625)\"><rect class=\"cell-rect\" width=\"212.30769230769232\" stroke-width=\"0.4\" style=\"stroke: rgb(0, 0, 0); stroke-opacity: 1; fill: rgb(38, 70, 83); fill-opacity: 1;\" height=\"30\"/><g class=\"cell-text-holder\" transform=\"translate(106.15384615384616,8)\" text-anchor=\"middle\" style=\"shape-rendering: geometricprecision;\"><text class=\"cell-text\" dy=\"0.75em\" style=\"cursor: auto; font-family: 'Open Sans', verdana, arial, sans-serif; font-size: 12px; fill: rgb(241, 250, 238); fill-opacity: 1;\">DayZ</text></g></g><g class=\"column-cell\" transform=\"translate(0,318.90625)\"><rect class=\"cell-rect\" width=\"212.30769230769232\" stroke-width=\"0.4\" style=\"stroke: rgb(0, 0, 0); stroke-opacity: 1; fill: rgb(38, 70, 83); fill-opacity: 1;\" height=\"30\"/><g class=\"cell-text-holder\" transform=\"translate(106.15384615384616,8)\" text-anchor=\"middle\" style=\"shape-rendering: geometricprecision;\"><text class=\"cell-text\" dy=\"0.75em\" x=\"0\" y=\"0\" style=\"cursor: auto; font-family: 'Open Sans', verdana, arial, sans-serif; font-size: 12px; fill: rgb(241, 250, 238); fill-opacity: 1; white-space: pre;\">Grand Theft Auto V</text></g></g></g></g><g class=\"column-block\" id=\"cells2\" transform=\"\" style=\"cursor: default;\"><g class=\"column-cells\"/></g><g class=\"column-block\" id=\"header\" style=\"cursor: ew-resize;\"><g class=\"column-cells\"><g class=\"column-cell\" transform=\"\"><rect class=\"cell-rect\" width=\"212.30769230769232\" stroke-width=\"1\" style=\"stroke: rgb(255, 255, 255); stroke-opacity: 1; fill: rgb(255, 209, 102); fill-opacity: 1;\" height=\"48.90625\"/><g class=\"cell-text-holder\" transform=\"translate(106.15384615384616,8)\" text-anchor=\"middle\" style=\"shape-rendering: geometricprecision;\"><text class=\"cell-text\" dy=\"0.75em\" style=\"cursor: auto; font-family: 'Open Sans', verdana, arial, sans-serif; font-size: 13px; fill: rgb(42, 63, 95); fill-opacity: 1;\">Juego</text></g></g></g></g><g class=\"column-boundary\"/><clipPath class=\"column-boundary-clippath\" id=\"clipa74919_columnBoundaryClippath_82794ctrue_0\"><rect class=\"column-boundary-rect\" fill=\"none\" width=\"214.30769230769232\" height=\"367\" x=\"-1\" y=\"-1\"/></clipPath></g><g class=\"y-column\" transform=\"translate(212.30769230769232,0)\" clip-path=\"url(#clipa74919_columnBoundaryClippath_82794ctrue_1)\"><g class=\"column-block\" id=\"cells1\" transform=\"\" style=\"cursor: default;\"><g class=\"column-cells\"><g class=\"column-cell\" transform=\"translate(0,48.90625)\"><rect class=\"cell-rect\" width=\"566.1538461538462\" stroke-width=\"0.4\" style=\"stroke: rgb(0, 0, 0); stroke-opacity: 1; fill: rgb(38, 70, 83); fill-opacity: 1;\" height=\"30\"/><g class=\"cell-text-holder\" transform=\"translate(283.0769230769231,8)\" text-anchor=\"middle\" style=\"shape-rendering: geometricprecision;\"><text class=\"cell-text\" dy=\"0.75em\" style=\"cursor: auto; font-family: 'Open Sans', verdana, arial, sans-serif; font-size: 12px; fill: rgb(241, 250, 238); fill-opacity: 1;\">http://store.steampowered.com/app/440/Team_Fortress_2/</text></g></g><g class=\"column-cell\" transform=\"translate(0,78.90625)\"><rect class=\"cell-rect\" width=\"566.1538461538462\" stroke-width=\"0.4\" style=\"stroke: rgb(0, 0, 0); stroke-opacity: 1; fill: rgb(38, 70, 83); fill-opacity: 1;\" height=\"30\"/><g class=\"cell-text-holder\" transform=\"translate(283.0769230769231,8)\" text-anchor=\"middle\" style=\"shape-rendering: geometricprecision;\"><text class=\"cell-text\" dy=\"0.75em\" style=\"cursor: auto; font-family: 'Open Sans', verdana, arial, sans-serif; font-size: 12px; fill: rgb(241, 250, 238); fill-opacity: 1;\">http://store.steampowered.com/app/391540/Undertale/</text></g></g><g class=\"column-cell\" transform=\"translate(0,108.90625)\"><rect class=\"cell-rect\" width=\"566.1538461538462\" stroke-width=\"0.4\" style=\"stroke: rgb(0, 0, 0); stroke-opacity: 1; fill: rgb(38, 70, 83); fill-opacity: 1;\" height=\"30\"/><g class=\"cell-text-holder\" transform=\"translate(283.0769230769231,8)\" text-anchor=\"middle\" style=\"shape-rendering: geometricprecision;\"><text class=\"cell-text\" dy=\"0.75em\" style=\"cursor: auto; font-family: 'Open Sans', verdana, arial, sans-serif; font-size: 12px; fill: rgb(241, 250, 238); fill-opacity: 1;\">http://store.steampowered.com/app/620/Portal_2/</text></g></g><g class=\"column-cell\" transform=\"translate(0,138.90625)\"><rect class=\"cell-rect\" width=\"566.1538461538462\" stroke-width=\"0.4\" style=\"stroke: rgb(0, 0, 0); stroke-opacity: 1; fill: rgb(38, 70, 83); fill-opacity: 1;\" height=\"30\"/><g class=\"cell-text-holder\" transform=\"translate(283.0769230769231,8)\" text-anchor=\"middle\" style=\"shape-rendering: geometricprecision;\"><text class=\"cell-text\" dy=\"0.75em\" style=\"cursor: auto; font-family: 'Open Sans', verdana, arial, sans-serif; font-size: 12px; fill: rgb(241, 250, 238); fill-opacity: 1;\">http://store.steampowered.com/app/319630/Life_is_Strange__Episode_1/</text></g></g><g class=\"column-cell\" transform=\"translate(0,168.90625)\"><rect class=\"cell-rect\" width=\"566.1538461538462\" stroke-width=\"0.4\" style=\"stroke: rgb(0, 0, 0); stroke-opacity: 1; fill: rgb(38, 70, 83); fill-opacity: 1;\" height=\"30\"/><g class=\"cell-text-holder\" transform=\"translate(283.0769230769231,8)\" text-anchor=\"middle\" style=\"shape-rendering: geometricprecision;\"><text class=\"cell-text\" dy=\"0.75em\" style=\"cursor: auto; font-family: 'Open Sans', verdana, arial, sans-serif; font-size: 12px; fill: rgb(241, 250, 238); fill-opacity: 1;\">http://store.steampowered.com/app/49520/Borderlands_2/</text></g></g><g class=\"column-cell\" transform=\"translate(0,198.90625)\"><rect class=\"cell-rect\" width=\"566.1538461538462\" stroke-width=\"0.4\" style=\"stroke: rgb(0, 0, 0); stroke-opacity: 1; fill: rgb(38, 70, 83); fill-opacity: 1;\" height=\"30\"/><g class=\"cell-text-holder\" transform=\"translate(283.0769230769231,8)\" text-anchor=\"middle\" style=\"shape-rendering: geometricprecision;\"><text class=\"cell-text\" dy=\"0.75em\" style=\"cursor: auto; font-family: 'Open Sans', verdana, arial, sans-serif; font-size: 12px; fill: rgb(241, 250, 238); fill-opacity: 1;\">http://store.steampowered.com/app/252490/Rust/</text></g></g><g class=\"column-cell\" transform=\"translate(0,228.90625)\"><rect class=\"cell-rect\" width=\"566.1538461538462\" stroke-width=\"0.4\" style=\"stroke: rgb(0, 0, 0); stroke-opacity: 1; fill: rgb(38, 70, 83); fill-opacity: 1;\" height=\"30\"/><g class=\"cell-text-holder\" transform=\"translate(283.0769230769231,8)\" text-anchor=\"middle\" style=\"shape-rendering: geometricprecision;\"><text class=\"cell-text\" dy=\"0.75em\" style=\"cursor: auto; font-family: 'Open Sans', verdana, arial, sans-serif; font-size: 12px; fill: rgb(241, 250, 238); fill-opacity: 1;\">http://store.steampowered.com/app/301520/Robocraft/</text></g></g><g class=\"column-cell\" transform=\"translate(0,258.90625)\"><rect class=\"cell-rect\" width=\"566.1538461538462\" stroke-width=\"0.4\" style=\"stroke: rgb(0, 0, 0); stroke-opacity: 1; fill: rgb(38, 70, 83); fill-opacity: 1;\" height=\"30\"/><g class=\"cell-text-holder\" transform=\"translate(283.0769230769231,8)\" text-anchor=\"middle\" style=\"shape-rendering: geometricprecision;\"><text class=\"cell-text\" dy=\"0.75em\" style=\"cursor: auto; font-family: 'Open Sans', verdana, arial, sans-serif; font-size: 12px; fill: rgb(241, 250, 238); fill-opacity: 1;\">http://store.steampowered.com/app/377160/Fallout_4/</text></g></g><g class=\"column-cell\" transform=\"translate(0,288.90625)\"><rect class=\"cell-rect\" width=\"566.1538461538462\" stroke-width=\"0.4\" style=\"stroke: rgb(0, 0, 0); stroke-opacity: 1; fill: rgb(38, 70, 83); fill-opacity: 1;\" height=\"30\"/><g class=\"cell-text-holder\" transform=\"translate(283.0769230769231,8)\" text-anchor=\"middle\" style=\"shape-rendering: geometricprecision;\"><text class=\"cell-text\" dy=\"0.75em\" style=\"cursor: auto; font-family: 'Open Sans', verdana, arial, sans-serif; font-size: 12px; fill: rgb(241, 250, 238); fill-opacity: 1;\">http://store.steampowered.com/app/221100/DayZ/</text></g></g><g class=\"column-cell\" transform=\"translate(0,318.90625)\"><rect class=\"cell-rect\" width=\"566.1538461538462\" stroke-width=\"0.4\" style=\"stroke: rgb(0, 0, 0); stroke-opacity: 1; fill: rgb(38, 70, 83); fill-opacity: 1;\" height=\"30\"/><g class=\"cell-text-holder\" transform=\"translate(283.0769230769231,8)\" text-anchor=\"middle\" style=\"shape-rendering: geometricprecision;\"><text class=\"cell-text\" dy=\"0.75em\" style=\"cursor: auto; font-family: 'Open Sans', verdana, arial, sans-serif; font-size: 12px; fill: rgb(241, 250, 238); fill-opacity: 1;\">http://store.steampowered.com/app/271590/Grand_Theft_Auto_V/</text></g></g></g></g><g class=\"column-block\" id=\"cells2\" transform=\"\" style=\"cursor: default;\"><g class=\"column-cells\"/></g><g class=\"column-block\" id=\"header\" style=\"cursor: ew-resize;\"><g class=\"column-cells\"><g class=\"column-cell\" transform=\"\"><rect class=\"cell-rect\" width=\"566.1538461538462\" stroke-width=\"1\" style=\"stroke: rgb(255, 255, 255); stroke-opacity: 1; fill: rgb(255, 209, 102); fill-opacity: 1;\" height=\"48.90625\"/><g class=\"cell-text-holder\" transform=\"translate(283.0769230769231,8)\" text-anchor=\"middle\" style=\"shape-rendering: geometricprecision;\"><text class=\"cell-text\" dy=\"0.75em\" style=\"cursor: auto; font-family: 'Open Sans', verdana, arial, sans-serif; font-size: 13px; fill: rgb(42, 63, 95); fill-opacity: 1;\">URL</text></g></g></g></g><g class=\"column-boundary\"/><clipPath class=\"column-boundary-clippath\" id=\"clipa74919_columnBoundaryClippath_82794ctrue_1\"><rect class=\"column-boundary-rect\" fill=\"none\" width=\"568.1538461538462\" height=\"367\" x=\"-1\" y=\"-1\"/></clipPath></g><g class=\"y-column\" transform=\"translate(778.4615384615386,0)\" clip-path=\"url(#clipa74919_columnBoundaryClippath_82794ctrue_2)\"><g class=\"column-block\" id=\"cells1\" transform=\"\" style=\"cursor: default;\"><g class=\"column-cells\"><g class=\"column-cell\" transform=\"translate(0,48.90625)\"><rect class=\"cell-rect\" width=\"141.53846153846155\" stroke-width=\"0.4\" style=\"stroke: rgb(0, 0, 0); stroke-opacity: 1; fill: rgb(38, 70, 83); fill-opacity: 1;\" height=\"30\"/><g class=\"cell-text-holder\" transform=\"translate(70.76923076923077,8)\" text-anchor=\"middle\" style=\"shape-rendering: geometricprecision;\"><text class=\"cell-text\" dy=\"0.75em\" style=\"cursor: auto; font-family: 'Open Sans', verdana, arial, sans-serif; font-size: 12px; fill: rgb(241, 250, 238); fill-opacity: 1;\">free</text></g></g><g class=\"column-cell\" transform=\"translate(0,78.90625)\"><rect class=\"cell-rect\" width=\"141.53846153846155\" stroke-width=\"0.4\" style=\"stroke: rgb(0, 0, 0); stroke-opacity: 1; fill: rgb(38, 70, 83); fill-opacity: 1;\" height=\"30\"/><g class=\"cell-text-holder\" transform=\"translate(70.76923076923077,8)\" text-anchor=\"middle\" style=\"shape-rendering: geometricprecision;\"><text class=\"cell-text\" dy=\"0.75em\" style=\"cursor: auto; font-family: 'Open Sans', verdana, arial, sans-serif; font-size: 12px; fill: rgb(241, 250, 238); fill-opacity: 1;\">paid</text></g></g><g class=\"column-cell\" transform=\"translate(0,108.90625)\"><rect class=\"cell-rect\" width=\"141.53846153846155\" stroke-width=\"0.4\" style=\"stroke: rgb(0, 0, 0); stroke-opacity: 1; fill: rgb(38, 70, 83); fill-opacity: 1;\" height=\"30\"/><g class=\"cell-text-holder\" transform=\"translate(70.76923076923077,8)\" text-anchor=\"middle\" style=\"shape-rendering: geometricprecision;\"><text class=\"cell-text\" dy=\"0.75em\" style=\"cursor: auto; font-family: 'Open Sans', verdana, arial, sans-serif; font-size: 12px; fill: rgb(241, 250, 238); fill-opacity: 1;\">paid</text></g></g><g class=\"column-cell\" transform=\"translate(0,138.90625)\"><rect class=\"cell-rect\" width=\"141.53846153846155\" stroke-width=\"0.4\" style=\"stroke: rgb(0, 0, 0); stroke-opacity: 1; fill: rgb(38, 70, 83); fill-opacity: 1;\" height=\"30\"/><g class=\"cell-text-holder\" transform=\"translate(70.76923076923077,8)\" text-anchor=\"middle\" style=\"shape-rendering: geometricprecision;\"><text class=\"cell-text\" dy=\"0.75em\" style=\"cursor: auto; font-family: 'Open Sans', verdana, arial, sans-serif; font-size: 12px; fill: rgb(241, 250, 238); fill-opacity: 1;\">free</text></g></g><g class=\"column-cell\" transform=\"translate(0,168.90625)\"><rect class=\"cell-rect\" width=\"141.53846153846155\" stroke-width=\"0.4\" style=\"stroke: rgb(0, 0, 0); stroke-opacity: 1; fill: rgb(38, 70, 83); fill-opacity: 1;\" height=\"30\"/><g class=\"cell-text-holder\" transform=\"translate(70.76923076923077,8)\" text-anchor=\"middle\" style=\"shape-rendering: geometricprecision;\"><text class=\"cell-text\" dy=\"0.75em\" style=\"cursor: auto; font-family: 'Open Sans', verdana, arial, sans-serif; font-size: 12px; fill: rgb(241, 250, 238); fill-opacity: 1;\">paid</text></g></g><g class=\"column-cell\" transform=\"translate(0,198.90625)\"><rect class=\"cell-rect\" width=\"141.53846153846155\" stroke-width=\"0.4\" style=\"stroke: rgb(0, 0, 0); stroke-opacity: 1; fill: rgb(38, 70, 83); fill-opacity: 1;\" height=\"30\"/><g class=\"cell-text-holder\" transform=\"translate(70.76923076923077,8)\" text-anchor=\"middle\" style=\"shape-rendering: geometricprecision;\"><text class=\"cell-text\" dy=\"0.75em\" style=\"cursor: auto; font-family: 'Open Sans', verdana, arial, sans-serif; font-size: 12px; fill: rgb(241, 250, 238); fill-opacity: 1;\">paid</text></g></g><g class=\"column-cell\" transform=\"translate(0,228.90625)\"><rect class=\"cell-rect\" width=\"141.53846153846155\" stroke-width=\"0.4\" style=\"stroke: rgb(0, 0, 0); stroke-opacity: 1; fill: rgb(38, 70, 83); fill-opacity: 1;\" height=\"30\"/><g class=\"cell-text-holder\" transform=\"translate(70.76923076923077,8)\" text-anchor=\"middle\" style=\"shape-rendering: geometricprecision;\"><text class=\"cell-text\" dy=\"0.75em\" style=\"cursor: auto; font-family: 'Open Sans', verdana, arial, sans-serif; font-size: 12px; fill: rgb(241, 250, 238); fill-opacity: 1;\">free</text></g></g><g class=\"column-cell\" transform=\"translate(0,258.90625)\"><rect class=\"cell-rect\" width=\"141.53846153846155\" stroke-width=\"0.4\" style=\"stroke: rgb(0, 0, 0); stroke-opacity: 1; fill: rgb(38, 70, 83); fill-opacity: 1;\" height=\"30\"/><g class=\"cell-text-holder\" transform=\"translate(70.76923076923077,8)\" text-anchor=\"middle\" style=\"shape-rendering: geometricprecision;\"><text class=\"cell-text\" dy=\"0.75em\" style=\"cursor: auto; font-family: 'Open Sans', verdana, arial, sans-serif; font-size: 12px; fill: rgb(241, 250, 238); fill-opacity: 1;\">paid</text></g></g><g class=\"column-cell\" transform=\"translate(0,288.90625)\"><rect class=\"cell-rect\" width=\"141.53846153846155\" stroke-width=\"0.4\" style=\"stroke: rgb(0, 0, 0); stroke-opacity: 1; fill: rgb(38, 70, 83); fill-opacity: 1;\" height=\"30\"/><g class=\"cell-text-holder\" transform=\"translate(70.76923076923077,8)\" text-anchor=\"middle\" style=\"shape-rendering: geometricprecision;\"><text class=\"cell-text\" dy=\"0.75em\" style=\"cursor: auto; font-family: 'Open Sans', verdana, arial, sans-serif; font-size: 12px; fill: rgb(241, 250, 238); fill-opacity: 1;\">paid</text></g></g><g class=\"column-cell\" transform=\"translate(0,318.90625)\"><rect class=\"cell-rect\" width=\"141.53846153846155\" stroke-width=\"0.4\" style=\"stroke: rgb(0, 0, 0); stroke-opacity: 1; fill: rgb(38, 70, 83); fill-opacity: 1;\" height=\"30\"/><g class=\"cell-text-holder\" transform=\"translate(70.76923076923077,8)\" text-anchor=\"middle\" style=\"shape-rendering: geometricprecision;\"><text class=\"cell-text\" dy=\"0.75em\" style=\"cursor: auto; font-family: 'Open Sans', verdana, arial, sans-serif; font-size: 12px; fill: rgb(241, 250, 238); fill-opacity: 1;\">paid</text></g></g></g></g><g class=\"column-block\" id=\"cells2\" transform=\"\" style=\"cursor: default;\"><g class=\"column-cells\"/></g><g class=\"column-block\" id=\"header\" style=\"cursor: ew-resize;\"><g class=\"column-cells\"><g class=\"column-cell\" transform=\"\"><rect class=\"cell-rect\" width=\"141.53846153846155\" stroke-width=\"1\" style=\"stroke: rgb(255, 255, 255); stroke-opacity: 1; fill: rgb(255, 209, 102); fill-opacity: 1;\" height=\"48.90625\"/><g class=\"cell-text-holder\" transform=\"translate(29.097355769230774,21)\" style=\"shape-rendering: geometricprecision;\"><text class=\"cell-text\" dy=\"0\" x=\"0\" y=\"0\" style=\"cursor: auto; font-family: 'Open Sans', verdana, arial, sans-serif; font-size: 13px; fill: rgb(42, 63, 95); fill-opacity: 1; white-space: pre;\"><tspan class=\"line\" dy=\"0em\" x=\"0\" y=\"0\">Categoría de</tspan><tspan class=\"line\" dy=\"1.3em\" x=\"0\" y=\"0\">precio</tspan></text></g></g></g></g><g class=\"column-boundary\"/><clipPath class=\"column-boundary-clippath\" id=\"clipa74919_columnBoundaryClippath_82794ctrue_2\"><rect class=\"column-boundary-rect\" fill=\"none\" width=\"143.53846153846155\" height=\"367\" x=\"-1\" y=\"-1\"/></clipPath></g><g class=\"scrollbar-kit\" transform=\"translate(929,48.90625)\" style=\"shape-rendering: geometricprecision;\"><g class=\"scrollbar\"><g class=\"scrollbar-slider\" transform=\"\"/></g></g><clipPath class=\"scroll-area-clip\" id=\"clipa74919_scrollAreaBottomClip_82794ctrue\"><rect class=\"scroll-area-clip-rect\" x=\"-45\" y=\"-5\" fill=\"none\" width=\"1010\" height=\"365\"/></clipPath></g></g><defs id=\"topdefs-a74919\"><g class=\"clips\"/></defs><g class=\"layer-above\"><g class=\"imagelayer\"/><g class=\"shapelayer\"/></g><g class=\"infolayer\"><g class=\"g-gtitle\"/></g></svg>"
      ],
      "text/plain": [
       "<IPython.core.display.SVG object>"
      ]
     },
     "metadata": {},
     "output_type": "display_data"
    }
   ],
   "source": [
    "plot_table(reviews_games_amount.head(10))"
   ]
  },
  {
   "cell_type": "markdown",
   "metadata": {},
   "source": [
    "#### Ahora crearemos un sistema que recomiende a los nuevos usuarios juegos basados en su popularidad"
   ]
  },
  {
   "cell_type": "code",
   "execution_count": 76,
   "metadata": {},
   "outputs": [],
   "source": [
    "def get_popularity_recommendations(username, top=10):\n",
    "    df_recs = reviews_games_amount[~reviews_games_amount.id.isin(\n",
    "        data_reviews.query('username==@username').product_id)]\n",
    "    plot_table(df_recs.head(top))"
   ]
  },
  {
   "cell_type": "code",
   "execution_count": 77,
   "metadata": {},
   "outputs": [
    {
     "data": {
      "image/svg+xml": [
       "<svg xmlns=\"http://www.w3.org/2000/svg\" xmlns:xlink=\"http://www.w3.org/1999/xlink\" class=\"main-svg\" width=\"1000\" height=\"370\" style=\"\" viewBox=\"0 0 1000 370\"><rect x=\"0\" y=\"0\" width=\"1000\" height=\"370\" style=\"fill: rgb(255, 255, 255); fill-opacity: 1;\"/><defs id=\"defs-b31f14\"><g class=\"clips\"/><g class=\"gradients\"/><g class=\"patterns\"/></defs><g class=\"bglayer\"/><g class=\"layer-below\"><g class=\"imagelayer\"/><g class=\"shapelayer\"/></g><g class=\"cartesianlayer\"/><g class=\"polarlayer\"/><g class=\"ternarylayer\"/><g class=\"geolayer\"/><g class=\"funnelarealayer\"/><g class=\"pielayer\"/><g class=\"iciclelayer\"/><g class=\"treemaplayer\"/><g class=\"sunburstlayer\"/><g class=\"glimages\"/><g class=\"table\" overflow=\"visible\" width=\"1000\" height=\"370\" transform=\"\" style=\"box-sizing: content-box; position: absolute; left: 0px; overflow: visible; shape-rendering: crispedges; pointer-events: all;\"><g class=\"table-control-view\" transform=\"translate(0,10)\" clip-path=\"url(#clipb31f14_scrollAreaBottomClip_2e8afetrue)\" style=\"box-sizing: content-box;\"><rect class=\"scroll-background\" fill=\"none\" width=\"920\" height=\"360\"/><g class=\"y-column\" transform=\"\" clip-path=\"url(#clipb31f14_columnBoundaryClippath_2e8afetrue_0)\"><g class=\"column-block\" id=\"cells1\" transform=\"\" style=\"cursor: default;\"><g class=\"column-cells\"><g class=\"column-cell\" transform=\"translate(0,48.90625)\"><rect class=\"cell-rect\" width=\"212.30769230769232\" stroke-width=\"0.4\" style=\"stroke: rgb(0, 0, 0); stroke-opacity: 1; fill: rgb(38, 70, 83); fill-opacity: 1;\" height=\"30\"/><g class=\"cell-text-holder\" transform=\"translate(106.15384615384616,8)\" text-anchor=\"middle\" style=\"shape-rendering: geometricprecision;\"><text class=\"cell-text\" dy=\"0.75em\" x=\"0\" y=\"0\" style=\"cursor: auto; font-family: 'Open Sans', verdana, arial, sans-serif; font-size: 12px; fill: rgb(241, 250, 238); fill-opacity: 1; white-space: pre;\">Team Fortress 2</text></g></g><g class=\"column-cell\" transform=\"translate(0,78.90625)\"><rect class=\"cell-rect\" width=\"212.30769230769232\" stroke-width=\"0.4\" style=\"stroke: rgb(0, 0, 0); stroke-opacity: 1; fill: rgb(38, 70, 83); fill-opacity: 1;\" height=\"30\"/><g class=\"cell-text-holder\" transform=\"translate(106.15384615384616,8)\" text-anchor=\"middle\" style=\"shape-rendering: geometricprecision;\"><text class=\"cell-text\" dy=\"0.75em\" style=\"cursor: auto; font-family: 'Open Sans', verdana, arial, sans-serif; font-size: 12px; fill: rgb(241, 250, 238); fill-opacity: 1;\">Undertale</text></g></g><g class=\"column-cell\" transform=\"translate(0,108.90625)\"><rect class=\"cell-rect\" width=\"212.30769230769232\" stroke-width=\"0.4\" style=\"stroke: rgb(0, 0, 0); stroke-opacity: 1; fill: rgb(38, 70, 83); fill-opacity: 1;\" height=\"30\"/><g class=\"cell-text-holder\" transform=\"translate(106.15384615384616,8)\" text-anchor=\"middle\" style=\"shape-rendering: geometricprecision;\"><text class=\"cell-text\" dy=\"0.75em\" x=\"0\" y=\"0\" style=\"cursor: auto; font-family: 'Open Sans', verdana, arial, sans-serif; font-size: 12px; fill: rgb(241, 250, 238); fill-opacity: 1; white-space: pre;\">Portal 2</text></g></g><g class=\"column-cell\" transform=\"translate(0,138.90625)\"><rect class=\"cell-rect\" width=\"212.30769230769232\" stroke-width=\"0.4\" style=\"stroke: rgb(0, 0, 0); stroke-opacity: 1; fill: rgb(38, 70, 83); fill-opacity: 1;\" height=\"30\"/><g class=\"cell-text-holder\" transform=\"translate(106.15384615384616,8)\" text-anchor=\"middle\" style=\"shape-rendering: geometricprecision;\"><text class=\"cell-text\" dy=\"0.75em\" x=\"0\" y=\"0\" style=\"cursor: auto; font-family: 'Open Sans', verdana, arial, sans-serif; font-size: 12px; fill: rgb(241, 250, 238); fill-opacity: 1; white-space: pre;\">Life is Strange - Episode 1</text></g></g><g class=\"column-cell\" transform=\"translate(0,168.90625)\"><rect class=\"cell-rect\" width=\"212.30769230769232\" stroke-width=\"0.4\" style=\"stroke: rgb(0, 0, 0); stroke-opacity: 1; fill: rgb(38, 70, 83); fill-opacity: 1;\" height=\"30\"/><g class=\"cell-text-holder\" transform=\"translate(106.15384615384616,8)\" text-anchor=\"middle\" style=\"shape-rendering: geometricprecision;\"><text class=\"cell-text\" dy=\"0.75em\" x=\"0\" y=\"0\" style=\"cursor: auto; font-family: 'Open Sans', verdana, arial, sans-serif; font-size: 12px; fill: rgb(241, 250, 238); fill-opacity: 1; white-space: pre;\">Borderlands 2</text></g></g><g class=\"column-cell\" transform=\"translate(0,198.90625)\"><rect class=\"cell-rect\" width=\"212.30769230769232\" stroke-width=\"0.4\" style=\"stroke: rgb(0, 0, 0); stroke-opacity: 1; fill: rgb(38, 70, 83); fill-opacity: 1;\" height=\"30\"/><g class=\"cell-text-holder\" transform=\"translate(106.15384615384616,8)\" text-anchor=\"middle\" style=\"shape-rendering: geometricprecision;\"><text class=\"cell-text\" dy=\"0.75em\" style=\"cursor: auto; font-family: 'Open Sans', verdana, arial, sans-serif; font-size: 12px; fill: rgb(241, 250, 238); fill-opacity: 1;\">Rust</text></g></g><g class=\"column-cell\" transform=\"translate(0,228.90625)\"><rect class=\"cell-rect\" width=\"212.30769230769232\" stroke-width=\"0.4\" style=\"stroke: rgb(0, 0, 0); stroke-opacity: 1; fill: rgb(38, 70, 83); fill-opacity: 1;\" height=\"30\"/><g class=\"cell-text-holder\" transform=\"translate(106.15384615384616,8)\" text-anchor=\"middle\" style=\"shape-rendering: geometricprecision;\"><text class=\"cell-text\" dy=\"0.75em\" style=\"cursor: auto; font-family: 'Open Sans', verdana, arial, sans-serif; font-size: 12px; fill: rgb(241, 250, 238); fill-opacity: 1;\">Robocraft</text></g></g><g class=\"column-cell\" transform=\"translate(0,258.90625)\"><rect class=\"cell-rect\" width=\"212.30769230769232\" stroke-width=\"0.4\" style=\"stroke: rgb(0, 0, 0); stroke-opacity: 1; fill: rgb(38, 70, 83); fill-opacity: 1;\" height=\"30\"/><g class=\"cell-text-holder\" transform=\"translate(106.15384615384616,8)\" text-anchor=\"middle\" style=\"shape-rendering: geometricprecision;\"><text class=\"cell-text\" dy=\"0.75em\" x=\"0\" y=\"0\" style=\"cursor: auto; font-family: 'Open Sans', verdana, arial, sans-serif; font-size: 12px; fill: rgb(241, 250, 238); fill-opacity: 1; white-space: pre;\">Fallout 4</text></g></g><g class=\"column-cell\" transform=\"translate(0,288.90625)\"><rect class=\"cell-rect\" width=\"212.30769230769232\" stroke-width=\"0.4\" style=\"stroke: rgb(0, 0, 0); stroke-opacity: 1; fill: rgb(38, 70, 83); fill-opacity: 1;\" height=\"30\"/><g class=\"cell-text-holder\" transform=\"translate(106.15384615384616,8)\" text-anchor=\"middle\" style=\"shape-rendering: geometricprecision;\"><text class=\"cell-text\" dy=\"0.75em\" style=\"cursor: auto; font-family: 'Open Sans', verdana, arial, sans-serif; font-size: 12px; fill: rgb(241, 250, 238); fill-opacity: 1;\">DayZ</text></g></g><g class=\"column-cell\" transform=\"translate(0,318.90625)\"><rect class=\"cell-rect\" width=\"212.30769230769232\" stroke-width=\"0.4\" style=\"stroke: rgb(0, 0, 0); stroke-opacity: 1; fill: rgb(38, 70, 83); fill-opacity: 1;\" height=\"30\"/><g class=\"cell-text-holder\" transform=\"translate(106.15384615384616,8)\" text-anchor=\"middle\" style=\"shape-rendering: geometricprecision;\"><text class=\"cell-text\" dy=\"0.75em\" x=\"0\" y=\"0\" style=\"cursor: auto; font-family: 'Open Sans', verdana, arial, sans-serif; font-size: 12px; fill: rgb(241, 250, 238); fill-opacity: 1; white-space: pre;\">Grand Theft Auto V</text></g></g></g></g><g class=\"column-block\" id=\"cells2\" transform=\"\" style=\"cursor: default;\"><g class=\"column-cells\"/></g><g class=\"column-block\" id=\"header\" style=\"cursor: ew-resize;\"><g class=\"column-cells\"><g class=\"column-cell\" transform=\"\"><rect class=\"cell-rect\" width=\"212.30769230769232\" stroke-width=\"1\" style=\"stroke: rgb(255, 255, 255); stroke-opacity: 1; fill: rgb(255, 209, 102); fill-opacity: 1;\" height=\"48.90625\"/><g class=\"cell-text-holder\" transform=\"translate(106.15384615384616,8)\" text-anchor=\"middle\" style=\"shape-rendering: geometricprecision;\"><text class=\"cell-text\" dy=\"0.75em\" style=\"cursor: auto; font-family: 'Open Sans', verdana, arial, sans-serif; font-size: 13px; fill: rgb(42, 63, 95); fill-opacity: 1;\">Juego</text></g></g></g></g><g class=\"column-boundary\"/><clipPath class=\"column-boundary-clippath\" id=\"clipb31f14_columnBoundaryClippath_2e8afetrue_0\"><rect class=\"column-boundary-rect\" fill=\"none\" width=\"214.30769230769232\" height=\"367\" x=\"-1\" y=\"-1\"/></clipPath></g><g class=\"y-column\" transform=\"translate(212.30769230769232,0)\" clip-path=\"url(#clipb31f14_columnBoundaryClippath_2e8afetrue_1)\"><g class=\"column-block\" id=\"cells1\" transform=\"\" style=\"cursor: default;\"><g class=\"column-cells\"><g class=\"column-cell\" transform=\"translate(0,48.90625)\"><rect class=\"cell-rect\" width=\"566.1538461538462\" stroke-width=\"0.4\" style=\"stroke: rgb(0, 0, 0); stroke-opacity: 1; fill: rgb(38, 70, 83); fill-opacity: 1;\" height=\"30\"/><g class=\"cell-text-holder\" transform=\"translate(283.0769230769231,8)\" text-anchor=\"middle\" style=\"shape-rendering: geometricprecision;\"><text class=\"cell-text\" dy=\"0.75em\" style=\"cursor: auto; font-family: 'Open Sans', verdana, arial, sans-serif; font-size: 12px; fill: rgb(241, 250, 238); fill-opacity: 1;\">http://store.steampowered.com/app/440/Team_Fortress_2/</text></g></g><g class=\"column-cell\" transform=\"translate(0,78.90625)\"><rect class=\"cell-rect\" width=\"566.1538461538462\" stroke-width=\"0.4\" style=\"stroke: rgb(0, 0, 0); stroke-opacity: 1; fill: rgb(38, 70, 83); fill-opacity: 1;\" height=\"30\"/><g class=\"cell-text-holder\" transform=\"translate(283.0769230769231,8)\" text-anchor=\"middle\" style=\"shape-rendering: geometricprecision;\"><text class=\"cell-text\" dy=\"0.75em\" style=\"cursor: auto; font-family: 'Open Sans', verdana, arial, sans-serif; font-size: 12px; fill: rgb(241, 250, 238); fill-opacity: 1;\">http://store.steampowered.com/app/391540/Undertale/</text></g></g><g class=\"column-cell\" transform=\"translate(0,108.90625)\"><rect class=\"cell-rect\" width=\"566.1538461538462\" stroke-width=\"0.4\" style=\"stroke: rgb(0, 0, 0); stroke-opacity: 1; fill: rgb(38, 70, 83); fill-opacity: 1;\" height=\"30\"/><g class=\"cell-text-holder\" transform=\"translate(283.0769230769231,8)\" text-anchor=\"middle\" style=\"shape-rendering: geometricprecision;\"><text class=\"cell-text\" dy=\"0.75em\" style=\"cursor: auto; font-family: 'Open Sans', verdana, arial, sans-serif; font-size: 12px; fill: rgb(241, 250, 238); fill-opacity: 1;\">http://store.steampowered.com/app/620/Portal_2/</text></g></g><g class=\"column-cell\" transform=\"translate(0,138.90625)\"><rect class=\"cell-rect\" width=\"566.1538461538462\" stroke-width=\"0.4\" style=\"stroke: rgb(0, 0, 0); stroke-opacity: 1; fill: rgb(38, 70, 83); fill-opacity: 1;\" height=\"30\"/><g class=\"cell-text-holder\" transform=\"translate(283.0769230769231,8)\" text-anchor=\"middle\" style=\"shape-rendering: geometricprecision;\"><text class=\"cell-text\" dy=\"0.75em\" style=\"cursor: auto; font-family: 'Open Sans', verdana, arial, sans-serif; font-size: 12px; fill: rgb(241, 250, 238); fill-opacity: 1;\">http://store.steampowered.com/app/319630/Life_is_Strange__Episode_1/</text></g></g><g class=\"column-cell\" transform=\"translate(0,168.90625)\"><rect class=\"cell-rect\" width=\"566.1538461538462\" stroke-width=\"0.4\" style=\"stroke: rgb(0, 0, 0); stroke-opacity: 1; fill: rgb(38, 70, 83); fill-opacity: 1;\" height=\"30\"/><g class=\"cell-text-holder\" transform=\"translate(283.0769230769231,8)\" text-anchor=\"middle\" style=\"shape-rendering: geometricprecision;\"><text class=\"cell-text\" dy=\"0.75em\" style=\"cursor: auto; font-family: 'Open Sans', verdana, arial, sans-serif; font-size: 12px; fill: rgb(241, 250, 238); fill-opacity: 1;\">http://store.steampowered.com/app/49520/Borderlands_2/</text></g></g><g class=\"column-cell\" transform=\"translate(0,198.90625)\"><rect class=\"cell-rect\" width=\"566.1538461538462\" stroke-width=\"0.4\" style=\"stroke: rgb(0, 0, 0); stroke-opacity: 1; fill: rgb(38, 70, 83); fill-opacity: 1;\" height=\"30\"/><g class=\"cell-text-holder\" transform=\"translate(283.0769230769231,8)\" text-anchor=\"middle\" style=\"shape-rendering: geometricprecision;\"><text class=\"cell-text\" dy=\"0.75em\" style=\"cursor: auto; font-family: 'Open Sans', verdana, arial, sans-serif; font-size: 12px; fill: rgb(241, 250, 238); fill-opacity: 1;\">http://store.steampowered.com/app/252490/Rust/</text></g></g><g class=\"column-cell\" transform=\"translate(0,228.90625)\"><rect class=\"cell-rect\" width=\"566.1538461538462\" stroke-width=\"0.4\" style=\"stroke: rgb(0, 0, 0); stroke-opacity: 1; fill: rgb(38, 70, 83); fill-opacity: 1;\" height=\"30\"/><g class=\"cell-text-holder\" transform=\"translate(283.0769230769231,8)\" text-anchor=\"middle\" style=\"shape-rendering: geometricprecision;\"><text class=\"cell-text\" dy=\"0.75em\" style=\"cursor: auto; font-family: 'Open Sans', verdana, arial, sans-serif; font-size: 12px; fill: rgb(241, 250, 238); fill-opacity: 1;\">http://store.steampowered.com/app/301520/Robocraft/</text></g></g><g class=\"column-cell\" transform=\"translate(0,258.90625)\"><rect class=\"cell-rect\" width=\"566.1538461538462\" stroke-width=\"0.4\" style=\"stroke: rgb(0, 0, 0); stroke-opacity: 1; fill: rgb(38, 70, 83); fill-opacity: 1;\" height=\"30\"/><g class=\"cell-text-holder\" transform=\"translate(283.0769230769231,8)\" text-anchor=\"middle\" style=\"shape-rendering: geometricprecision;\"><text class=\"cell-text\" dy=\"0.75em\" style=\"cursor: auto; font-family: 'Open Sans', verdana, arial, sans-serif; font-size: 12px; fill: rgb(241, 250, 238); fill-opacity: 1;\">http://store.steampowered.com/app/377160/Fallout_4/</text></g></g><g class=\"column-cell\" transform=\"translate(0,288.90625)\"><rect class=\"cell-rect\" width=\"566.1538461538462\" stroke-width=\"0.4\" style=\"stroke: rgb(0, 0, 0); stroke-opacity: 1; fill: rgb(38, 70, 83); fill-opacity: 1;\" height=\"30\"/><g class=\"cell-text-holder\" transform=\"translate(283.0769230769231,8)\" text-anchor=\"middle\" style=\"shape-rendering: geometricprecision;\"><text class=\"cell-text\" dy=\"0.75em\" style=\"cursor: auto; font-family: 'Open Sans', verdana, arial, sans-serif; font-size: 12px; fill: rgb(241, 250, 238); fill-opacity: 1;\">http://store.steampowered.com/app/221100/DayZ/</text></g></g><g class=\"column-cell\" transform=\"translate(0,318.90625)\"><rect class=\"cell-rect\" width=\"566.1538461538462\" stroke-width=\"0.4\" style=\"stroke: rgb(0, 0, 0); stroke-opacity: 1; fill: rgb(38, 70, 83); fill-opacity: 1;\" height=\"30\"/><g class=\"cell-text-holder\" transform=\"translate(283.0769230769231,8)\" text-anchor=\"middle\" style=\"shape-rendering: geometricprecision;\"><text class=\"cell-text\" dy=\"0.75em\" style=\"cursor: auto; font-family: 'Open Sans', verdana, arial, sans-serif; font-size: 12px; fill: rgb(241, 250, 238); fill-opacity: 1;\">http://store.steampowered.com/app/271590/Grand_Theft_Auto_V/</text></g></g></g></g><g class=\"column-block\" id=\"cells2\" transform=\"\" style=\"cursor: default;\"><g class=\"column-cells\"/></g><g class=\"column-block\" id=\"header\" style=\"cursor: ew-resize;\"><g class=\"column-cells\"><g class=\"column-cell\" transform=\"\"><rect class=\"cell-rect\" width=\"566.1538461538462\" stroke-width=\"1\" style=\"stroke: rgb(255, 255, 255); stroke-opacity: 1; fill: rgb(255, 209, 102); fill-opacity: 1;\" height=\"48.90625\"/><g class=\"cell-text-holder\" transform=\"translate(283.0769230769231,8)\" text-anchor=\"middle\" style=\"shape-rendering: geometricprecision;\"><text class=\"cell-text\" dy=\"0.75em\" style=\"cursor: auto; font-family: 'Open Sans', verdana, arial, sans-serif; font-size: 13px; fill: rgb(42, 63, 95); fill-opacity: 1;\">URL</text></g></g></g></g><g class=\"column-boundary\"/><clipPath class=\"column-boundary-clippath\" id=\"clipb31f14_columnBoundaryClippath_2e8afetrue_1\"><rect class=\"column-boundary-rect\" fill=\"none\" width=\"568.1538461538462\" height=\"367\" x=\"-1\" y=\"-1\"/></clipPath></g><g class=\"y-column\" transform=\"translate(778.4615384615386,0)\" clip-path=\"url(#clipb31f14_columnBoundaryClippath_2e8afetrue_2)\"><g class=\"column-block\" id=\"cells1\" transform=\"\" style=\"cursor: default;\"><g class=\"column-cells\"><g class=\"column-cell\" transform=\"translate(0,48.90625)\"><rect class=\"cell-rect\" width=\"141.53846153846155\" stroke-width=\"0.4\" style=\"stroke: rgb(0, 0, 0); stroke-opacity: 1; fill: rgb(38, 70, 83); fill-opacity: 1;\" height=\"30\"/><g class=\"cell-text-holder\" transform=\"translate(70.76923076923077,8)\" text-anchor=\"middle\" style=\"shape-rendering: geometricprecision;\"><text class=\"cell-text\" dy=\"0.75em\" style=\"cursor: auto; font-family: 'Open Sans', verdana, arial, sans-serif; font-size: 12px; fill: rgb(241, 250, 238); fill-opacity: 1;\">free</text></g></g><g class=\"column-cell\" transform=\"translate(0,78.90625)\"><rect class=\"cell-rect\" width=\"141.53846153846155\" stroke-width=\"0.4\" style=\"stroke: rgb(0, 0, 0); stroke-opacity: 1; fill: rgb(38, 70, 83); fill-opacity: 1;\" height=\"30\"/><g class=\"cell-text-holder\" transform=\"translate(70.76923076923077,8)\" text-anchor=\"middle\" style=\"shape-rendering: geometricprecision;\"><text class=\"cell-text\" dy=\"0.75em\" style=\"cursor: auto; font-family: 'Open Sans', verdana, arial, sans-serif; font-size: 12px; fill: rgb(241, 250, 238); fill-opacity: 1;\">paid</text></g></g><g class=\"column-cell\" transform=\"translate(0,108.90625)\"><rect class=\"cell-rect\" width=\"141.53846153846155\" stroke-width=\"0.4\" style=\"stroke: rgb(0, 0, 0); stroke-opacity: 1; fill: rgb(38, 70, 83); fill-opacity: 1;\" height=\"30\"/><g class=\"cell-text-holder\" transform=\"translate(70.76923076923077,8)\" text-anchor=\"middle\" style=\"shape-rendering: geometricprecision;\"><text class=\"cell-text\" dy=\"0.75em\" style=\"cursor: auto; font-family: 'Open Sans', verdana, arial, sans-serif; font-size: 12px; fill: rgb(241, 250, 238); fill-opacity: 1;\">paid</text></g></g><g class=\"column-cell\" transform=\"translate(0,138.90625)\"><rect class=\"cell-rect\" width=\"141.53846153846155\" stroke-width=\"0.4\" style=\"stroke: rgb(0, 0, 0); stroke-opacity: 1; fill: rgb(38, 70, 83); fill-opacity: 1;\" height=\"30\"/><g class=\"cell-text-holder\" transform=\"translate(70.76923076923077,8)\" text-anchor=\"middle\" style=\"shape-rendering: geometricprecision;\"><text class=\"cell-text\" dy=\"0.75em\" style=\"cursor: auto; font-family: 'Open Sans', verdana, arial, sans-serif; font-size: 12px; fill: rgb(241, 250, 238); fill-opacity: 1;\">free</text></g></g><g class=\"column-cell\" transform=\"translate(0,168.90625)\"><rect class=\"cell-rect\" width=\"141.53846153846155\" stroke-width=\"0.4\" style=\"stroke: rgb(0, 0, 0); stroke-opacity: 1; fill: rgb(38, 70, 83); fill-opacity: 1;\" height=\"30\"/><g class=\"cell-text-holder\" transform=\"translate(70.76923076923077,8)\" text-anchor=\"middle\" style=\"shape-rendering: geometricprecision;\"><text class=\"cell-text\" dy=\"0.75em\" style=\"cursor: auto; font-family: 'Open Sans', verdana, arial, sans-serif; font-size: 12px; fill: rgb(241, 250, 238); fill-opacity: 1;\">paid</text></g></g><g class=\"column-cell\" transform=\"translate(0,198.90625)\"><rect class=\"cell-rect\" width=\"141.53846153846155\" stroke-width=\"0.4\" style=\"stroke: rgb(0, 0, 0); stroke-opacity: 1; fill: rgb(38, 70, 83); fill-opacity: 1;\" height=\"30\"/><g class=\"cell-text-holder\" transform=\"translate(70.76923076923077,8)\" text-anchor=\"middle\" style=\"shape-rendering: geometricprecision;\"><text class=\"cell-text\" dy=\"0.75em\" style=\"cursor: auto; font-family: 'Open Sans', verdana, arial, sans-serif; font-size: 12px; fill: rgb(241, 250, 238); fill-opacity: 1;\">paid</text></g></g><g class=\"column-cell\" transform=\"translate(0,228.90625)\"><rect class=\"cell-rect\" width=\"141.53846153846155\" stroke-width=\"0.4\" style=\"stroke: rgb(0, 0, 0); stroke-opacity: 1; fill: rgb(38, 70, 83); fill-opacity: 1;\" height=\"30\"/><g class=\"cell-text-holder\" transform=\"translate(70.76923076923077,8)\" text-anchor=\"middle\" style=\"shape-rendering: geometricprecision;\"><text class=\"cell-text\" dy=\"0.75em\" style=\"cursor: auto; font-family: 'Open Sans', verdana, arial, sans-serif; font-size: 12px; fill: rgb(241, 250, 238); fill-opacity: 1;\">free</text></g></g><g class=\"column-cell\" transform=\"translate(0,258.90625)\"><rect class=\"cell-rect\" width=\"141.53846153846155\" stroke-width=\"0.4\" style=\"stroke: rgb(0, 0, 0); stroke-opacity: 1; fill: rgb(38, 70, 83); fill-opacity: 1;\" height=\"30\"/><g class=\"cell-text-holder\" transform=\"translate(70.76923076923077,8)\" text-anchor=\"middle\" style=\"shape-rendering: geometricprecision;\"><text class=\"cell-text\" dy=\"0.75em\" style=\"cursor: auto; font-family: 'Open Sans', verdana, arial, sans-serif; font-size: 12px; fill: rgb(241, 250, 238); fill-opacity: 1;\">paid</text></g></g><g class=\"column-cell\" transform=\"translate(0,288.90625)\"><rect class=\"cell-rect\" width=\"141.53846153846155\" stroke-width=\"0.4\" style=\"stroke: rgb(0, 0, 0); stroke-opacity: 1; fill: rgb(38, 70, 83); fill-opacity: 1;\" height=\"30\"/><g class=\"cell-text-holder\" transform=\"translate(70.76923076923077,8)\" text-anchor=\"middle\" style=\"shape-rendering: geometricprecision;\"><text class=\"cell-text\" dy=\"0.75em\" style=\"cursor: auto; font-family: 'Open Sans', verdana, arial, sans-serif; font-size: 12px; fill: rgb(241, 250, 238); fill-opacity: 1;\">paid</text></g></g><g class=\"column-cell\" transform=\"translate(0,318.90625)\"><rect class=\"cell-rect\" width=\"141.53846153846155\" stroke-width=\"0.4\" style=\"stroke: rgb(0, 0, 0); stroke-opacity: 1; fill: rgb(38, 70, 83); fill-opacity: 1;\" height=\"30\"/><g class=\"cell-text-holder\" transform=\"translate(70.76923076923077,8)\" text-anchor=\"middle\" style=\"shape-rendering: geometricprecision;\"><text class=\"cell-text\" dy=\"0.75em\" style=\"cursor: auto; font-family: 'Open Sans', verdana, arial, sans-serif; font-size: 12px; fill: rgb(241, 250, 238); fill-opacity: 1;\">paid</text></g></g></g></g><g class=\"column-block\" id=\"cells2\" transform=\"\" style=\"cursor: default;\"><g class=\"column-cells\"/></g><g class=\"column-block\" id=\"header\" style=\"cursor: ew-resize;\"><g class=\"column-cells\"><g class=\"column-cell\" transform=\"\"><rect class=\"cell-rect\" width=\"141.53846153846155\" stroke-width=\"1\" style=\"stroke: rgb(255, 255, 255); stroke-opacity: 1; fill: rgb(255, 209, 102); fill-opacity: 1;\" height=\"48.90625\"/><g class=\"cell-text-holder\" transform=\"translate(29.097355769230774,21)\" style=\"shape-rendering: geometricprecision;\"><text class=\"cell-text\" dy=\"0\" x=\"0\" y=\"0\" style=\"cursor: auto; font-family: 'Open Sans', verdana, arial, sans-serif; font-size: 13px; fill: rgb(42, 63, 95); fill-opacity: 1; white-space: pre;\"><tspan class=\"line\" dy=\"0em\" x=\"0\" y=\"0\">Categoría de</tspan><tspan class=\"line\" dy=\"1.3em\" x=\"0\" y=\"0\">precio</tspan></text></g></g></g></g><g class=\"column-boundary\"/><clipPath class=\"column-boundary-clippath\" id=\"clipb31f14_columnBoundaryClippath_2e8afetrue_2\"><rect class=\"column-boundary-rect\" fill=\"none\" width=\"143.53846153846155\" height=\"367\" x=\"-1\" y=\"-1\"/></clipPath></g><g class=\"scrollbar-kit\" transform=\"translate(929,48.90625)\" style=\"shape-rendering: geometricprecision;\"><g class=\"scrollbar\"><g class=\"scrollbar-slider\" transform=\"\"/></g></g><clipPath class=\"scroll-area-clip\" id=\"clipb31f14_scrollAreaBottomClip_2e8afetrue\"><rect class=\"scroll-area-clip-rect\" x=\"-45\" y=\"-5\" fill=\"none\" width=\"1010\" height=\"365\"/></clipPath></g></g><defs id=\"topdefs-b31f14\"><g class=\"clips\"/></defs><g class=\"layer-above\"><g class=\"imagelayer\"/><g class=\"shapelayer\"/></g><g class=\"infolayer\"><g class=\"g-gtitle\"/></g></svg>"
      ],
      "text/plain": [
       "<IPython.core.display.SVG object>"
      ]
     },
     "metadata": {},
     "output_type": "display_data"
    }
   ],
   "source": [
    "# Corroboramos seleccionando un usuario al azar\n",
    "get_popularity_recommendations('Tore')"
   ]
  },
  {
   "cell_type": "markdown",
   "metadata": {},
   "source": [
    "## Avanzamos para poder crear nuestro modelo Benchmark"
   ]
  },
  {
   "cell_type": "code",
   "execution_count": 78,
   "metadata": {},
   "outputs": [],
   "source": [
    "# Creamos un nuevo atributo con las horas jugadas por el usuario al realizar la review\n",
    "encod_type = data_reviews.groupby('username')['hours'].median()\n",
    "data_reviews.loc[:, 'median_hours'] = data_reviews['username'].map(encod_type)"
   ]
  },
  {
   "cell_type": "code",
   "execution_count": 79,
   "metadata": {},
   "outputs": [
    {
     "data": {
      "text/plain": [
       "Text(0.5, 1.0, 'Distribución de la mediana de cada usuario al realizar las reviews')"
      ]
     },
     "execution_count": 79,
     "metadata": {},
     "output_type": "execute_result"
    },
    {
     "data": {
      "image/png": "[encoded data removed]",
      "text/plain": [
       "<Figure size 432x288 with 1 Axes>"
      ]
     },
     "metadata": {},
     "output_type": "display_data"
    }
   ],
   "source": [
    "sns.boxplot(data = data_reviews, x = 'median_hours')\n",
    "plt.title('Distribución de la mediana de cada usuario al realizar las reviews')"
   ]
  },
  {
   "cell_type": "code",
   "execution_count": 80,
   "metadata": {},
   "outputs": [],
   "source": [
    "data_reviews['implicit_rating'] = np.where(data_reviews['hours']>=data_reviews['median_hours'], 1, 0)\n",
    "data_reviews['implicit_rating'] = data_reviews['implicit_rating'].astype(np.uint8)"
   ]
  },
  {
   "cell_type": "code",
   "execution_count": 81,
   "metadata": {},
   "outputs": [
    {
     "data": {
      "text/html": [
       "<div>\n",
       "<style scoped>\n",
       "    .dataframe tbody tr th:only-of-type {\n",
       "        vertical-align: middle;\n",
       "    }\n",
       "\n",
       "    .dataframe tbody tr th {\n",
       "        vertical-align: top;\n",
       "    }\n",
       "\n",
       "    .dataframe thead th {\n",
       "        text-align: right;\n",
       "    }\n",
       "</style>\n",
       "<table border=\"1\" class=\"dataframe\">\n",
       "  <thead>\n",
       "    <tr style=\"text-align: right;\">\n",
       "      <th></th>\n",
       "      <th>username</th>\n",
       "      <th>hours</th>\n",
       "      <th>product_id</th>\n",
       "      <th>date</th>\n",
       "      <th>text</th>\n",
       "      <th>median_hours</th>\n",
       "      <th>implicit_rating</th>\n",
       "    </tr>\n",
       "  </thead>\n",
       "  <tbody>\n",
       "    <tr>\n",
       "      <th>443589</th>\n",
       "      <td>GenEric</td>\n",
       "      <td>19.7</td>\n",
       "      <td>7670</td>\n",
       "      <td>2010-10-15</td>\n",
       "      <td>In this game, you crash a plane into Ayn Rand'...</td>\n",
       "      <td>9.95</td>\n",
       "      <td>1</td>\n",
       "    </tr>\n",
       "    <tr>\n",
       "      <th>293349</th>\n",
       "      <td>Rogers</td>\n",
       "      <td>0.1</td>\n",
       "      <td>2100</td>\n",
       "      <td>2010-10-15</td>\n",
       "      <td>Dark Messiah is a wonderful action RPG that fe...</td>\n",
       "      <td>4.45</td>\n",
       "      <td>0</td>\n",
       "    </tr>\n",
       "    <tr>\n",
       "      <th>680094</th>\n",
       "      <td>daf</td>\n",
       "      <td>14.3</td>\n",
       "      <td>630</td>\n",
       "      <td>2010-10-15</td>\n",
       "      <td>Free and fun, what more do you want?</td>\n",
       "      <td>0.40</td>\n",
       "      <td>1</td>\n",
       "    </tr>\n",
       "    <tr>\n",
       "      <th>121872</th>\n",
       "      <td>GenEric</td>\n",
       "      <td>0.2</td>\n",
       "      <td>340</td>\n",
       "      <td>2010-10-15</td>\n",
       "      <td>I'm stuck on the broken boat puzzle someone he...</td>\n",
       "      <td>9.95</td>\n",
       "      <td>0</td>\n",
       "    </tr>\n",
       "    <tr>\n",
       "      <th>574413</th>\n",
       "      <td>Sloth Bro</td>\n",
       "      <td>25.8</td>\n",
       "      <td>17300</td>\n",
       "      <td>2010-10-15</td>\n",
       "      <td>And you thought consoles have good graphics? W...</td>\n",
       "      <td>49.45</td>\n",
       "      <td>0</td>\n",
       "    </tr>\n",
       "  </tbody>\n",
       "</table>\n",
       "</div>"
      ],
      "text/plain": [
       "         username  hours product_id        date  \\\n",
       "443589    GenEric   19.7       7670  2010-10-15   \n",
       "293349     Rogers    0.1       2100  2010-10-15   \n",
       "680094        daf   14.3        630  2010-10-15   \n",
       "121872    GenEric    0.2        340  2010-10-15   \n",
       "574413  Sloth Bro   25.8      17300  2010-10-15   \n",
       "\n",
       "                                                     text  median_hours  \\\n",
       "443589  In this game, you crash a plane into Ayn Rand'...          9.95   \n",
       "293349  Dark Messiah is a wonderful action RPG that fe...          4.45   \n",
       "680094               Free and fun, what more do you want?          0.40   \n",
       "121872  I'm stuck on the broken boat puzzle someone he...          9.95   \n",
       "574413  And you thought consoles have good graphics? W...         49.45   \n",
       "\n",
       "        implicit_rating  \n",
       "443589                1  \n",
       "293349                0  \n",
       "680094                1  \n",
       "121872                0  \n",
       "574413                0  "
      ]
     },
     "execution_count": 81,
     "metadata": {},
     "output_type": "execute_result"
    }
   ],
   "source": [
    "data_reviews.tail(5)"
   ]
  },
  {
   "cell_type": "code",
   "execution_count": 82,
   "metadata": {},
   "outputs": [],
   "source": [
    "# Aquí nos quedamos solamente con las columnas que nos serán de utilidad\n",
    "\n",
    "data_reviews= data_reviews[['username', 'product_id', 'implicit_rating',]]\n",
    "\n",
    "# Reseteamos el índice\n",
    "\n",
    "data_reviews = data_reviews.reset_index(drop=True)"
   ]
  },
  {
   "cell_type": "code",
   "execution_count": 83,
   "metadata": {},
   "outputs": [
    {
     "data": {
      "text/html": [
       "<div>\n",
       "<style scoped>\n",
       "    .dataframe tbody tr th:only-of-type {\n",
       "        vertical-align: middle;\n",
       "    }\n",
       "\n",
       "    .dataframe tbody tr th {\n",
       "        vertical-align: top;\n",
       "    }\n",
       "\n",
       "    .dataframe thead th {\n",
       "        text-align: right;\n",
       "    }\n",
       "</style>\n",
       "<table border=\"1\" class=\"dataframe\">\n",
       "  <thead>\n",
       "    <tr style=\"text-align: right;\">\n",
       "      <th></th>\n",
       "      <th>username</th>\n",
       "      <th>product_id</th>\n",
       "      <th>implicit_rating</th>\n",
       "    </tr>\n",
       "  </thead>\n",
       "  <tbody>\n",
       "    <tr>\n",
       "      <th>0</th>\n",
       "      <td>PromiseVehicle</td>\n",
       "      <td>225840</td>\n",
       "      <td>1</td>\n",
       "    </tr>\n",
       "    <tr>\n",
       "      <th>1</th>\n",
       "      <td>eye contact</td>\n",
       "      <td>550</td>\n",
       "      <td>1</td>\n",
       "    </tr>\n",
       "    <tr>\n",
       "      <th>2</th>\n",
       "      <td>LancerW</td>\n",
       "      <td>644930</td>\n",
       "      <td>1</td>\n",
       "    </tr>\n",
       "  </tbody>\n",
       "</table>\n",
       "</div>"
      ],
      "text/plain": [
       "         username product_id  implicit_rating\n",
       "0  PromiseVehicle     225840                1\n",
       "1     eye contact        550                1\n",
       "2         LancerW     644930                1"
      ]
     },
     "execution_count": 83,
     "metadata": {},
     "output_type": "execute_result"
    }
   ],
   "source": [
    "data_reviews.head(3)"
   ]
  },
  {
   "cell_type": "code",
   "execution_count": 84,
   "metadata": {},
   "outputs": [
    {
     "data": {
      "text/plain": [
       "username           object\n",
       "product_id         uint32\n",
       "implicit_rating     uint8\n",
       "dtype: object"
      ]
     },
     "execution_count": 84,
     "metadata": {},
     "output_type": "execute_result"
    }
   ],
   "source": [
    "data_reviews['product_id'] = data_reviews['product_id'].astype(np.uint32)\n",
    "data_reviews.dtypes"
   ]
  },
  {
   "cell_type": "code",
   "execution_count": 88,
   "metadata": {},
   "outputs": [],
   "source": [
    "data_games.rename(columns={'id':'product_id'},inplace=True)\n",
    "data_games['product_id'] = data_games['product_id'].astype(np.int32)\n",
    "data_games.set_index('product_id',inplace=True)\n",
    "data_games = data_games[['app_name']]"
   ]
  },
  {
   "cell_type": "markdown",
   "metadata": {},
   "source": [
    "### Ahora sí, creamos nuestro modelo Benchmark de descomposición en valores singulares (SVD) con valores por defecto"
   ]
  },
  {
   "cell_type": "code",
   "execution_count": 101,
   "metadata": {},
   "outputs": [],
   "source": [
    "from surprise import Dataset\n",
    "from surprise import Reader\n",
    "from surprise.model_selection import train_test_split"
   ]
  },
  {
   "cell_type": "code",
   "execution_count": 102,
   "metadata": {},
   "outputs": [],
   "source": [
    "reader = Reader(rating_scale = (0,1))"
   ]
  },
  {
   "cell_type": "code",
   "execution_count": 103,
   "metadata": {},
   "outputs": [],
   "source": [
    "data=Dataset.load_from_df(data_reviews[['username','product_id','implicit_rating']], reader)"
   ]
  },
  {
   "cell_type": "code",
   "execution_count": 104,
   "metadata": {},
   "outputs": [],
   "source": [
    "trainset, testset = train_test_split(data, test_size=.25)"
   ]
  },
  {
   "cell_type": "code",
   "execution_count": 167,
   "metadata": {},
   "outputs": [],
   "source": [
    "#Para la medida de similitud utilizaremos la que se encuentra por defecto: ella es la similitud coseno.\n",
    "\n",
    "from surprise import SVD\n",
    "\n",
    "\n",
    "benchmark = SVD(random_state= 42)"
   ]
  },
  {
   "cell_type": "code",
   "execution_count": 168,
   "metadata": {},
   "outputs": [],
   "source": [
    "# Entrenamos y predecimos\n",
    "\n",
    "benchmark.fit(trainset)\n",
    "predictions = benchmark.test(testset)"
   ]
  },
  {
   "cell_type": "code",
   "execution_count": 169,
   "metadata": {},
   "outputs": [
    {
     "data": {
      "text/plain": [
       "Prediction(uid='Spearow', iid=236150, r_ui=1.0, est=0.8035825628326266, details={'was_impossible': False})"
      ]
     },
     "execution_count": 169,
     "metadata": {},
     "output_type": "execute_result"
    }
   ],
   "source": [
    "predictions[2]"
   ]
  },
  {
   "cell_type": "code",
   "execution_count": 170,
   "metadata": {},
   "outputs": [
    {
     "data": {
      "text/plain": [
       "Prediction(uid='GenEric', iid=225, r_ui=None, est=0.767871456190234, details={'was_impossible': False})"
      ]
     },
     "execution_count": 170,
     "metadata": {},
     "output_type": "execute_result"
    }
   ],
   "source": [
    "# Aquí realizamos una estimación para un usuario y un juego en particular\n",
    "\n",
    "benchmark.predict('GenEric', 225)"
   ]
  },
  {
   "cell_type": "code",
   "execution_count": 171,
   "metadata": {},
   "outputs": [
    {
     "data": {
      "text/html": [
       "<div>\n",
       "<style scoped>\n",
       "    .dataframe tbody tr th:only-of-type {\n",
       "        vertical-align: middle;\n",
       "    }\n",
       "\n",
       "    .dataframe tbody tr th {\n",
       "        vertical-align: top;\n",
       "    }\n",
       "\n",
       "    .dataframe thead th {\n",
       "        text-align: right;\n",
       "    }\n",
       "</style>\n",
       "<table border=\"1\" class=\"dataframe\">\n",
       "  <thead>\n",
       "    <tr style=\"text-align: right;\">\n",
       "      <th></th>\n",
       "      <th>username</th>\n",
       "      <th>product_id</th>\n",
       "      <th>implicit_rating</th>\n",
       "      <th>app_name</th>\n",
       "    </tr>\n",
       "  </thead>\n",
       "  <tbody>\n",
       "    <tr>\n",
       "      <th>0</th>\n",
       "      <td>GenEric</td>\n",
       "      <td>7670</td>\n",
       "      <td>1</td>\n",
       "      <td>BioShock™</td>\n",
       "    </tr>\n",
       "  </tbody>\n",
       "</table>\n",
       "</div>"
      ],
      "text/plain": [
       "  username  product_id  implicit_rating   app_name\n",
       "0  GenEric        7670                1  BioShock™"
      ]
     },
     "execution_count": 171,
     "metadata": {},
     "output_type": "execute_result"
    }
   ],
   "source": [
    "# Buscamos aquellos videojuegos que le gustaron al usuario\n",
    "\n",
    "usuario = 'GenEric'\n",
    "rating = 1  \n",
    "\n",
    "df_user = data_reviews[(data_reviews['username'] == usuario) & (data_reviews['implicit_rating'] == rating)]\n",
    "df_user = df_user.reset_index(drop=True)\n",
    "df_user['app_name'] = data_games['app_name'].loc[df_user.product_id].values\n",
    "\n",
    "df_user"
   ]
  },
  {
   "cell_type": "code",
   "execution_count": 172,
   "metadata": {},
   "outputs": [
    {
     "data": {
      "text/html": [
       "<div>\n",
       "<style scoped>\n",
       "    .dataframe tbody tr th:only-of-type {\n",
       "        vertical-align: middle;\n",
       "    }\n",
       "\n",
       "    .dataframe tbody tr th {\n",
       "        vertical-align: top;\n",
       "    }\n",
       "\n",
       "    .dataframe thead th {\n",
       "        text-align: right;\n",
       "    }\n",
       "</style>\n",
       "<table border=\"1\" class=\"dataframe\">\n",
       "  <thead>\n",
       "    <tr style=\"text-align: right;\">\n",
       "      <th></th>\n",
       "      <th>username</th>\n",
       "      <th>product_id</th>\n",
       "      <th>implicit_rating</th>\n",
       "      <th>app_name</th>\n",
       "    </tr>\n",
       "  </thead>\n",
       "  <tbody>\n",
       "    <tr>\n",
       "      <th>0</th>\n",
       "      <td>GenEric</td>\n",
       "      <td>340</td>\n",
       "      <td>0</td>\n",
       "      <td>Half-Life 2: Lost Coast</td>\n",
       "    </tr>\n",
       "  </tbody>\n",
       "</table>\n",
       "</div>"
      ],
      "text/plain": [
       "  username  product_id  implicit_rating                 app_name\n",
       "0  GenEric         340                0  Half-Life 2: Lost Coast"
      ]
     },
     "execution_count": 172,
     "metadata": {},
     "output_type": "execute_result"
    }
   ],
   "source": [
    "# Hacemos lo mismo, pero para aquellos videojuegos que no le gustaron\n",
    "\n",
    "rating = 0\n",
    "\n",
    "df_user = data_reviews[(data_reviews['username'] == usuario) & (data_reviews['implicit_rating'] == rating)]\n",
    "df_user = df_user.reset_index(drop=True)\n",
    "df_user['app_name'] = data_games['app_name'].loc[df_user.product_id].values\n",
    "df_user"
   ]
  },
  {
   "cell_type": "code",
   "execution_count": 173,
   "metadata": {},
   "outputs": [
    {
     "name": "stdout",
     "output_type": "stream",
     "text": [
      "(2, 3)\n"
     ]
    },
    {
     "data": {
      "text/html": [
       "<div>\n",
       "<style scoped>\n",
       "    .dataframe tbody tr th:only-of-type {\n",
       "        vertical-align: middle;\n",
       "    }\n",
       "\n",
       "    .dataframe tbody tr th {\n",
       "        vertical-align: top;\n",
       "    }\n",
       "\n",
       "    .dataframe thead th {\n",
       "        text-align: right;\n",
       "    }\n",
       "</style>\n",
       "<table border=\"1\" class=\"dataframe\">\n",
       "  <thead>\n",
       "    <tr style=\"text-align: right;\">\n",
       "      <th></th>\n",
       "      <th>username</th>\n",
       "      <th>product_id</th>\n",
       "      <th>implicit_rating</th>\n",
       "    </tr>\n",
       "  </thead>\n",
       "  <tbody>\n",
       "    <tr>\n",
       "      <th>654144</th>\n",
       "      <td>GenEric</td>\n",
       "      <td>7670</td>\n",
       "      <td>1</td>\n",
       "    </tr>\n",
       "    <tr>\n",
       "      <th>654147</th>\n",
       "      <td>GenEric</td>\n",
       "      <td>340</td>\n",
       "      <td>0</td>\n",
       "    </tr>\n",
       "  </tbody>\n",
       "</table>\n",
       "</div>"
      ],
      "text/plain": [
       "       username  product_id  implicit_rating\n",
       "654144  GenEric        7670                1\n",
       "654147  GenEric         340                0"
      ]
     },
     "execution_count": 173,
     "metadata": {},
     "output_type": "execute_result"
    }
   ],
   "source": [
    "# Verifimaos qué juegos jugó\n",
    "\n",
    "usuario_jugados = data_reviews[data_reviews['username'] == usuario]\n",
    "print(usuario_jugados.shape)\n",
    "usuario_jugados"
   ]
  },
  {
   "cell_type": "code",
   "execution_count": 174,
   "metadata": {},
   "outputs": [
    {
     "data": {
      "text/html": [
       "<div>\n",
       "<style scoped>\n",
       "    .dataframe tbody tr th:only-of-type {\n",
       "        vertical-align: middle;\n",
       "    }\n",
       "\n",
       "    .dataframe tbody tr th {\n",
       "        vertical-align: top;\n",
       "    }\n",
       "\n",
       "    .dataframe thead th {\n",
       "        text-align: right;\n",
       "    }\n",
       "</style>\n",
       "<table border=\"1\" class=\"dataframe\">\n",
       "  <thead>\n",
       "    <tr style=\"text-align: right;\">\n",
       "      <th></th>\n",
       "      <th>product_id</th>\n",
       "      <th>app_name</th>\n",
       "    </tr>\n",
       "  </thead>\n",
       "  <tbody>\n",
       "    <tr>\n",
       "      <th>0</th>\n",
       "      <td>761140</td>\n",
       "      <td>Lost Summoner Kitty</td>\n",
       "    </tr>\n",
       "    <tr>\n",
       "      <th>1</th>\n",
       "      <td>643980</td>\n",
       "      <td>Ironbound</td>\n",
       "    </tr>\n",
       "    <tr>\n",
       "      <th>2</th>\n",
       "      <td>670290</td>\n",
       "      <td>Real Pool 3D - Poolians</td>\n",
       "    </tr>\n",
       "    <tr>\n",
       "      <th>3</th>\n",
       "      <td>767400</td>\n",
       "      <td>弹炸人2222</td>\n",
       "    </tr>\n",
       "    <tr>\n",
       "      <th>4</th>\n",
       "      <td>773570</td>\n",
       "      <td>Log Challenge</td>\n",
       "    </tr>\n",
       "    <tr>\n",
       "      <th>...</th>\n",
       "      <td>...</td>\n",
       "      <td>...</td>\n",
       "    </tr>\n",
       "    <tr>\n",
       "      <th>17979</th>\n",
       "      <td>773640</td>\n",
       "      <td>Colony On Mars</td>\n",
       "    </tr>\n",
       "    <tr>\n",
       "      <th>17980</th>\n",
       "      <td>733530</td>\n",
       "      <td>LOGistICAL: South Africa</td>\n",
       "    </tr>\n",
       "    <tr>\n",
       "      <th>17981</th>\n",
       "      <td>610660</td>\n",
       "      <td>Russian Roads</td>\n",
       "    </tr>\n",
       "    <tr>\n",
       "      <th>17982</th>\n",
       "      <td>658870</td>\n",
       "      <td>EXIT 2 - Directions</td>\n",
       "    </tr>\n",
       "    <tr>\n",
       "      <th>17983</th>\n",
       "      <td>681550</td>\n",
       "      <td>Maze Run VR</td>\n",
       "    </tr>\n",
       "  </tbody>\n",
       "</table>\n",
       "<p>17984 rows × 2 columns</p>\n",
       "</div>"
      ],
      "text/plain": [
       "       product_id                  app_name\n",
       "0          761140       Lost Summoner Kitty\n",
       "1          643980                 Ironbound\n",
       "2          670290   Real Pool 3D - Poolians\n",
       "3          767400                   弹炸人2222\n",
       "4          773570             Log Challenge\n",
       "...           ...                       ...\n",
       "17979      773640            Colony On Mars\n",
       "17980      733530  LOGistICAL: South Africa\n",
       "17981      610660             Russian Roads\n",
       "17982      658870       EXIT 2 - Directions\n",
       "17983      681550               Maze Run VR\n",
       "\n",
       "[17984 rows x 2 columns]"
      ]
     },
     "execution_count": 174,
     "metadata": {},
     "output_type": "execute_result"
    }
   ],
   "source": [
    "# Guardamos las recomendaciones\n",
    "\n",
    "recomendaciones_usuario= data_games.copy()\n",
    "\n",
    "# Suprimimos los juegos que ya jugó\n",
    "\n",
    "recomendaciones_usuario.drop(usuario_jugados.product_id,inplace = True)\n",
    "recomendaciones_usuario = recomendaciones_usuario.reset_index()\n",
    "recomendaciones_usuario.shape\n",
    "recomendaciones_usuario"
   ]
  },
  {
   "cell_type": "code",
   "execution_count": 175,
   "metadata": {},
   "outputs": [
    {
     "data": {
      "text/html": [
       "<div>\n",
       "<style scoped>\n",
       "    .dataframe tbody tr th:only-of-type {\n",
       "        vertical-align: middle;\n",
       "    }\n",
       "\n",
       "    .dataframe tbody tr th {\n",
       "        vertical-align: top;\n",
       "    }\n",
       "\n",
       "    .dataframe thead th {\n",
       "        text-align: right;\n",
       "    }\n",
       "</style>\n",
       "<table border=\"1\" class=\"dataframe\">\n",
       "  <thead>\n",
       "    <tr style=\"text-align: right;\">\n",
       "      <th></th>\n",
       "      <th>product_id</th>\n",
       "      <th>app_name</th>\n",
       "      <th>Estimate_Score</th>\n",
       "    </tr>\n",
       "  </thead>\n",
       "  <tbody>\n",
       "    <tr>\n",
       "      <th>525</th>\n",
       "      <td>80200</td>\n",
       "      <td>Fate of the World</td>\n",
       "      <td>1.000000</td>\n",
       "    </tr>\n",
       "    <tr>\n",
       "      <th>13682</th>\n",
       "      <td>378930</td>\n",
       "      <td>Pesadelo - Regressão</td>\n",
       "      <td>1.000000</td>\n",
       "    </tr>\n",
       "    <tr>\n",
       "      <th>2501</th>\n",
       "      <td>321960</td>\n",
       "      <td>Might &amp; Magic® Heroes® VII</td>\n",
       "      <td>1.000000</td>\n",
       "    </tr>\n",
       "    <tr>\n",
       "      <th>10427</th>\n",
       "      <td>545890</td>\n",
       "      <td>Breaking Wheel</td>\n",
       "      <td>1.000000</td>\n",
       "    </tr>\n",
       "    <tr>\n",
       "      <th>3414</th>\n",
       "      <td>477290</td>\n",
       "      <td>Magma Tsunami</td>\n",
       "      <td>1.000000</td>\n",
       "    </tr>\n",
       "    <tr>\n",
       "      <th>...</th>\n",
       "      <td>...</td>\n",
       "      <td>...</td>\n",
       "      <td>...</td>\n",
       "    </tr>\n",
       "    <tr>\n",
       "      <th>8985</th>\n",
       "      <td>613450</td>\n",
       "      <td>Please Knock on My Door</td>\n",
       "      <td>0.195388</td>\n",
       "    </tr>\n",
       "    <tr>\n",
       "      <th>2030</th>\n",
       "      <td>363410</td>\n",
       "      <td>Always The Same Blue Sky...</td>\n",
       "      <td>0.194540</td>\n",
       "    </tr>\n",
       "    <tr>\n",
       "      <th>876</th>\n",
       "      <td>248490</td>\n",
       "      <td>1953 - KGB Unleashed</td>\n",
       "      <td>0.171074</td>\n",
       "    </tr>\n",
       "    <tr>\n",
       "      <th>1519</th>\n",
       "      <td>329830</td>\n",
       "      <td>The Moon Sliver</td>\n",
       "      <td>0.155498</td>\n",
       "    </tr>\n",
       "    <tr>\n",
       "      <th>15072</th>\n",
       "      <td>355970</td>\n",
       "      <td>Home is Where One Starts...</td>\n",
       "      <td>0.061971</td>\n",
       "    </tr>\n",
       "  </tbody>\n",
       "</table>\n",
       "<p>17984 rows × 3 columns</p>\n",
       "</div>"
      ],
      "text/plain": [
       "       product_id                     app_name  Estimate_Score\n",
       "525         80200            Fate of the World        1.000000\n",
       "13682      378930         Pesadelo - Regressão        1.000000\n",
       "2501       321960   Might & Magic® Heroes® VII        1.000000\n",
       "10427      545890               Breaking Wheel        1.000000\n",
       "3414       477290                Magma Tsunami        1.000000\n",
       "...           ...                          ...             ...\n",
       "8985       613450      Please Knock on My Door        0.195388\n",
       "2030       363410  Always The Same Blue Sky...        0.194540\n",
       "876        248490         1953 - KGB Unleashed        0.171074\n",
       "1519       329830              The Moon Sliver        0.155498\n",
       "15072      355970  Home is Where One Starts...        0.061971\n",
       "\n",
       "[17984 rows x 3 columns]"
      ]
     },
     "execution_count": 175,
     "metadata": {},
     "output_type": "execute_result"
    }
   ],
   "source": [
    "# En esta instancia, realizamos las recomendaciones\n",
    "\n",
    "recomendaciones_usuario['Estimate_Score'] = recomendaciones_usuario['product_id'].apply(lambda x: benchmark.predict(usuario, x).est)\n",
    "recomendaciones_usuario = recomendaciones_usuario.sort_values('Estimate_Score', ascending=False)\n",
    "recomendaciones_usuario"
   ]
  },
  {
   "cell_type": "markdown",
   "metadata": {},
   "source": [
    "### Evaluación"
   ]
  },
  {
   "cell_type": "markdown",
   "metadata": {},
   "source": [
    "Para evaluar nuestro modelo, utilizaremos como métrica de evaluación la raíz del error cuadrático medio (RMSE). La elección de esta medición radica en que, al elevar los errores al cuadrado antes de promediarlos, se le otorga un peso relativamente alto a los errores grandes. Y como en este caso lo que queremos es realizar recomendaciones, los errores grandes serían indeseables.\n",
    "\n",
    "Asimismo, una métrica como el MAE que basa su esencia en los valores absolutos tienen el peligro de que hacen el error cada vez más grande a medida que se presentan más muestras. Y aquí contamos con un dataset con muchas instancias.\n",
    "Por último, también se descarta el MSE ya que al elevar el error al cuadrado no tiene la misma magnitud ni unidades que la viariable a predecir. Es por esto que empleamos el RMSE que le aplica la raíz a la fórmula."
   ]
  },
  {
   "cell_type": "code",
   "execution_count": 178,
   "metadata": {},
   "outputs": [
    {
     "name": "stdout",
     "output_type": "stream",
     "text": [
      "RMSE: 0.3892\n"
     ]
    },
    {
     "data": {
      "text/plain": [
       "0.38922780335538804"
      ]
     },
     "execution_count": 178,
     "metadata": {},
     "output_type": "execute_result"
    }
   ],
   "source": [
    "from surprise import accuracy\n",
    "error_1 = accuracy.rmse(predictions)\n",
    "error_1"
   ]
  },
  {
   "cell_type": "markdown",
   "metadata": {},
   "source": [
    "### Optimización de hiperparámetros"
   ]
  },
  {
   "cell_type": "markdown",
   "metadata": {},
   "source": [
    "***Ahora empezamos a construir modelos más avanzados, modificando hiperparámetros y evaluando***"
   ]
  },
  {
   "cell_type": "code",
   "execution_count": 179,
   "metadata": {},
   "outputs": [
    {
     "name": "stdout",
     "output_type": "stream",
     "text": [
      "\n",
      "Número de Factores: 1\n",
      "Evaluating RMSE of algorithm SVD on 3 split(s).\n",
      "\n",
      "                  Fold 1  Fold 2  Fold 3  Mean    Std     \n",
      "RMSE (testset)    0.3866  0.3878  0.3878  0.3874  0.0006  \n",
      "Fit time          6.22    6.03    6.16    6.13    0.08    \n",
      "Test time         1.64    1.08    1.58    1.43    0.25    \n",
      "\n",
      "Número de Factores: 2\n",
      "Evaluating RMSE of algorithm SVD on 3 split(s).\n",
      "\n",
      "                  Fold 1  Fold 2  Fold 3  Mean    Std     \n",
      "RMSE (testset)    0.3881  0.3872  0.3867  0.3873  0.0006  \n",
      "Fit time          6.39    6.18    6.28    6.28    0.08    \n",
      "Test time         1.13    1.07    1.58    1.26    0.23    \n",
      "\n",
      "Número de Factores: 4\n",
      "Evaluating RMSE of algorithm SVD on 3 split(s).\n",
      "\n",
      "                  Fold 1  Fold 2  Fold 3  Mean    Std     \n",
      "RMSE (testset)    0.3880  0.3865  0.3877  0.3874  0.0007  \n",
      "Fit time          6.69    6.52    6.55    6.58    0.07    \n",
      "Test time         1.09    1.53    1.60    1.41    0.23    \n",
      "\n",
      "Número de Factores: 8\n",
      "Evaluating RMSE of algorithm SVD on 3 split(s).\n",
      "\n",
      "                  Fold 1  Fold 2  Fold 3  Mean    Std     \n",
      "RMSE (testset)    0.3877  0.3869  0.3880  0.3876  0.0004  \n",
      "Fit time          7.48    7.24    7.20    7.31    0.12    \n",
      "Test time         1.11    1.08    1.59    1.26    0.24    \n",
      "\n",
      "Número de Factores: 10\n",
      "Evaluating RMSE of algorithm SVD on 3 split(s).\n",
      "\n",
      "                  Fold 1  Fold 2  Fold 3  Mean    Std     \n",
      "RMSE (testset)    0.3873  0.3886  0.3867  0.3875  0.0008  \n",
      "Fit time          8.07    7.56    7.68    7.77    0.22    \n",
      "Test time         1.18    1.56    1.63    1.46    0.20    \n",
      "\n",
      "Número de Factores: 12\n",
      "Evaluating RMSE of algorithm SVD on 3 split(s).\n",
      "\n",
      "                  Fold 1  Fold 2  Fold 3  Mean    Std     \n",
      "RMSE (testset)    0.3879  0.3869  0.3879  0.3876  0.0005  \n",
      "Fit time          8.28    8.12    8.04    8.15    0.10    \n",
      "Test time         1.77    1.66    1.09    1.51    0.30    \n",
      "\n",
      "Número de Factores: 15\n",
      "Evaluating RMSE of algorithm SVD on 3 split(s).\n",
      "\n",
      "                  Fold 1  Fold 2  Fold 3  Mean    Std     \n",
      "RMSE (testset)    0.3883  0.3882  0.3871  0.3878  0.0005  \n",
      "Fit time          8.27    8.32    8.26    8.28    0.03    \n",
      "Test time         1.65    1.57    1.58    1.60    0.04    \n",
      "\n",
      "Número de Factores: 20\n",
      "Evaluating RMSE of algorithm SVD on 3 split(s).\n",
      "\n",
      "                  Fold 1  Fold 2  Fold 3  Mean    Std     \n",
      "RMSE (testset)    0.3881  0.3877  0.3872  0.3877  0.0003  \n",
      "Fit time          9.17    8.80    8.96    8.98    0.15    \n",
      "Test time         1.65    1.08    1.59    1.44    0.26    \n"
     ]
    }
   ],
   "source": [
    "from surprise.model_selection import cross_validate\n",
    "\n",
    "#Primero realizamos una búsqueda manual con valores arbitrarios a ver qué sucede con el RMSE\n",
    "rmse_test_means = []\n",
    "factores = [1,2,4,8,10,12,15,20]\n",
    "\n",
    "for factor in factores:\n",
    "    print(f'\\nNúmero de Factores: {factor}')\n",
    "    algo = SVD(n_factors=factor)\n",
    "    cv = cross_validate(algo, data, measures=['RMSE'], cv = 3, verbose=True)\n",
    "    rmse_test_means.append(np.mean(cv['test_rmse']))"
   ]
  },
  {
   "cell_type": "code",
   "execution_count": 180,
   "metadata": {},
   "outputs": [
    {
     "data": {
      "image/png": "[encoded data removed]",
      "text/plain": [
       "<Figure size 432x288 with 1 Axes>"
      ]
     },
     "metadata": {},
     "output_type": "display_data"
    }
   ],
   "source": [
    "# Graficamos\n",
    "\n",
    "plt.scatter(factores, rmse_test_means)\n",
    "plt.xlabel('Numero de factores')\n",
    "plt.ylabel('Error RMSE')\n",
    "plt.show()"
   ]
  },
  {
   "cell_type": "code",
   "execution_count": 181,
   "metadata": {},
   "outputs": [],
   "source": [
    "from surprise.model_selection import GridSearchCV\n",
    "\n",
    "param_grid = {'n_factors': [2],'n_epochs': [10,20,30], 'lr_all': [0.002, 0.005, 0.008],\n",
    "              'reg_all': [0.01, 0.02,0.03], 'random_state' : [42]}\n",
    "gs = GridSearchCV(SVD, param_grid, measures=['rmse'],cv=2, n_jobs = -1)\n",
    "gs.fit(data)"
   ]
  },
  {
   "cell_type": "code",
   "execution_count": 182,
   "metadata": {},
   "outputs": [
    {
     "name": "stdout",
     "output_type": "stream",
     "text": [
      "0.3850999893162239\n",
      "{'n_factors': 2, 'n_epochs': 30, 'lr_all': 0.002, 'reg_all': 0.03, 'random_state': 42}\n"
     ]
    }
   ],
   "source": [
    "print(gs.best_score['rmse'])\n",
    "print(gs.best_params['rmse'])"
   ]
  },
  {
   "cell_type": "code",
   "execution_count": 183,
   "metadata": {},
   "outputs": [],
   "source": [
    "error_2 = gs.best_score['rmse']"
   ]
  },
  {
   "cell_type": "markdown",
   "metadata": {},
   "source": [
    "### Ahora empleramos otra técnica de reducción de dimensionalidad que consiste en una extensión de la que veníamos utilizando, conocida como SVD ++"
   ]
  },
  {
   "cell_type": "code",
   "execution_count": 184,
   "metadata": {},
   "outputs": [],
   "source": [
    "from surprise import SVDpp\n",
    "algo2 = SVDpp(random_state = 42)"
   ]
  },
  {
   "cell_type": "code",
   "execution_count": 185,
   "metadata": {},
   "outputs": [
    {
     "data": {
      "text/plain": [
       "<surprise.prediction_algorithms.matrix_factorization.SVDpp at 0x1e4d4b991f0>"
      ]
     },
     "execution_count": 185,
     "metadata": {},
     "output_type": "execute_result"
    }
   ],
   "source": [
    "algo2.fit(trainset)"
   ]
  },
  {
   "cell_type": "code",
   "execution_count": 186,
   "metadata": {},
   "outputs": [],
   "source": [
    "predictions = algo2.test(testset)"
   ]
  },
  {
   "cell_type": "code",
   "execution_count": 187,
   "metadata": {},
   "outputs": [
    {
     "name": "stdout",
     "output_type": "stream",
     "text": [
      "RMSE: 0.3937\n"
     ]
    },
    {
     "data": {
      "text/plain": [
       "0.39372295552599834"
      ]
     },
     "execution_count": 187,
     "metadata": {},
     "output_type": "execute_result"
    }
   ],
   "source": [
    "from surprise import accuracy\n",
    "accuracy.rmse(predictions)"
   ]
  },
  {
   "cell_type": "code",
   "execution_count": 188,
   "metadata": {},
   "outputs": [
    {
     "name": "stdout",
     "output_type": "stream",
     "text": [
      "\n",
      "Número de Factores: 1\n",
      "Evaluating RMSE of algorithm SVDpp on 3 split(s).\n",
      "\n",
      "                  Fold 1  Fold 2  Fold 3  Mean    Std     \n",
      "RMSE (testset)    0.3892  0.3893  0.3898  0.3894  0.0003  \n",
      "Fit time          30.98   31.25   31.05   31.09   0.11    \n",
      "Test time         1.93    1.88    2.52    2.11    0.29    \n",
      "\n",
      "Número de Factores: 2\n",
      "Evaluating RMSE of algorithm SVDpp on 3 split(s).\n",
      "\n",
      "                  Fold 1  Fold 2  Fold 3  Mean    Std     \n",
      "RMSE (testset)    0.3894  0.3893  0.3896  0.3895  0.0001  \n",
      "Fit time          31.84   31.94   31.74   31.84   0.08    \n",
      "Test time         1.96    1.90    2.47    2.11    0.26    \n",
      "\n",
      "Número de Factores: 4\n",
      "Evaluating RMSE of algorithm SVDpp on 3 split(s).\n",
      "\n",
      "                  Fold 1  Fold 2  Fold 3  Mean    Std     \n",
      "RMSE (testset)    0.3906  0.3896  0.3888  0.3897  0.0007  \n",
      "Fit time          33.06   32.77   32.43   32.75   0.26    \n",
      "Test time         1.95    2.50    2.48    2.31    0.25    \n",
      "\n",
      "Número de Factores: 5\n",
      "Evaluating RMSE of algorithm SVDpp on 3 split(s).\n",
      "\n",
      "                  Fold 1  Fold 2  Fold 3  Mean    Std     \n",
      "RMSE (testset)    0.3907  0.3897  0.3888  0.3897  0.0008  \n",
      "Fit time          33.33   33.21   33.16   33.23   0.07    \n",
      "Test time         1.92    2.48    1.89    2.10    0.27    \n",
      "\n",
      "Número de Factores: 10\n",
      "Evaluating RMSE of algorithm SVDpp on 3 split(s).\n",
      "\n",
      "                  Fold 1  Fold 2  Fold 3  Mean    Std     \n",
      "RMSE (testset)    0.3903  0.3920  0.3899  0.3907  0.0009  \n",
      "Fit time          36.03   44.03   41.53   40.53   3.34    \n",
      "Test time         1.92    3.41    1.91    2.41    0.70    \n"
     ]
    }
   ],
   "source": [
    "from surprise.model_selection import cross_validate\n",
    "\n",
    "rmse_test_means = []\n",
    "factores = [1,2,4,5,10]\n",
    "\n",
    "for factor in factores:\n",
    "    print(f'\\nNúmero de Factores: {factor}')\n",
    "    algo2 = SVDpp(n_factors=factor)\n",
    "    cv = cross_validate(algo2, data, measures=['RMSE'], cv = 3, verbose=True)\n",
    "    rmse_test_means.append(np.mean(cv['test_rmse']))"
   ]
  },
  {
   "cell_type": "code",
   "execution_count": 189,
   "metadata": {},
   "outputs": [
    {
     "data": {
      "image/png": "[encoded data removed]",
      "text/plain": [
       "<Figure size 432x288 with 1 Axes>"
      ]
     },
     "metadata": {},
     "output_type": "display_data"
    }
   ],
   "source": [
    "plt.scatter(factores, rmse_test_means)\n",
    "plt.xlabel('Numero de factores')\n",
    "plt.ylabel('Error RMSE')\n",
    "plt.show()"
   ]
  },
  {
   "cell_type": "code",
   "execution_count": 190,
   "metadata": {},
   "outputs": [],
   "source": [
    "from surprise.model_selection import GridSearchCV\n",
    "\n",
    "param_grid = {'n_factors': [1],'n_epochs': [10,20,30], 'lr_all': [0.002, 0.005, 0.01],\n",
    "              'reg_all': [0.01, 0.02,0.03 ]}\n",
    "\n",
    "gs2 = GridSearchCV(SVDpp, param_grid, measures=['rmse'],cv=2, n_jobs = -1)\n",
    "gs2.fit(data)"
   ]
  },
  {
   "cell_type": "code",
   "execution_count": 191,
   "metadata": {},
   "outputs": [
    {
     "name": "stdout",
     "output_type": "stream",
     "text": [
      "0.3850161799077501\n",
      "{'n_factors': 1, 'n_epochs': 30, 'lr_all': 0.002, 'reg_all': 0.03}\n"
     ]
    }
   ],
   "source": [
    "print(gs2.best_score['rmse'])\n",
    "print(gs2.best_params['rmse'])"
   ]
  },
  {
   "cell_type": "code",
   "execution_count": 192,
   "metadata": {},
   "outputs": [],
   "source": [
    "error_3= gs2.best_score['rmse']"
   ]
  },
  {
   "cell_type": "code",
   "execution_count": 216,
   "metadata": {},
   "outputs": [
    {
     "data": {
      "text/plain": [
       "(0.384, 0.389)"
      ]
     },
     "execution_count": 216,
     "metadata": {},
     "output_type": "execute_result"
    },
    {
     "data": {
      "image/png": "[encoded data removed]",
      "text/plain": [
       "<Figure size 864x504 with 1 Axes>"
      ]
     },
     "metadata": {},
     "output_type": "display_data"
    }
   ],
   "source": [
    "plt.figure(figsize=(12,7))\n",
    "\n",
    "errores = {\n",
    "    'Modelos': ['Benchmark', 'SVD', 'SVD++'],\n",
    "    \n",
    "    'RMSE': [error_1 ,error_2, error_3]}\n",
    "\n",
    "tabla_errores = pd.DataFrame(errores, columns = ['Modelos', 'RMSE'])\n",
    "\n",
    "sns.barplot(x = 'Modelos', y = 'RMSE', data = tabla_errores)\n",
    "plt.grid('y')\n",
    "plt.xticks(rotation = 45)\n",
    "plt.ylim([0.384,0.389])"
   ]
  },
  {
   "cell_type": "markdown",
   "metadata": {},
   "source": [
    "#### <font color='green'> **CONCLUSIÓN** <font>"
   ]
  },
  {
   "cell_type": "markdown",
   "metadata": {},
   "source": [
    "Luego de crear y analizar los distintos modelos que fuimos viendo, llegamos a la conclusión de que el mejor modelo para realizar recomendaciones es un **SVD ++** con los siguientes hiperparámtros:\n",
    "\n",
    "+ n_factors: 1\n",
    "+ n_epoch': 20\n",
    "+ lr_all: 0.002\n",
    "+ reg_all: 0.01\n",
    "\n",
    "\n",
    "Si bien la mejoría en su performance respecto a nuestro modelo benchmark y al modelo SVD no es significativa ni sustancial, consideramos que así y todo los resultados obtenidos son bastante satisfactorios.\n",
    "El punto a tener en cuenta yacería en el costo computacional que se esté dispuesto a asumir para obtener esa leve mejoría, pero mejoría al fin, en el desempeño.\n",
    "Para este caso, se considera que el beneficio obtenido en el rendimiento es mayor que el costo a pagar para obtener este performance."
   ]
  },
  {
   "cell_type": "markdown",
   "metadata": {},
   "source": [
    "## PARTE C - INVESTIGACIÓN\n",
    "\n",
    "<font color='blue'>***OPTIMIZACIÓN DEL TIPO DE DATOS***</font>\n",
    "\n",
    "En este apartado, al ejecutar el siguiente código se presentaron problemas en la sección A respectiva al Análisis Exploratirio. Ello se dio al momento de crear las listas de los juegos más y menos populares y al realizar la consulta sobre el promedio de las horas jugadas por los usuarios. En el primer caso, se obtenían listas vacías como respuesta.\n",
    "\n",
    "\n",
    "data_reviews['product_id'] = data_reviews['product_id'].astype(np.uint32)\n",
    "\n",
    "data_reviews['hours'] = data_reviews['hours'].astype(np.float16)\n",
    "\n",
    "data_games['id'] = data_games['id'].astype(np.int32)\n",
    "\n",
    "\n",
    "<font color='blue'>***INCORPORAR ANÁLISIS DE SENTIMIENTO***</font>\n",
    "\n",
    "Esta técnica podría ser de gran utilidad al momento de considerar el atributo 'sentiment' del dataset de los videojuegos. Así, podríamos obtener un estimador bastante fidedigno de la valoración que los usuarios realizan de los videojuegos. Esto podría ser un elemento a considerar si se realiza un filtro basado en contenido o  uno colaborativo basado en ítems (casualmente los dos paradigmas restantes que no fueron empleados en este proyecto).\n",
    "\n",
    "<font color='blue'>***INCORPORAR PROCESAMIENTO DE LENGUAJE NATURAL***</font>\n",
    "\n",
    "Con esta herramienta estaríamos contando con un gran potencial, ya que nos permitiría cuantificar la valoración que los usuarios tienen de los videojuegos a los que le han hecho una review. Aplicando esta estrategia en el dataset de los reviews -en el atributo 'text'-, podría avanzarse en la elaboración de una matriz de utilidad.\n",
    "\n",
    "<font color='blue'>***REALIZAR UN RATING SEGÚN LA CANTIDAD DE HORAS JUGADAS POR EL USUARIO PARA LA CALIFICACIÓN DEL VIDEOJUEGO***</font>\n",
    "\n",
    "Acá lo que se buscaría es ampliar el abanico de posibilidades, para que en vez de obtener un '1' o un '0' como hicimos a raíz de la técnica de la mediana (para determinar si al usuario le gustó o no el videojuego) se pueda ponderar más exhaustivamente la satisfacción del usuario con ese videojuego aplicando una escala. De esta manera, se espera que mejore la precisión de nuestras predicciones y se reduzca el RMSE."
   ]
  }
 ],
 "metadata": {
  "colab": {
   "collapsed_sections": [],
   "name": "Copia de DS_Proyecto_03_SR.ipynb",
   "provenance": []
  },
  "kernelspec": {
   "display_name": "Python 3 (ipykernel)",
   "language": "python",
   "name": "python3"
  },
  "language_info": {
   "codemirror_mode": {
    "name": "ipython",
    "version": 3
   },
   "file_extension": ".py",
   "mimetype": "text/x-python",
   "name": "python",
   "nbconvert_exporter": "python",
   "pygments_lexer": "ipython3",
   "version": "3.9.7"
  }
 },
 "nbformat": 4,
 "nbformat_minor": 4
}
